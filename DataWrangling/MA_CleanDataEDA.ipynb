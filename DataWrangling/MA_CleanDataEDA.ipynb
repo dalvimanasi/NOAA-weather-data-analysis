{
 "cells": [
  {
   "cell_type": "markdown",
   "metadata": {},
   "source": [
    "### Exploratory Data Analysis on the Cleaned Data Set\n",
    "\n",
    "This notebook is to perform an exploratory data analysis on the cleaned data set."
   ]
  },
  {
   "cell_type": "code",
   "execution_count": 5,
   "metadata": {
    "collapsed": true
   },
   "outputs": [],
   "source": [
    "import pandas as pd\n",
    "import numpy as np\n",
    "import matplotlib.pyplot as plt\n",
    "import seaborn as sns\n",
    "import matplotlib.dates as mdates\n",
    "import datetime as dt\n",
    "from datetime import datetime\n",
    "import os\n"
   ]
  },
  {
   "cell_type": "markdown",
   "metadata": {},
   "source": [
    "Initial cleaning includes eliminating SummaryofDay and SummaryofMonth columns. The character values are replaced with numeric to make the data consistent and numeric. The dataset now contains only the Hourly data columns"
   ]
  },
  {
   "cell_type": "markdown",
   "metadata": {},
   "source": [
    "## Import the clean dataset in pandas dataframe"
   ]
  },
  {
   "cell_type": "code",
   "execution_count": null,
   "metadata": {
    "collapsed": true
   },
   "outputs": [],
   "source": [
    "IPATH = os.environ['WRANGLEPATH']+\"/\"\n",
    "dataRB=pd.read_csv(IPATH+\"CleanDataStaticEDA.csv\", dtype='object')"
   ]
  },
  {
   "cell_type": "code",
   "execution_count": 4,
   "metadata": {
    "collapsed": false,
    "scrolled": true
   },
   "outputs": [
    {
     "data": {
      "text/html": [
       "<div>\n",
       "<table border=\"1\" class=\"dataframe\">\n",
       "  <thead>\n",
       "    <tr style=\"text-align: right;\">\n",
       "      <th></th>\n",
       "      <th>STATION</th>\n",
       "      <th>STATION_NAME</th>\n",
       "      <th>ELEVATION</th>\n",
       "      <th>LATITUDE</th>\n",
       "      <th>LONGITUDE</th>\n",
       "      <th>DATE</th>\n",
       "      <th>REPORTTPYE</th>\n",
       "      <th>HOURLYSKYCONDITIONS</th>\n",
       "      <th>HOURLYVISIBILITY</th>\n",
       "      <th>HOURLYPRSENTWEATHERTYPE</th>\n",
       "      <th>...</th>\n",
       "      <th>HOURLYWindDirection</th>\n",
       "      <th>HOURLYWindGustSpeed</th>\n",
       "      <th>HOURLYStationPressure</th>\n",
       "      <th>HOURLYPressureTendency</th>\n",
       "      <th>HOURLYPressureChange</th>\n",
       "      <th>HOURLYSeaLevelPressure</th>\n",
       "      <th>HOURLYPrecip</th>\n",
       "      <th>HOURLYAltimeterSetting</th>\n",
       "      <th>DAILYSunrise</th>\n",
       "      <th>DAILYSunset</th>\n",
       "    </tr>\n",
       "  </thead>\n",
       "  <tbody>\n",
       "    <tr>\n",
       "      <th>count</th>\n",
       "      <td>720236</td>\n",
       "      <td>720236</td>\n",
       "      <td>720236</td>\n",
       "      <td>720236</td>\n",
       "      <td>720236</td>\n",
       "      <td>720236</td>\n",
       "      <td>720236</td>\n",
       "      <td>381854</td>\n",
       "      <td>694444</td>\n",
       "      <td>184568</td>\n",
       "      <td>...</td>\n",
       "      <td>716770</td>\n",
       "      <td>72303</td>\n",
       "      <td>664064</td>\n",
       "      <td>166941</td>\n",
       "      <td>140529</td>\n",
       "      <td>663835</td>\n",
       "      <td>598988</td>\n",
       "      <td>449918</td>\n",
       "      <td>720236</td>\n",
       "      <td>720236</td>\n",
       "    </tr>\n",
       "    <tr>\n",
       "      <th>unique</th>\n",
       "      <td>1</td>\n",
       "      <td>1</td>\n",
       "      <td>1</td>\n",
       "      <td>1</td>\n",
       "      <td>1</td>\n",
       "      <td>720236</td>\n",
       "      <td>8</td>\n",
       "      <td>77214</td>\n",
       "      <td>122</td>\n",
       "      <td>904</td>\n",
       "      <td>...</td>\n",
       "      <td>52</td>\n",
       "      <td>60</td>\n",
       "      <td>259</td>\n",
       "      <td>9</td>\n",
       "      <td>81</td>\n",
       "      <td>292</td>\n",
       "      <td>140</td>\n",
       "      <td>255</td>\n",
       "      <td>181</td>\n",
       "      <td>186</td>\n",
       "    </tr>\n",
       "    <tr>\n",
       "      <th>top</th>\n",
       "      <td>WBAN:14739</td>\n",
       "      <td>BOSTON MA US</td>\n",
       "      <td>3.7</td>\n",
       "      <td>42.3606</td>\n",
       "      <td>-71.0097</td>\n",
       "      <td>2010-04-08 17:54:00</td>\n",
       "      <td>SAO</td>\n",
       "      <td>250</td>\n",
       "      <td>14.91</td>\n",
       "      <td>||FG:45</td>\n",
       "      <td>...</td>\n",
       "      <td>270.0</td>\n",
       "      <td>23.0</td>\n",
       "      <td>30.0</td>\n",
       "      <td>8.0</td>\n",
       "      <td>-0.01</td>\n",
       "      <td>29.94</td>\n",
       "      <td>0.0</td>\n",
       "      <td>30.0</td>\n",
       "      <td>407</td>\n",
       "      <td>1925</td>\n",
       "    </tr>\n",
       "    <tr>\n",
       "      <th>freq</th>\n",
       "      <td>720236</td>\n",
       "      <td>720236</td>\n",
       "      <td>720236</td>\n",
       "      <td>720236</td>\n",
       "      <td>720236</td>\n",
       "      <td>1</td>\n",
       "      <td>396501</td>\n",
       "      <td>11214</td>\n",
       "      <td>182926</td>\n",
       "      <td>31828</td>\n",
       "      <td>...</td>\n",
       "      <td>32994</td>\n",
       "      <td>7139</td>\n",
       "      <td>11636</td>\n",
       "      <td>33010</td>\n",
       "      <td>16286</td>\n",
       "      <td>13799</td>\n",
       "      <td>520740</td>\n",
       "      <td>7899</td>\n",
       "      <td>29966</td>\n",
       "      <td>21551</td>\n",
       "    </tr>\n",
       "  </tbody>\n",
       "</table>\n",
       "<p>4 rows × 28 columns</p>\n",
       "</div>"
      ],
      "text/plain": [
       "           STATION  STATION_NAME ELEVATION LATITUDE LONGITUDE  \\\n",
       "count       720236        720236    720236   720236    720236   \n",
       "unique           1             1         1        1         1   \n",
       "top     WBAN:14739  BOSTON MA US       3.7  42.3606  -71.0097   \n",
       "freq        720236        720236    720236   720236    720236   \n",
       "\n",
       "                       DATE REPORTTPYE HOURLYSKYCONDITIONS HOURLYVISIBILITY  \\\n",
       "count                720236     720236              381854           694444   \n",
       "unique               720236          8               77214              122   \n",
       "top     2010-04-08 17:54:00        SAO                 250            14.91   \n",
       "freq                      1     396501               11214           182926   \n",
       "\n",
       "       HOURLYPRSENTWEATHERTYPE     ...     HOURLYWindDirection  \\\n",
       "count                   184568     ...                  716770   \n",
       "unique                     904     ...                      52   \n",
       "top                    ||FG:45     ...                   270.0   \n",
       "freq                     31828     ...                   32994   \n",
       "\n",
       "       HOURLYWindGustSpeed HOURLYStationPressure HOURLYPressureTendency  \\\n",
       "count                72303                664064                 166941   \n",
       "unique                  60                   259                      9   \n",
       "top                   23.0                  30.0                    8.0   \n",
       "freq                  7139                 11636                  33010   \n",
       "\n",
       "       HOURLYPressureChange HOURLYSeaLevelPressure HOURLYPrecip  \\\n",
       "count                140529                 663835       598988   \n",
       "unique                   81                    292          140   \n",
       "top                   -0.01                  29.94          0.0   \n",
       "freq                  16286                  13799       520740   \n",
       "\n",
       "       HOURLYAltimeterSetting DAILYSunrise DAILYSunset  \n",
       "count                  449918       720236      720236  \n",
       "unique                    255          181         186  \n",
       "top                      30.0          407        1925  \n",
       "freq                     7899        29966       21551  \n",
       "\n",
       "[4 rows x 28 columns]"
      ]
     },
     "execution_count": 4,
     "metadata": {},
     "output_type": "execute_result"
    }
   ],
   "source": [
    "dataRB.describe()"
   ]
  },
  {
   "cell_type": "markdown",
   "metadata": {},
   "source": [
    "# DATE"
   ]
  },
  {
   "cell_type": "code",
   "execution_count": 45,
   "metadata": {
    "collapsed": true
   },
   "outputs": [],
   "source": [
    "dataRB['DATE'] =  pd.to_datetime(dataRB['DATE'])"
   ]
  },
  {
   "cell_type": "code",
   "execution_count": 46,
   "metadata": {
    "collapsed": true
   },
   "outputs": [],
   "source": [
    "\n",
    "full_range = pd.date_range(dataRB['DATE'].min(), dataRB['DATE'].max())\n",
    "missing_dates = full_range[~full_range.isin(dataRB['DATE'])]\n"
   ]
  },
  {
   "cell_type": "code",
   "execution_count": null,
   "metadata": {
    "collapsed": true
   },
   "outputs": [],
   "source": [
    "dataRB['DATE'].value_counts().plot(kind='bar')"
   ]
  },
  {
   "cell_type": "markdown",
   "metadata": {},
   "source": [
    "# HOURLYSKYCONDITIONS                  "
   ]
  },
  {
   "cell_type": "markdown",
   "metadata": {},
   "source": [
    "sky conditions cannot be assumed but a model can be build based on othe parameters to estimate the type of sky."
   ]
  },
  {
   "cell_type": "markdown",
   "metadata": {},
   "source": [
    " null values cannot be estimated by standard data cleaning techniques as it contains multiple value types in single row"
   ]
  },
  {
   "cell_type": "markdown",
   "metadata": {},
   "source": [
    " according to values mostly the skyconditions appear as [CLR clear]"
   ]
  },
  {
   "cell_type": "code",
   "execution_count": 23,
   "metadata": {
    "collapsed": true
   },
   "outputs": [
    {
     "data": {
      "text/plain": [
       "250                                 11214\n",
       "CLR:00                              10521\n",
       "FEW:02 250                           5185\n",
       "OVC:08 4                             3024\n",
       "OVC:08 5                             2867\n",
       "50                                   2708\n",
       "OVC:08 3                             2660\n",
       "OVC:08 6                             2508\n",
       "FEW:02 722                           2307\n",
       "40                                   2241\n",
       "OVC:08 8                             1970\n",
       "OVC:08 7                             1969\n",
       "100                                  1834\n",
       "FEW:02 50                            1772\n",
       "BKN:07 250                           1664\n",
       "FEW:02 60                            1623\n",
       "150  250                             1606\n",
       "SCT:04 250                           1568\n",
       "OVC:08 9                             1551\n",
       "OVC:08 722                           1521\n",
       "60                                   1507\n",
       "BKN:06 722                           1489\n",
       "30                                   1467\n",
       "120                                  1395\n",
       "OVC:08 10                            1381\n",
       "45                                   1360\n",
       "120  250                             1324\n",
       "57                                   1317\n",
       "35                                   1309\n",
       "80                                   1273\n",
       "                                    ...  \n",
       "FEW:01 120 FEW:02 170 SCT:04 722        1\n",
       "17 OVC:08 32                            1\n",
       "FEW:01 8 OVC:08 20                      1\n",
       "FEW:02 5 BKN:07 8 OVC:08 50             1\n",
       "BKN:05 40 SCT:03 100 OVC:08 130         1\n",
       "SCT:04 30 BKN:06 120                    1\n",
       "FEW:01 15 BKN:07 250                    1\n",
       "FEW:02 85 SCT:04 140 SCT:04 240         1\n",
       "FEW:02 16 SCT:04 25 OVC:08 80           1\n",
       "27  80  95                              1\n",
       "SCT:04 6 BKN:07 18 OVC:08 34            1\n",
       "140 SCT:04 330                          1\n",
       "BKN:07 120 SCT:04 250                   1\n",
       "FEW:02 40 FEW:01 90                     1\n",
       "FEW:02 16 FEW:02 34 FEW:02 177          1\n",
       "25 OVC:08 46                            1\n",
       "SCT:04 31 BKN:07 49 OVC:08 85           1\n",
       "FEW:01 150 FEW:02 180 BKN:07 722        1\n",
       "FEW:02 9 BKN:07 98 OVC:08 157           1\n",
       "SCT:03 50 SCT:04 100 OVC:08 722         1\n",
       "BKN:07 28 SCT:04 80                     1\n",
       "2  55  150                              1\n",
       "FEW:02 20 OVC:08 220                    1\n",
       "FEW:02 27 BKN:07 43 OVC:08 100          1\n",
       "FEW:02 45 BKN:07 80 BKN:07 250          1\n",
       "FEW:02 22 BKN:07 42 OVC:08 55           1\n",
       "SCT:03 11 FEW:01 30 SCT:04 250          1\n",
       "FEW:02 138 FEW:02 246 BKN:07 295        1\n",
       "FEW:02 49 FEW:02 217 OVC:08 295         1\n",
       "70 BKN:06 100                           1\n",
       "Name: HOURLYSKYCONDITIONS, dtype: int64"
      ]
     },
     "execution_count": 23,
     "metadata": {},
     "output_type": "execute_result"
    }
   ],
   "source": [
    "df=dataRB['HOURLYSKYCONDITIONS'].value_counts(sort=True, ascending=False)\n",
    "df"
   ]
  },
  {
   "cell_type": "markdown",
   "metadata": {},
   "source": [
    "# HOURLYPRSENTWEATHERTYPE              "
   ]
  },
  {
   "cell_type": "markdown",
   "metadata": {},
   "source": [
    "\n",
    "weather type cannot be assumed but a model can be build based on othe parameters to estimate the type of weather "
   ]
  },
  {
   "cell_type": "code",
   "execution_count": 82,
   "metadata": {
    "collapsed": true
   },
   "outputs": [
    {
     "data": {
      "text/plain": [
       "||FG:45                                          31828\n",
       "||FG:45 RA:61                                    15601\n",
       "||RA:61                                          15500\n",
       "||HZ:05                                          14904\n",
       "||FU:04                                          10900\n",
       "||FG:45 DZ:51                                     8725\n",
       "||SHRA:80                                         8038\n",
       "||FU:04 HZ:05                                     7661\n",
       "BR:1 ||                                           6806\n",
       "-RA:02 BR:1 |RA:61 |RA:61                         4010\n",
       "-SN:03 BR:1 |SN:71 |                              3508\n",
       "-RA:02 |RA:61 |RA:61                              3388\n",
       "||FG:45 SHRA:80                                   3186\n",
       "||FG:45 RA:63                                     2840\n",
       "||FG:45 DZ:51 RA:61                               2341\n",
       "-RA:02 BR:1 |RA:61 |                              2330\n",
       "||SHSN:85                                         2168\n",
       "||HZ:05 FG:45                                     2160\n",
       "||FU:04 FG:45                                     2025\n",
       "-SN:03 |SN:71 |                                   1888\n",
       "||DZ:51                                           1881\n",
       "RA:02 BR:1 |RA:62 |RA:63                          1709\n",
       "-RA:02 |RA:61 |                                   1641\n",
       "||RA:63                                           1476\n",
       "HZ:7 ||HZ:05                                       991\n",
       "||FG:45 RA:65                                      903\n",
       "RA:02 BR:1 |RA:62 |                                882\n",
       "||FU:04 FG:11 FG:44                                872\n",
       "+RA:02 BR:1 |RA:63 |RA:65                          787\n",
       "-DZ:01 BR:1 |DZ:51 |DZ:51                          736\n",
       "                                                 ...  \n",
       "||FG:45 SHRA:80 SHRASN:83                            1\n",
       "||PL:79 SHRA:80 SHSN:85                              1\n",
       "-PL:06 RA:02 |FZRA:64 PL:74 |FZRA:67 PL:79           1\n",
       "||RA:61 SHRA:81                                      1\n",
       "||SHRA:80 SH:87                                      1\n",
       "FU:3 |HZ:04 FU:05 |                                  1\n",
       "||DZ:51 DZ:58 RA:61                                  1\n",
       "||FZRA:67 PL:79                                      1\n",
       "-RA:02 |RA:61 |FG:41                                 1\n",
       "||SH:87 SH:88                                        1\n",
       "RA:02 PL:06 |RA:62 PL:75 |RA:63 PL:79                1\n",
       "SN:03 FG:2 |FG:35 SN:72 TS:90 |FG:48 TS:95           1\n",
       "BR:1 |TS:90 TS:91 |                                  1\n",
       "|s s |FG:40                                          1\n",
       "|SN:71 |BLSN:38                                      1\n",
       "|FG:35 SN:72 |FG:49                                  1\n",
       "-RA:02 BR:1 |RA:61 |DZ:51                            1\n",
       "||SHSN:85 SHSN:86                                    1\n",
       "||TS:17 SQ:18 RA:63                                  1\n",
       "|DZ:51 s |DZ:51                                      1\n",
       "-PL:06 BR:1 |* * |PL:79                              1\n",
       "GR:07 RA:02 |SQ:18 s RA:62 s TS:90 s |SH:90 s        1\n",
       "SN:03 PL:06 |SN:72 PL:75 |PL:79                      1\n",
       "|s RA:63 s |                                         1\n",
       "||FG:45 SH:89                                        1\n",
       "||DZ:51 RA:60                                        1\n",
       "||FG:11 FG:42 FG:45                                  1\n",
       "||HZ:05 FZRA:66                                      1\n",
       "||SH:89                                              1\n",
       "||SHRA:80 RA:91 TS:95                                1\n",
       "Name: HOURLYPRSENTWEATHERTYPE, dtype: int64"
      ]
     },
     "execution_count": 82,
     "metadata": {},
     "output_type": "execute_result"
    }
   ],
   "source": [
    "dataRB['HOURLYPRSENTWEATHERTYPE'].value_counts()"
   ]
  },
  {
   "cell_type": "markdown",
   "metadata": {},
   "source": [
    "  # HOURLYDRYBULBTEMPF and HOURLYDRYBULBTEMPC"
   ]
  },
  {
   "cell_type": "markdown",
   "metadata": {},
   "source": [
    "Missing values are interpolated where ever previous and next value is available. But we still have bulk missing values which cannot be solved by interpolation as it distorts the data and has to cleaned with other strategies.\n",
    "Character values and adjusted values have been eliminated."
   ]
  },
  {
   "cell_type": "code",
   "execution_count": 26,
   "metadata": {
    "collapsed": true
   },
   "outputs": [
    {
     "data": {
      "text/plain": [
       "array(['41.0', '39.0', '38.0', '36.0', '37.0', '46.0', '48.0', '47.0',\n",
       "       '44.0', '51.0', '54.0', '57.0', '59.0', '61.0', '58.0', '56.0',\n",
       "       '45.0', '43.0', '49.0', '42.0', '40.0', '50.0', '52.0', '17.0',\n",
       "       '14.0', '12.0', '11.0', '9.0', '10.0', '13.0', '15.0', '18.0',\n",
       "       '35.0', '33.0', '31.0', '28.0', '30.0', '29.0', '27.0', '26.0',\n",
       "       '32.0', '34.0', '8.0', '7.0', '6.0', '5.0', '16.0', '25.0', '20.0',\n",
       "       '19.0', '24.0', '23.0', '21.0', '53.0', '62.0', '64.0', '63.0',\n",
       "       '55.0', '60.0', '76.0', '75.0', '78.0', '79.0', '86.0', '84.0',\n",
       "       '81.0', '73.0', '69.0', '66.0', '65.0', '67.0', '74.0', '77.0',\n",
       "       '80.0', '72.0', '85.0', '82.0', '71.0', '70.0', '68.0', '83.0',\n",
       "       '87.0', '90.0', '91.0', '89.0', '92.0', '93.0', '22.0', '4.0',\n",
       "       '2.0', '1.0', '0.0', '-1.0', '-2.0', '-3.0', '-4.0', '95.0', '96.0',\n",
       "       '88.0', '94.0', '3.0', '97.0', '98.0', '99.0', '100.0', nan, '-5.0',\n",
       "       '-6.0', '-7.0', '-9.0', '-10.0', '-12.0', '-11.0', '102.0', '101.0',\n",
       "       '-8.0'], dtype=object)"
      ]
     },
     "execution_count": 26,
     "metadata": {},
     "output_type": "execute_result"
    }
   ],
   "source": [
    "# unique values: contains * and character values.\n",
    "dataRB.HOURLYDRYBULBTEMPF.unique()"
   ]
  },
  {
   "cell_type": "code",
   "execution_count": 35,
   "metadata": {
    "collapsed": true
   },
   "outputs": [
    {
     "data": {
      "text/plain": [
       "63     14401\n",
       "64     14146\n",
       "37     13950\n",
       "66     13904\n",
       "50     13766\n",
       "39     13664\n",
       "34     13659\n",
       "45     13622\n",
       "36     13430\n",
       "70     13400\n",
       "43     13338\n",
       "57     13296\n",
       "48     13263\n",
       "54     13186\n",
       "61     13168\n",
       "55     13149\n",
       "68     13142\n",
       "40     13028\n",
       "46     13024\n",
       "41     12819\n",
       "52     12602\n",
       "65     12565\n",
       "42     12492\n",
       "38     12260\n",
       "60     12104\n",
       "67     12049\n",
       "47     12030\n",
       "62     11913\n",
       "59     11890\n",
       "69     11766\n",
       "       ...  \n",
       "55s        2\n",
       "75s        2\n",
       "76s        2\n",
       "73s        2\n",
       "47s        2\n",
       "53s        2\n",
       "66s        2\n",
       "78s        2\n",
       "-12        2\n",
       "51s        1\n",
       "72s        1\n",
       "90s        1\n",
       "79s        1\n",
       "4s         1\n",
       "64s        1\n",
       "91s        1\n",
       "50s        1\n",
       "77s        1\n",
       "74s        1\n",
       "63s        1\n",
       "38s        1\n",
       "42s        1\n",
       "43s        1\n",
       "-11        1\n",
       "44s        1\n",
       "34s        1\n",
       "59s        1\n",
       "-9s        1\n",
       "-10        1\n",
       "3s         1\n",
       "Name: HOURLYDRYBULBTEMPF, dtype: int64"
      ]
     },
     "execution_count": 35,
     "metadata": {},
     "output_type": "execute_result"
    }
   ],
   "source": [
    "#value_counts\n",
    "dataRB['HOURLYDRYBULBTEMPF'].value_counts()"
   ]
  },
  {
   "cell_type": "code",
   "execution_count": 95,
   "metadata": {
    "collapsed": false,
    "scrolled": true
   },
   "outputs": [
    {
     "data": {
      "image/png": "[encoded data removed]",
      "text/plain": [
       "<matplotlib.figure.Figure at 0x1c7611528d0>"
      ]
     },
     "metadata": {},
     "output_type": "display_data"
    }
   ],
   "source": [
    "dataRB['HOURLYDRYBULBTEMPF'].value_counts().plot(kind='barh')\n",
    "plt.show()"
   ]
  },
  {
   "cell_type": "code",
   "execution_count": 28,
   "metadata": {
    "collapsed": false
   },
   "outputs": [
    {
     "name": "stderr",
     "output_type": "stream",
     "text": [
      "C:\\Users\\Manasi\\Anaconda3\\lib\\site-packages\\ipykernel\\__main__.py:1: FutureWarning:\n",
      "\n",
      "convert_objects is deprecated.  Use the data-type specific converters pd.to_datetime, pd.to_timedelta and pd.to_numeric.\n",
      "\n"
     ]
    }
   ],
   "source": [
    " df=dataRB[['HOURLYDRYBULBTEMPF']].convert_objects(convert_numeric=True)"
   ]
  },
  {
   "cell_type": "code",
   "execution_count": 29,
   "metadata": {
    "collapsed": true
   },
   "outputs": [
    {
     "data": {
      "image/png": "[encoded data removed]",
      "text/plain": [
       "<matplotlib.figure.Figure at 0x1c72215bfd0>"
      ]
     },
     "metadata": {},
     "output_type": "display_data"
    }
   ],
   "source": [
    "# boxplot \n",
    "df.plot(kind='box')\n",
    "plt.show()"
   ]
  },
  {
   "cell_type": "code",
   "execution_count": 30,
   "metadata": {
    "collapsed": true
   },
   "outputs": [
    {
     "data": {
      "text/plain": [
       "array(['5.2', '4.1', '3.5', '2.4', '3.0', '8.0', '9.1', '8.5', '6.9',\n",
       "       '10.7', '12.4', '14.1', '15.2', '16.3', '14.6', '13.5', '7.4',\n",
       "       '6.3', '9.6', '5.8', '4.6', '10.2', '11.3', '-8.1', '-9.8', '-10.9',\n",
       "       '-11.5', '-12.6', '-12.0', '-10.3', '-9.2', '-7.6', '1.9', '0.8',\n",
       "       '-0.4', '-2.0', '-0.9', '-1.5', '-2.6', '-3.1', '0.2', '1.3',\n",
       "       '-13.1', '-13.7', '-14.2', '-14.8', '-8.7', '-3.7', '-6.5', '-7.0',\n",
       "       '-4.2', '-4.8', '-5.9', '11.9', '16.9', '18.0', '17.4', '13.0',\n",
       "       '15.7', '24.6', '24.1', '25.7', '26.3', '30.2', '29.1', '27.4',\n",
       "       '23.0', '20.7', '19.1', '18.5', '19.6', '23.5', '25.2', '26.8',\n",
       "       '22.4', '29.6', '28.0', '21.8', '21.3', '20.2', '28.5', '30.7',\n",
       "       '32.4', '32.9', '31.8', '33.5', '34.1', '6.1', '7.2', '8.9', '11.1',\n",
       "       '12.8', '15.0', '13.9', '10.0', '5.0', '3.3', '2.2', '1.7', '1.1',\n",
       "       '0.6', '-1.1', '-1.7', '-0.6', '-2.8', '-3.9', '-4.4', '-5.0',\n",
       "       '-5.6', '-6.7', '-7.2', '-7.8', '-8.3', '-8.9', '-3.3', '0.0',\n",
       "       '4.4', '5.6', '6.7', '2.8', '-6.1', '-9.4', '-10.0', '-10.6',\n",
       "       '-11.1', '-12.8', '-13.3', '-12.2', '-11.7', '-10.5', '-13.9',\n",
       "       '-14.4', '-15.0', '-15.6', '3.9', '-2.2', '-16.7', '-17.2', '-17.8',\n",
       "       '-18.3', '-18.9', '-19.4', '-20.0', '8.3', '9.4', '7.8', '10.6',\n",
       "       '15.6', '16.1', '13.3', '11.7', '18.3', '20.0', '21.1', '21.7',\n",
       "       '20.6', '19.4', '16.7', '17.2', '12.2', '14.4', '23.9', '25.0',\n",
       "       '25.6', '17.8', '18.9', '24.4', '26.7', '27.2', '28.3', '28.9',\n",
       "       '29.4', '26.1', '22.8', '22.2', '23.3', '27.8', '31.7', '33.9',\n",
       "       '35.0', '35.6', '32.8', '30.0', '30.6', '31.1', '32.2', '34.4',\n",
       "       '33.3', '-16.1', '36.1', '36.7', '37.2', '37.8', nan, '-20.6',\n",
       "       '-21.1', '-21.7', '-22.8', '-23.3', '-24.4', '-23.9', '24.0',\n",
       "       '15.5', '10.5', '-15.5', '38.9', '38.3', '-0.5', '-1.6', '-2.7',\n",
       "       '-6.0', '-2.1', '-3.2', '-3.8', '-11.0', '-7.7', '-1.0', '20.5',\n",
       "       '8.8', '6.6', '5.5', '1.6', '0.5', '2.7', '3.8', '7.7', '13.8',\n",
       "       '17.7', '11.6', '18.8', '12.7', '16.6', '26.6', '27.7', '22.7',\n",
       "       '21.6', '23.8', '21.0', '19.0', '27.0', '22.0', '26.0', '17.0',\n",
       "       '16.0', '31.0', '14.0', '11.0', '12.0', '7.0', '9.0', '6.0', '4.0',\n",
       "       '1.0', '2.0', '-3.0', '7.5', '-9.0', '-4.0', '-8.0', '32.0', '29.0',\n",
       "       '33.0', '10.8', '19.2', '19.9', '-14.0', '-16.0', '-13.0', '14.2',\n",
       "       '12.5', '36.0', '-17.0', '-18.0', '13.2', '24.2', '18.7', '22.1',\n",
       "       '19.3', '22.5', '29.5', '29.7', '9.5', '6.4', '6.5', '4.8', '2.1',\n",
       "       '5.3', '4.9', '34.0', '9.3', '21.4', '0.7', '0.9', '-19.0', '-21.0',\n",
       "       '-22.0', '1.2', '30.8', '22.3', '20.4', '18.6', '-5.5', '15.9',\n",
       "       '-4.1', '-4.5', '4.5', '4.2', '4.3', '10.4', '6.8', '6.2', '3.6',\n",
       "       '3.7', '16.4', '0.3', '-0.3', '-22.2', '31.2', '32.1'], dtype=object)"
      ]
     },
     "execution_count": 30,
     "metadata": {},
     "output_type": "execute_result"
    }
   ],
   "source": [
    "dataRB.HOURLYDRYBULBTEMPC.unique()"
   ]
  },
  {
   "cell_type": "code",
   "execution_count": 31,
   "metadata": {
    "collapsed": false
   },
   "outputs": [
    {
     "data": {
      "text/plain": [
       "24258"
      ]
     },
     "execution_count": 31,
     "metadata": {},
     "output_type": "execute_result"
    }
   ],
   "source": [
    "dataRB.HOURLYDRYBULBTEMPC.isnull().sum()"
   ]
  },
  {
   "cell_type": "markdown",
   "metadata": {},
   "source": [
    "# HOURLYWETBULBTEMPF & C\n",
    "\n",
    "Wetbulb temperature is calculated using drybulb and dewpoint reducing the null values from 83139 to 36606. The charater values are stripped, and nan values are interpolated wherever possible. Has bulk missing value issues.            "
   ]
  },
  {
   "cell_type": "code",
   "execution_count": 42,
   "metadata": {
    "collapsed": true
   },
   "outputs": [
    {
     "data": {
      "text/plain": [
       "63     14447\n",
       "62     14319\n",
       "64     14065\n",
       "38     14030\n",
       "61     13548\n",
       "65     13482\n",
       "33     13309\n",
       "60     13235\n",
       "58     13109\n",
       "55     13054\n",
       "57     13014\n",
       "35     12857\n",
       "59     12793\n",
       "40     12787\n",
       "37     12742\n",
       "39     12711\n",
       "54     12414\n",
       "32     12301\n",
       "34     12248\n",
       "36     12239\n",
       "43     12238\n",
       "46     12221\n",
       "45     12052\n",
       "56     12049\n",
       "53     12026\n",
       "48     11802\n",
       "66     11702\n",
       "44     11699\n",
       "47     11645\n",
       "51     11572\n",
       "       ...  \n",
       "3        318\n",
       "2        295\n",
       "83       282\n",
       "1        201\n",
       "84       176\n",
       "0        164\n",
       "-1       152\n",
       "85        89\n",
       "-3        86\n",
       "-2        55\n",
       "-4        53\n",
       "86        46\n",
       "87        33\n",
       "-5        27\n",
       "*         13\n",
       "88        11\n",
       "90        10\n",
       "-6         8\n",
       "-10        8\n",
       "91         5\n",
       "-7         5\n",
       "92         4\n",
       "-8         4\n",
       "89         3\n",
       "-9         2\n",
       "93         2\n",
       "-13        2\n",
       "-12        1\n",
       "-11        1\n",
       "94         1\n",
       "Name: HOURLYWETBULBTEMPF, dtype: int64"
      ]
     },
     "execution_count": 42,
     "metadata": {},
     "output_type": "execute_result"
    }
   ],
   "source": [
    "dataRB['HOURLYWETBULBTEMPF'].value_counts()"
   ]
  },
  {
   "cell_type": "code",
   "execution_count": 33,
   "metadata": {
    "collapsed": true
   },
   "outputs": [
    {
     "data": {
      "text/plain": [
       "array(['39.333333333333336', '38.333333333333336', '36.66666666666666',\n",
       "       '34.666666666666664', '35.666666666666664', '37.333333333333336',\n",
       "       '41.333333333333336', '43.0', '45.0', '44.33333333333334',\n",
       "       '42.66666666666666', '42.0', '41.66666666666666', '38.0',\n",
       "       '40.333333333333336', '44.0', '45.66666666666666', '46.0', '48.0',\n",
       "       '45.33333333333334', '43.66666666666666', '39.0',\n",
       "       '38.66666666666666', '40.66666666666666', '42.333333333333336',\n",
       "       '37.0', '35.0', '36.333333333333336', '36.0', '40.0',\n",
       "       '44.66666666666666', '46.33333333333334', '47.0',\n",
       "       '46.66666666666666', '13.666666666666664', '11.0', '9.0',\n",
       "       '7.666666666666666', '6.0', '4.666666666666667',\n",
       "       '9.666666666666666', '11.333333333333336', '12.666666666666664',\n",
       "       '14.666666666666664', '16.0', '15.666666666666664', '7.0',\n",
       "       '5.666666666666666', '4.666666666666666', '4.0',\n",
       "       '2.333333333333334', '2.666666666666667', '27.33333333333333',\n",
       "       '29.66666666666667', '30.666666666666664', '31.666666666666664',\n",
       "       '37.66666666666666', '35.333333333333336', '33.0',\n",
       "       '32.666666666666664', '32.333333333333336', '26.66666666666667',\n",
       "       '24.0', '41.0', '39.66666666666666', '34.333333333333336',\n",
       "       '33.666666666666664', '30.0', '21.666666666666664',\n",
       "       '24.66666666666667', '26.0', '25.0', '29.0', '3.333333333333333',\n",
       "       '2.6666666666666665', '1.6666666666666663', '2.0', '3.0',\n",
       "       '4.333333333333333', '6.333333333333332', '8.666666666666668',\n",
       "       '9.666666666666668', '13.0', '12.666666666666668',\n",
       "       '13.333333333333336', '25.33333333333333', '30.66666666666667',\n",
       "       '31.33333333333333', '28.0', '23.0', '33.333333333333336',\n",
       "       '31.66666666666667', '30.33333333333333', '34.0',\n",
       "       '23.33333333333333', '22.66666666666667', '22.0',\n",
       "       '21.66666666666667', '22.33333333333333', '28.33333333333333',\n",
       "       '11.666666666666664', '5.0', '6.666666666666666', '0.0', '1.0',\n",
       "       '0.666666666666667', '1.333333333333333', '2.333333333333333',\n",
       "       '9.333333333333334', '11.333333333333332', '43.33333333333334',\n",
       "       '47.33333333333334', '32.0', '25.66666666666667',\n",
       "       '30.333333333333336', '29.666666666666664', '25.333333333333336',\n",
       "       '27.66666666666667', '31.0', '20.666666666666668',\n",
       "       '18.666666666666668', '15.0', '14.333333333333332',\n",
       "       '11.666666666666668', '12.0', '14.333333333333336', '19.0', '21.0',\n",
       "       '15.666666666666668', '16.333333333333332', '17.333333333333332',\n",
       "       '20.0', '20.666666666666664', '20.333333333333336',\n",
       "       '17.666666666666664', '17.666666666666668', '29.33333333333333',\n",
       "       '27.0', '28.66666666666667', '28.666666666666664',\n",
       "       '24.33333333333333', '51.0', '55.0', '57.66666666666666', '60.0',\n",
       "       '59.66666666666666', '60.33333333333334', '58.33333333333334',\n",
       "       '50.66666666666666', '50.33333333333334', '48.33333333333334',\n",
       "       '48.66666666666666', '50.0', '52.66666666666666', '52.0', '53.0',\n",
       "       nan, '61.66666666666666', '61.0', '57.0', '56.66666666666666',\n",
       "       '57.33333333333334', '62.0', '55.33333333333334', '54.0',\n",
       "       '53.33333333333334', '52.33333333333334', '51.66666666666666',\n",
       "       '55.66666666666666', '54.66666666666666', '49.66666666666666',\n",
       "       '51.33333333333334', '59.0', '58.0', '49.0', '47.66666666666666',\n",
       "       '62.33333333333334', '62.66666666666666', '63.0',\n",
       "       '61.33333333333334', '58.66666666666666', '63.66666666666666',\n",
       "       '63.33333333333334', '56.0', '56.33333333333334', '17.0', '14.0',\n",
       "       '18.0', '10.0', '8.0', '1.666666666666667', '-1.0', '-3.0', '-4.0',\n",
       "       '-5.0', '65.0', '67.0', '68.0', '66.0', '69.0', '70.0', '72.0',\n",
       "       '74.0', '75.0', '64.0', '71.0', '73.0', '54.33333333333334', '76.0',\n",
       "       '78.0', '81.0', '83.0', '84.0', '80.0', '77.0', '82.0', '79.0',\n",
       "       '49.33333333333334', '-2.0', '59.33333333333334', '87.0', '86.0',\n",
       "       '53.66666666666666', '15.333333333333336', '85.0', '88.0', '90.0',\n",
       "       '91.0', '92.0', '89.0', '-6.0', '-7.0', '-8.0', '-10.0', '-11.0',\n",
       "       '-13.0', '-12.0', '-2.666666666666667', '64.66666666666667',\n",
       "       '64.33333333333333', '60.66666666666666', '19.33333333333333',\n",
       "       '23.666666666666664', '18.33333333333333', '23.333333333333336',\n",
       "       '25.666666666666664', '21.33333333333333', '19.666666666666668',\n",
       "       '20.33333333333333', '19.333333333333336', '15.333333333333332',\n",
       "       '16.333333333333336', '14.666666666666668', '13.666666666666668',\n",
       "       '16.666666666666668', '24.666666666666664', '27.333333333333336',\n",
       "       '26.33333333333333', '23.66666666666667', '26.333333333333336',\n",
       "       '24.333333333333336', '13.333333333333332', '10.333333333333332',\n",
       "       '7.333333333333332', '8.333333333333332', '10.666666666666666',\n",
       "       '8.333333333333334', '2.666666666666666', '12.333333333333332',\n",
       "       '31.333333333333336', '29.333333333333336', '9.333333333333332',\n",
       "       '26.666666666666664', '22.333333333333336', '18.666666666666664',\n",
       "       '16.666666666666664', '7.666666666666668', '22.666666666666664',\n",
       "       '21.333333333333336', '19.666666666666664', '28.333333333333336',\n",
       "       '3.666666666666667', '5.333333333333333', '5.666666666666668',\n",
       "       '6.666666666666668', '0.33333333333333304', '-0.666666666666667',\n",
       "       '-2.333333333333333', '-1.666666666666667', '-3.666666666666667',\n",
       "       '7.333333333333334', '-1.333333333333333', '-3.333333333333333',\n",
       "       '-4.333333333333333', '-0.6666666666666665', '5.333333333333334',\n",
       "       '10.666666666666668', '-0.33333333333333304', '3.666666666666666',\n",
       "       '12.333333333333336', '1.3333333333333337', '17.333333333333336',\n",
       "       '18.333333333333336', '8.666666666666666', '27.666666666666664',\n",
       "       '10.333333333333334', '4.333333333333334', '6.333333333333334',\n",
       "       '3.333333333333334', '1.666666666666666', '-4.666666666666667',\n",
       "       '-1.333333333333334', '-2.333333333333334', '-5.333333333333333',\n",
       "       '-6.333333333333332', '-5.666666666666668', '-6.666666666666668',\n",
       "       '-7.333333333333332', '-8.333333333333332', '-8.666666666666668',\n",
       "       '-9.333333333333332', '-2.666666666666666', '-1.666666666666666',\n",
       "       '-0.3333333333333335', '-1.3333333333333337', '-3.6666666666666665',\n",
       "       '-10.666666666666668', '-11.333333333333332', '-12.666666666666668',\n",
       "       '-12.333333333333332', '-9.0', '1.333333333333334',\n",
       "       '43.66666666666667', '93.0', '94.0'], dtype=object)"
      ]
     },
     "execution_count": 33,
     "metadata": {},
     "output_type": "execute_result"
    }
   ],
   "source": [
    "dataRB.HOURLYWETBULBTEMPF.unique()"
   ]
  },
  {
   "cell_type": "code",
   "execution_count": 47,
   "metadata": {
    "collapsed": true
   },
   "outputs": [
    {
     "name": "stderr",
     "output_type": "stream",
     "text": [
      "C:\\Users\\Manasi\\Anaconda3\\lib\\site-packages\\ipykernel\\__main__.py:1: FutureWarning:\n",
      "\n",
      "convert_objects is deprecated.  Use the data-type specific converters pd.to_datetime, pd.to_timedelta and pd.to_numeric.\n",
      "\n"
     ]
    },
    {
     "data": {
      "image/png": "[encoded data removed]",
      "text/plain": [
       "<matplotlib.figure.Figure at 0x25440eb4160>"
      ]
     },
     "metadata": {},
     "output_type": "display_data"
    }
   ],
   "source": [
    "df=dataRB[['HOURLYWETBULBTEMPF']].convert_objects(convert_numeric=True)\n",
    "# boxplot \n",
    "df.plot(kind='box')\n",
    "plt.show()"
   ]
  },
  {
   "cell_type": "markdown",
   "metadata": {},
   "source": [
    "# HOURLYWETBULBTEMPF & C "
   ]
  },
  {
   "cell_type": "markdown",
   "metadata": {},
   "source": [
    "Wetbulb temperature is calculated using drybulb and dewpoint reducing the null values from 83139 to 36606. The charater values are stripped."
   ]
  },
  {
   "cell_type": "code",
   "execution_count": 38,
   "metadata": {
    "collapsed": true
   },
   "outputs": [
    {
     "data": {
      "text/plain": [
       "array([nan, '6.1', '6.9', '8.9', '11.1', '12.1', '13.3', '12.8', '13.2',\n",
       "       '13.5', '11.2', '9.8', '9.3', '3.5', '1.9', '1', '0.9', '0', '-0.7',\n",
       "       '-1.2', '-1.6', '-3.2', '-3.3', '-3.6', '-3.9', '-3.8', '-3.4',\n",
       "       '-2.9', '-3', '-4', '-5.2', '-6.1', '-6.4', '-7', '-8.4', '-8.8',\n",
       "       '-8.9', '-9.4', '-9.8', '-10.3', '-10.5', '-8.5', '-7.5', '-5.7',\n",
       "       '-4.2', '-3.7', '-2.8', '-2.4', '-2.6', '-2', '-1.3', '-0.4', '2.7',\n",
       "       '3.4', '3.8', '3.9', '5', '4.9', '4.5', '4.2', '1.8', '0.5', '0.4',\n",
       "       '-0.5', '-1.5', '-5.8', '-7.1', '-8.1', '-7.6', '-7.7', '-7.2',\n",
       "       '-6.7', '-6.3', '-6.2', '-8.7', '-9.1', '-9.7', '-10.1', '-10.2',\n",
       "       '-10.7', '-11.1', '-11', '-11.5', '-12', '-12.1', '-12.6', '-14',\n",
       "       '-14.6', '-13.6', '-11.6', '-10.4', '-12.5', '-13.1', '-13.5',\n",
       "       '-13', '-11.9', '-11.3', '-10.6', '-9.5', '-9.9', '-8.6', '-7.4',\n",
       "       '-6.8', '-6.6', '-6', '-5.6', '-5.4', '-4.9', '-2.7', '-2.2',\n",
       "       '-2.3', '-2.5', '-1', '-0.9', '-0.1', '0.2', '-0.2', '-1.8', '-3.5',\n",
       "       '-5.3', '-9.3', '-11.2', '-11.8', '-14.5', '-15.1', '-15.6',\n",
       "       '-11.7', '-14.1', '-16.1', '-16', '-16.5', '-12.7', '-9.2', '-8.2',\n",
       "       '-10', '-9.6', '-4.8', '0.3', '1.7', '1.6', '1.5', '1.2', '0.8',\n",
       "       '0.6', '1.3', '-0.6', '-0.8', '-7.9', '-7.8', '-4.1', '-2.1',\n",
       "       '-1.1', '-1.4', '-4.3', '-5.9', '-6.5', '-6.9', '-8.3', '-10.9',\n",
       "       '-12.3', '-11.4', '-4.6', '-1.7', '-8', '-7.3', '-4.5', '-5',\n",
       "       '-0.3', '0.1', '-5.1', '-14.4', '-15.5', '-16.7', '-17.7', '-18.2',\n",
       "       '-18.6', '-19.2', '-19.7', '-20.3', '-20.2', '-20.7', '-19.9',\n",
       "       '-17.6', '-14.2', '-12.2', '-13.2', '-15.2', '-4.4', '-4.7', '-9',\n",
       "       '1.1', '2.5', '-5.5', '-10.8', '-3.1', '0.7', '1.4', '2.2', '2',\n",
       "       '3.1', '2.1', '3.3', '2.3', '2.8', '3.7', '3.2', '5.3', '3.6',\n",
       "       '8.3', '8', '7.2', '8.8', '7.5', '4.8', '4.1', '2.6', '2.4', '4.4',\n",
       "       '7.7', '9.6', '4.3', '5.6', '6', '6.3', '5.1', '4.6', '6.2', '7.1',\n",
       "       '6.7', '5.2', '4.7', '5.5', '12', '12.5', '11.6', '10.4', '2.9',\n",
       "       '8.5', '8.2', '7.4', '5.4', '-1.9', '6.5', '7', '5.8', '9.5',\n",
       "       '10.7', '10.6', '9', '7.6', '8.4', '9.4', '14.9', '15.9', '16.3',\n",
       "       '15.5', '15.1', '14.7', '13.4', '10.9', '11.5', '9.9', '6.6', '6.4',\n",
       "       '4', '5.7', '11.7', '12.4', '16.6', '14.2', '12.2', '8.6', '7.8',\n",
       "       '9.2', '11.4', '11', '9.7', '17.2', '18.5', '19.3', '19.8', '10',\n",
       "       '5.9', '3', '13.9', '15.3', '17.1', '13.1', '8.1', '7.9', '14.1',\n",
       "       '18.3', '6.8', '7.3', '12.7', '11.3', '11.8', '16', '18.8', '20.8',\n",
       "       '21.2', '22.4', '23.1', '23.4', '22.3', '23.6', '20.3', '18.4',\n",
       "       '17.4', '16.4', '15', '15.2', '14.4', '13', '15.4', '12.9', '10.3',\n",
       "       '10.2', '10.1', '12.3', '16.1', '17.6', '14', '14.6', '13.8',\n",
       "       '14.5', '14.8', '14.3', '13.7', '9.1', '15.8', '10.5', '17.3',\n",
       "       '16.5', '16.9', '16.8', '20.5', '21.3', '21.7', '22.7', '19.1',\n",
       "       '17', '16.7', '16.2', '19.6', '18.1', '15.7', '15.6', '18.9',\n",
       "       '20.4', '21.9', '21.4', '18', '17.5', '12.6', '13.6', '11.9',\n",
       "       '10.8', '19.9', '20.1', '20.6', '18.7', '17.8', '8.7', '17.7',\n",
       "       '21.1', '22.9', '22.2', '19.5', '19.7', '19.4', '21', '18.2',\n",
       "       '17.9', '23.7', '23.8', '21.6', '20.9', '24.3', '25.5', '27.2',\n",
       "       '28.1', '28.6', '27.3', '26.4', '23', '23.2', '19', '25', '24.6',\n",
       "       '24.8', '24.2', '19.2', '23.3', '23.9', '20.7', '22.8', '21.8',\n",
       "       '18.6', '21.5', '24.5', '25.8', '24.9', '22.5', '26.5', '26.8',\n",
       "       '27', '27.5', '26.6', '27.7', '26', '24', '22.1', '27.1', '25.3',\n",
       "       '25.6', '23.5', '22.6', '24.4', '20', '24.7', '20.2', '25.4',\n",
       "       '24.1', '22', '25.2', '25.7', '26.2', '26.1', '26.7', '27.9',\n",
       "       '27.8', '-12.4', '-12.8', '-12.9', '-13.4', '-13.3', '-13.8',\n",
       "       '-17.1', '-17.5', '-15', '-13.9', '-16.6', '-18.1', '-19', '-19.6',\n",
       "       '-20', '-20.1', '-17.9', '-15.4', '-14.9', '-15.8', '-16.2', '27.6',\n",
       "       '28', '30.5', '30.2', '30.3', '25.9', '25.1', '28.3', '29', '29.7',\n",
       "       '29.2', '29.3', '28.7', '29.1', '26.9', '26.3', '28.2', '-14.7',\n",
       "       '-16.8', '-17', '-16.9', '-15.9', '-13.7', '-17.4', '-16.4',\n",
       "       '-17.3', '-17.2', '-16.3', '27.4', '29.6', '30.4', '30.9', '31',\n",
       "       '30', '28.8', '32', '31.2', '30.8', '28.5', '31.3', '32.8', '33.3',\n",
       "       '32.2', '29.5', '28.4', '-14.3', '-14.8', '-15.3', '-15.7', '-17.8',\n",
       "       '30.1', '30.6', '31.7', '32.3', '-19.1', '28.9', '-18', '-18.5',\n",
       "       '-21.3', '-21.8', '-22.3', '-23.4', '-23.9', '-24.9', '-24.3',\n",
       "       '-23.2', '-21.2', '-19.4', '-18.4', '-18.9', '-18.8', '-20.5',\n",
       "       '-18.7', '29.4', '29.8', '30.7', '-20.8', '32.1', '31.5', '33',\n",
       "       '31.6', '29.9', '*', '33.5', '31.4', '32.4', '33.8', '34.4', '32.5',\n",
       "       '-22.8'], dtype=object)"
      ]
     },
     "execution_count": 38,
     "metadata": {},
     "output_type": "execute_result"
    }
   ],
   "source": [
    "dataRB.HOURLYWETBULBTEMPC.unique()"
   ]
  },
  {
   "cell_type": "code",
   "execution_count": 35,
   "metadata": {
    "collapsed": false
   },
   "outputs": [
    {
     "data": {
      "text/plain": [
       "36606"
      ]
     },
     "execution_count": 35,
     "metadata": {},
     "output_type": "execute_result"
    }
   ],
   "source": [
    "dataRB.HOURLYWETBULBTEMPC.isnull().sum()"
   ]
  },
  {
   "cell_type": "code",
   "execution_count": null,
   "metadata": {
    "collapsed": true
   },
   "outputs": [],
   "source": [
    "dataRB['HOURLYWETBULBTEMPC'].value_counts().plot(kind='hist',orientation='horizontal', cumulative=True)\n",
    "plt.show()"
   ]
  },
  {
   "cell_type": "code",
   "execution_count": null,
   "metadata": {
    "collapsed": true
   },
   "outputs": [],
   "source": []
  },
  {
   "cell_type": "markdown",
   "metadata": {},
   "source": [
    "# HOURLYDewPointTempF &  # HOURLYDewPointTempC      "
   ]
  },
  {
   "cell_type": "markdown",
   "metadata": {},
   "source": [
    "Charater values stripped and nulls interpolated where ever possible."
   ]
  },
  {
   "cell_type": "code",
   "execution_count": 36,
   "metadata": {
    "collapsed": true
   },
   "outputs": [
    {
     "data": {
      "text/plain": [
       "array(['36.0', '37.0', '34.0', '32.0', '30.0', '31.0', '33.0', '41.0',\n",
       "       '40.0', '38.0', '26.0', '25.0', '23.0', '24.0', '20.0', '22.0',\n",
       "       '21.0', '29.0', '27.0', '43.0', '42.0', '7.0', '5.0', '3.0', '1.0',\n",
       "       '0.0', '-6.0', '4.0', '8.0', '10.0', '12.0', '13.0', '-9.0',\n",
       "       '-11.0', '-12.0', '-15.0', '15.0', '6.0', '11.0', '18.0', '17.0',\n",
       "       '14.0', '16.0', '35.0', '-1.0', '-4.0', '-5.0', '-7.0', '-3.0',\n",
       "       '-17.0', '-10.0', '-18.0', '-13.0', '-8.0', '39.0', '44.0', '46.0',\n",
       "       '2.0', '47.0', '49.0', '52.0', '53.0', '48.0', '50.0', '45.0',\n",
       "       '55.0', '56.0', '58.0', '54.0', '57.0', '51.0', '59.0', '60.0',\n",
       "       '61.0', '62.0', '63.0', '64.0', '66.0', '65.0', '69.0', '75.0',\n",
       "       '72.0', '73.0', '74.0', '-19.0', '-16.0', '-22.0', '-24.0', '-26.0',\n",
       "       '-20.0', '67.0', '68.0', '70.0', '71.0', '76.0', '77.0', nan,\n",
       "       '-29.0', '19.0', '28.0', '-2.0', '9.0', '-14.0', '-23.0', '-21.0',\n",
       "       '-27.0', '-25.0', '-28.0', '-30.0', '-36.0', '-31.0', '78.0', '79.0'], dtype=object)"
      ]
     },
     "execution_count": 36,
     "metadata": {},
     "output_type": "execute_result"
    }
   ],
   "source": [
    "# unique values\n",
    "dataRB.HOURLYDewPointTempF.unique()"
   ]
  },
  {
   "cell_type": "code",
   "execution_count": 37,
   "metadata": {
    "collapsed": false
   },
   "outputs": [
    {
     "data": {
      "text/plain": [
       "24485"
      ]
     },
     "execution_count": 37,
     "metadata": {},
     "output_type": "execute_result"
    }
   ],
   "source": [
    "# number of null values not zero \n",
    "dataRB.HOURLYDewPointTempF.isnull().sum()"
   ]
  },
  {
   "cell_type": "code",
   "execution_count": 38,
   "metadata": {
    "collapsed": true
   },
   "outputs": [
    {
     "name": "stderr",
     "output_type": "stream",
     "text": [
      "C:\\Users\\Manasi\\Anaconda3\\lib\\site-packages\\ipykernel\\__main__.py:1: FutureWarning:\n",
      "\n",
      "convert_objects is deprecated.  Use the data-type specific converters pd.to_datetime, pd.to_timedelta and pd.to_numeric.\n",
      "\n"
     ]
    },
    {
     "data": {
      "image/png": "[encoded data removed]",
      "text/plain": [
       "<matplotlib.figure.Figure at 0x1c7594d14e0>"
      ]
     },
     "metadata": {},
     "output_type": "display_data"
    }
   ],
   "source": [
    "df=dataRB[['HOURLYDewPointTempF']].convert_objects(convert_numeric=True)\n",
    "# boxplot \n",
    "df.plot(kind='box')\n",
    "plt.show()"
   ]
  },
  {
   "cell_type": "code",
   "execution_count": 57,
   "metadata": {
    "collapsed": false
   },
   "outputs": [
    {
     "data": {
      "text/plain": [
       "695610"
      ]
     },
     "execution_count": 57,
     "metadata": {},
     "output_type": "execute_result"
    }
   ],
   "source": [
    "#count \n",
    "dataRB['HOURLYDewPointTempC'].count()"
   ]
  },
  {
   "cell_type": "code",
   "execution_count": 53,
   "metadata": {
    "collapsed": true
   },
   "outputs": [
    {
     "data": {
      "text/plain": [
       "0         14074\n",
       "15        13282\n",
       "10        13201\n",
       "13.9      12733\n",
       "14.4      12720\n",
       "13.3      12670\n",
       "12.8      12415\n",
       "15.6      12307\n",
       "12.2      12246\n",
       "11.7      12091\n",
       "0.6       11750\n",
       "11.1      11737\n",
       "1.1       11642\n",
       "16.1      11552\n",
       "10.6      11547\n",
       "1.7       11502\n",
       "16.7      11485\n",
       "-0.6      11306\n",
       "8.9       11292\n",
       "8.3       11253\n",
       "2.2       11211\n",
       "2.8       11159\n",
       "7.8       11053\n",
       "3.3       11049\n",
       "4.4       11046\n",
       "7.2       11024\n",
       "17.2      10969\n",
       "9.4       10947\n",
       "-1.1      10943\n",
       "5         10820\n",
       "          ...  \n",
       "-8.0s         1\n",
       "-2.2s         1\n",
       "3.6           1\n",
       "15.6s         1\n",
       "7.3           1\n",
       "4.7           1\n",
       "-10.5         1\n",
       "-15.0s        1\n",
       "-2.3          1\n",
       "7.0s          1\n",
       "18.0s         1\n",
       "0.7           1\n",
       "-12.6         1\n",
       "-6.3          1\n",
       "16.7s         1\n",
       "-27.5         1\n",
       "-12.1         1\n",
       "-2.9          1\n",
       "22.5          1\n",
       "7.9           1\n",
       "-22.6s        1\n",
       "-11.1s        1\n",
       "-31           1\n",
       "20.7          1\n",
       "0.6s          1\n",
       "21.5          1\n",
       "26            1\n",
       "-34.4         1\n",
       "-25.9         1\n",
       "24.1          1\n",
       "Name: HOURLYDewPointTempC, dtype: int64"
      ]
     },
     "execution_count": 53,
     "metadata": {},
     "output_type": "execute_result"
    }
   ],
   "source": [
    "#value counts\n",
    "dataRB['HOURLYDewPointTempC'].value_counts()"
   ]
  },
  {
   "cell_type": "code",
   "execution_count": 58,
   "metadata": {
    "collapsed": true
   },
   "outputs": [
    {
     "data": {
      "text/plain": [
       "array(['2.4', '3', '1.3', '0.2', '-0.9', '-0.4', '0.8', '5.2', '4.6',\n",
       "       '3.5', '-3.1', '-3.7', '-4.8', '-4.2', '-6.5', '-5.3', '-5.9',\n",
       "       '-1.5', '-2.6', '6.3', '5.8', '-13.7', '-14.8', '-15.9', '-17',\n",
       "       '-17.6', '-20.9', '-15.3', '-13.1', '-12', '-10.9', '-10.3',\n",
       "       '-22.6s', '-23.7', '-24.2', '-25.9', '-9.2', '-14.2', '-11.5',\n",
       "       '-7.6', '-8.1', '-9.8', '-8.7', '1.9', '-18.1', '-19.8', '-20.3',\n",
       "       '-21.4', '-19.2', '-27', '-23.1', '-27.5', '-24.8', '-22', '4.1',\n",
       "       '6.9', '8', '-16.4', '8.5', '9.6', '11.3', '11.9', '9.1', '10.2',\n",
       "       '7.4', '13', '13.5', '14.6', '12.4', '14.1', '10.7', '15.2', '15.7',\n",
       "       '16.3', '16.9', '17.4', '18', '19.1', '18.5', '20.7', '24.1',\n",
       "       '22.4', '23', '23.5', '6.1', '6.7', '8.9', '11.1', '11.7', '12.2',\n",
       "       '12.8', '13.3', '10', '1.7', '0', '-2.8', '-3.3', '-3.9', '-5',\n",
       "       '-5.6', '-7.8', '-8.3', '-9.4', '-8.9', '-6.7', '-10.6', '-13.3',\n",
       "       '-13.9', '-12.2', '-14.4', '-15', '-16.7', '-15.6', '-18.3',\n",
       "       '-16.1', '-11.7', '-10', '-6.1', '-4.4', '-1.7', '-0.6', '0.6',\n",
       "       '1.1', '2.2', '2.8', '3.3', '-17.2', '-17.8', '-19.4', '-20',\n",
       "       '-21.1', '-24.4', '-26.1', '-25', '-23.3', '-27.2', '-22.8',\n",
       "       '-22.2', '-23.9', '-28.3', '-26.7', '-27.8', '-11.1', '-1.1',\n",
       "       '-21.7', '-20.6', '-30', '-31.1', '-32.2', '-28.9', '5', '3.9',\n",
       "       '8.3', '7.8', '7.2', '5.6', '4.4', '10.6', '9.4', '13.9', '14.4',\n",
       "       '15', '15.6', '16.1', '16.7', '17.8', '17.2', '18.9', '19.4', '20',\n",
       "       '20.6', '21.1', '21.7', '18.3', '22.2', '23.3', '24.4', '25',\n",
       "       '22.8', '-5.5', '1.7s', '-7.8s', '-8.3s', '23.9', '3.9s', '-10.0s',\n",
       "       nan, '-21.1s', '-33.9', '-7.2', '-2.2', '-18.9', '-12.8', '-12.2s',\n",
       "       '-9.4s', '-19.4s', '-25.6', '-30.6', '-29.4', '-0.6s', '10.0s',\n",
       "       '-3.9s', '-3.3s', '-5.0s', '12.8s', '-32.8', '-31.7', '-33.3',\n",
       "       '-34.4', '-10.6s', '-7.2s', '3.3s', '2.8s', '-37.8', '2.2s',\n",
       "       '-1.1s', '-1.7s', '0.0s', '11.1s', '1.1s', '-35', '-17.8s', '6.1s',\n",
       "       '4.4s', '9.4s', '8.9s', '11.7s', '-15.5', '8.8', '13.3s', '5.0s',\n",
       "       '-2.1', '-0.5', '-2.7', '-1', '-15.6s', '-7.7', '-16', '-8.8',\n",
       "       '-9.3', '-3.2', '-16.6', '8.3s', '7.2s', '-3.8', '-15.0s', '5.6s',\n",
       "       '-12.8s', '0.6s', '-11', '-13.2', '-12.7', '-11.6', '-6.1s',\n",
       "       '-18.9s', '-4.4s', '-1.6', '-23.3s', '10.6s', '-11.7s', '16.7s',\n",
       "       '12.2s', '-13.9s', '-3.4', '-21.7s', '25.6', '-8.4', '-11.2',\n",
       "       '-16.2', '-11.1s', '-4.5', '-1.2', '3.8', '2.7', '1.6', '0.5',\n",
       "       '-2.3', '10.5', '5.5', '11.6', '12.7', '13.8', '7.7', '-2.3s',\n",
       "       '6.6', '17.7', '15.5', '18.8', '20.5', '16.6', '19', '17', '1.0s',\n",
       "       '18.0s', '16', '14', '15.3', '11.5', '21', '17.1', '16.4', '-2.2s',\n",
       "       '15.6s', '12', '22', '20.3', '11', '18.2', '20.2', '19.3', '18.7',\n",
       "       '15.0s', '20.0s', '16.5', '12.5', '9', '7', '2', '-3', '6', '4',\n",
       "       '2.1', '1', '-2', '-4', '-6', '-13', '4.7', '-7', '9.0s', '-18',\n",
       "       '-9', '-8', '-21', '-19', '-14', '22.2s', '7.0s', '-1.0s', '-0.8',\n",
       "       '10.1', '11.0s', '12.3', '14.8', '8.4', '13.4', '9.5', '11.2',\n",
       "       '-23', '-25.5', '-24', '-26', '-13.0s', '7.8s', '1.5', '1.4', '4.2',\n",
       "       '-5.6s', '-3.0s', '22.5', '21.5', '24', '7.9', '6.8', '4.5', '7.5',\n",
       "       '0.1', '1.2', '2.5', '-3.6', '0.9', '0.4', '0.3', '-4.6', '-2.9',\n",
       "       '-6.3', '2.0s', '3.0s', '21.1s', '26', '18.4', '6.4', '7.3', '7.1',\n",
       "       '17.2s', '-4.0s', '-8.0s', '6.2', '8.2', '2.6', '3.1', '3.4', '5.9',\n",
       "       '6.5', '-28', '0.7', '-8.9s', '15.4', '-29', '-31', '14.0s', '3.6',\n",
       "       '*', '10.8', '-12.1', '-17.3', '-18.4', '-15.4', '-24.1s', '-23.5',\n",
       "       '-18.8', '-17.7', '-13.8', '-17.2s', '-10.5', '-12.6', '-12.3',\n",
       "       '4.8', '2.9', '18.1', '-2.5', '4.3', '-16.1s', '-0.1', '5.7', '8.7',\n",
       "       '9.9', '10.3'], dtype=object)"
      ]
     },
     "execution_count": 58,
     "metadata": {},
     "output_type": "execute_result"
    }
   ],
   "source": [
    "# unique values\n",
    "dataRB.HOURLYDewPointTempC.unique()"
   ]
  },
  {
   "cell_type": "code",
   "execution_count": 59,
   "metadata": {
    "collapsed": false
   },
   "outputs": [
    {
     "data": {
      "text/plain": [
       "29013"
      ]
     },
     "execution_count": 59,
     "metadata": {},
     "output_type": "execute_result"
    }
   ],
   "source": [
    "# number of null values not zero \n",
    "dataRB.HOURLYDewPointTempF.isnull().sum()"
   ]
  },
  {
   "cell_type": "code",
   "execution_count": 62,
   "metadata": {
    "collapsed": true
   },
   "outputs": [
    {
     "name": "stderr",
     "output_type": "stream",
     "text": [
      "C:\\Users\\Manasi\\Anaconda3\\lib\\site-packages\\ipykernel\\__main__.py:1: FutureWarning:\n",
      "\n",
      "convert_objects is deprecated.  Use the data-type specific converters pd.to_datetime, pd.to_timedelta and pd.to_numeric.\n",
      "\n"
     ]
    },
    {
     "data": {
      "image/png": "[encoded data removed]",
      "text/plain": [
       "<matplotlib.figure.Figure at 0x25440ebf550>"
      ]
     },
     "metadata": {},
     "output_type": "display_data"
    }
   ],
   "source": [
    "df=dataRB[['HOURLYDewPointTempC']].convert_objects(convert_numeric=True)\n",
    "# boxplot \n",
    "df.plot(kind='box')\n",
    "plt.show()"
   ]
  },
  {
   "cell_type": "code",
   "execution_count": 50,
   "metadata": {
    "collapsed": true
   },
   "outputs": [],
   "source": [
    "df=dataRB.head(30)"
   ]
  },
  {
   "cell_type": "markdown",
   "metadata": {},
   "source": [
    "# HOURLYRelativeHumidity              "
   ]
  },
  {
   "cell_type": "code",
   "execution_count": null,
   "metadata": {
    "collapsed": true
   },
   "outputs": [],
   "source": [
    "Charater values stripped and nulls interpolated where eever possible."
   ]
  },
  {
   "cell_type": "code",
   "execution_count": 65,
   "metadata": {
    "collapsed": true
   },
   "outputs": [
    {
     "data": {
      "text/plain": [
       "array(['82', '93', '86', '76', '65', '58', '56', '80', '66', '71', '85',\n",
       "       '79', '49', '41', '34', '31', '27', '22', '23', '26', '30', '39',\n",
       "       '38', '42', '51', '61', '89', '45', '46', '63', '70', '68', '67',\n",
       "       '62', '55', '83', '74', '59', '57', '36', '64', '48', '77', '84',\n",
       "       '33', '29', '35', '73', '54', '32', '78', '72', '69', '60', '50',\n",
       "       '40', '43', '37', '52', '53', '75', '44', '21', '28', '92', '47',\n",
       "       '25', '96', '97', '100', '20', '90', '87', '81', '91', '88', '24',\n",
       "       '18', '17', '94', '19', '14', '16', '15', '13', '12', '11', nan,\n",
       "       '9', '10', '6', '7', '8', '95', '99', '102', '98', '104', '101',\n",
       "       '103', '*'], dtype=object)"
      ]
     },
     "execution_count": 65,
     "metadata": {},
     "output_type": "execute_result"
    }
   ],
   "source": [
    "# unique values\n",
    "dataRB.HOURLYRelativeHumidity.unique()"
   ]
  },
  {
   "cell_type": "code",
   "execution_count": 52,
   "metadata": {
    "collapsed": false
   },
   "outputs": [
    {
     "data": {
      "text/plain": [
       "24497"
      ]
     },
     "execution_count": 52,
     "metadata": {},
     "output_type": "execute_result"
    }
   ],
   "source": [
    "# number of null values not zero \n",
    "dataRB.HOURLYRelativeHumidity.isnull().sum()"
   ]
  },
  {
   "cell_type": "code",
   "execution_count": 54,
   "metadata": {
    "collapsed": true
   },
   "outputs": [
    {
     "name": "stderr",
     "output_type": "stream",
     "text": [
      "C:\\Users\\Manasi\\Anaconda3\\lib\\site-packages\\ipykernel\\__main__.py:1: FutureWarning:\n",
      "\n",
      "convert_objects is deprecated.  Use the data-type specific converters pd.to_datetime, pd.to_timedelta and pd.to_numeric.\n",
      "\n"
     ]
    },
    {
     "data": {
      "image/png": "[encoded data removed]",
      "text/plain": [
       "<matplotlib.figure.Figure at 0x1c75d4a9a20>"
      ]
     },
     "metadata": {},
     "output_type": "display_data"
    }
   ],
   "source": [
    "df=dataRB[['HOURLYRelativeHumidity']].convert_objects(convert_numeric=True)\n",
    "# boxplot \n",
    "df.plot(kind='box')\n",
    "plt.show()"
   ]
  },
  {
   "cell_type": "markdown",
   "metadata": {},
   "source": [
    "# HOURLYWindSpeed "
   ]
  },
  {
   "cell_type": "markdown",
   "metadata": {},
   "source": [
    "Replacing charater values with numeric reduced number of nulls vastly. While cleaning the remaining null values do not replace by 0 as it is read as calm winds and is a valid value. Max wind speed is betwwen 5 to 15 mph"
   ]
  },
  {
   "cell_type": "code",
   "execution_count": 101,
   "metadata": {
    "collapsed": true
   },
   "outputs": [
    {
     "data": {
      "text/plain": [
       "array(['8.0', '10.0', '6.0', '5.0', '2.0', '7.0', '11.0', '3.0', '14.0',\n",
       "       nan, '9.0', '15.0', '17.0', '18.0', '22.0', '13.0', '29.0', '32.0',\n",
       "       '34.0', '19.0', '24.0', '16.0', '0.0', '25.0', '28.0', '26.0',\n",
       "       '21.0', '60.0', '1.0', '12.0', '33.0', '38.0', '41.0', '45.0',\n",
       "       '20.0', '23.0', '30.0', '35.0', '36.0', '37.0', '31.0', '39.0',\n",
       "       '40.0', '43.0', '56.0', '49.0', '55.0', '58.0', '52.0', '48.0',\n",
       "       '27.0', '44.0', '46.0', '54.0', '53.0', '70.0', '86.0', '51.0',\n",
       "       '47.0', '4.0', '57.0', '66.0', '62.0'], dtype=object)"
      ]
     },
     "execution_count": 101,
     "metadata": {},
     "output_type": "execute_result"
    }
   ],
   "source": [
    "# unique values\n",
    "dataRB.HOURLYWindSpeed.unique()"
   ]
  },
  {
   "cell_type": "code",
   "execution_count": 99,
   "metadata": {
    "collapsed": false
   },
   "outputs": [
    {
     "data": {
      "text/plain": [
       "1203"
      ]
     },
     "execution_count": 99,
     "metadata": {},
     "output_type": "execute_result"
    }
   ],
   "source": [
    "# number of null values \n",
    "dataRB.HOURLYWindSpeed.isnull().sum()"
   ]
  },
  {
   "cell_type": "code",
   "execution_count": 56,
   "metadata": {
    "collapsed": false
   },
   "outputs": [
    {
     "name": "stderr",
     "output_type": "stream",
     "text": [
      "C:\\Users\\Manasi\\Anaconda3\\lib\\site-packages\\ipykernel\\__main__.py:1: FutureWarning:\n",
      "\n",
      "convert_objects is deprecated.  Use the data-type specific converters pd.to_datetime, pd.to_timedelta and pd.to_numeric.\n",
      "\n"
     ]
    },
    {
     "data": {
      "image/png": "[encoded data removed]",
      "text/plain": [
       "<matplotlib.figure.Figure at 0x1c75d967b70>"
      ]
     },
     "metadata": {},
     "output_type": "display_data"
    }
   ],
   "source": [
    "df=dataRB[['HOURLYWindSpeed']].convert_objects(convert_numeric=True)\n",
    "# boxplot \n",
    "df.plot(kind='box')\n",
    "plt.show()"
   ]
  },
  {
   "cell_type": "code",
   "execution_count": 105,
   "metadata": {
    "collapsed": true
   },
   "outputs": [
    {
     "data": {
      "text/plain": [
       "9.0     64141\n",
       "10.0    60245\n",
       "8.0     57472\n",
       "12.0    53019\n",
       "14.0    52756\n",
       "13.0    52097\n",
       "7.0     49396\n",
       "15.0    43168\n",
       "6.0     39268\n",
       "16.0    36041\n",
       "17.0    30693\n",
       "5.0     27492\n",
       "18.0    25393\n",
       "3.0     18788\n",
       "11.0    17791\n",
       "20.0    16226\n",
       "21.0    14083\n",
       "0.0     11528\n",
       "23.0     9457\n",
       "22.0     9148\n",
       "24.0     5194\n",
       "25.0     4787\n",
       "26.0     3742\n",
       "2.0      3189\n",
       "28.0     2564\n",
       "29.0     2181\n",
       "30.0     1612\n",
       "19.0     1488\n",
       "4.0      1000\n",
       "31.0      962\n",
       "        ...  \n",
       "35.0      511\n",
       "33.0      493\n",
       "36.0      257\n",
       "37.0      256\n",
       "38.0      163\n",
       "39.0      132\n",
       "34.0      129\n",
       "40.0      106\n",
       "41.0       74\n",
       "43.0       36\n",
       "44.0       32\n",
       "27.0       28\n",
       "46.0       24\n",
       "48.0       21\n",
       "45.0       19\n",
       "49.0       14\n",
       "51.0        9\n",
       "53.0        7\n",
       "47.0        7\n",
       "54.0        6\n",
       "56.0        4\n",
       "52.0        3\n",
       "58.0        3\n",
       "55.0        3\n",
       "60.0        3\n",
       "70.0        2\n",
       "57.0        1\n",
       "66.0        1\n",
       "86.0        1\n",
       "62.0        1\n",
       "Name: HOURLYWindSpeed, dtype: int64"
      ]
     },
     "execution_count": 105,
     "metadata": {},
     "output_type": "execute_result"
    }
   ],
   "source": [
    "dataRB['HOURLYWindSpeed'].value_counts(sort=True)"
   ]
  },
  {
   "cell_type": "code",
   "execution_count": 103,
   "metadata": {
    "collapsed": false
   },
   "outputs": [
    {
     "data": {
      "image/png": "[encoded data removed]",
      "text/plain": [
       "<matplotlib.figure.Figure at 0x1c87ec86ac8>"
      ]
     },
     "metadata": {},
     "output_type": "display_data"
    }
   ],
   "source": [
    "dataRB['HOURLYWindSpeed'].value_counts().plot(kind='bar')\n",
    "plt.show()"
   ]
  },
  {
   "cell_type": "markdown",
   "metadata": {},
   "source": [
    "# HOURLYWindDirection              "
   ]
  },
  {
   "cell_type": "markdown",
   "metadata": {},
   "source": [
    "wind direction varies between 0 to 360 degrees with a max of 270 degrees clockwise. The VRB values are replace by -1 to make the column numeric"
   ]
  },
  {
   "cell_type": "code",
   "execution_count": 58,
   "metadata": {
    "collapsed": false,
    "scrolled": true
   },
   "outputs": [
    {
     "data": {
      "image/png": "[encoded data removed]",
      "text/plain": [
       "<matplotlib.figure.Figure at 0x1c75ca14b70>"
      ]
     },
     "metadata": {},
     "output_type": "display_data"
    }
   ],
   "source": [
    "#value counts\n",
    "dataRB['HOURLYWindDirection'].value_counts().plot(kind='bar')\n",
    "plt.show()"
   ]
  },
  {
   "cell_type": "code",
   "execution_count": 107,
   "metadata": {
    "collapsed": false,
    "scrolled": true
   },
   "outputs": [
    {
     "data": {
      "text/plain": [
       "array(['315.0', '270.0', '338.0', '293.0', '360.0', '45.0', '90.0',\n",
       "       '113.0', '68.0', '135.0', '248.0', '225.0', '203.0', nan, '23.0',\n",
       "       '180.0', '0.0', '158.0', '230.0', '310.0', '30.0', '340.0', '70.0',\n",
       "       '220.0', '250.0', '240.0', '10.0', '50.0', '20.0', '350.0', '80.0',\n",
       "       '110.0', '210.0', '260.0', '280.0', '300.0', '120.0', '150.0',\n",
       "       '170.0', '200.0', '190.0', '290.0', '330.0', '140.0', '130.0',\n",
       "       '160.0', '320.0', '40.0', '60.0', '100.0', '-1.0', '192.0', '103.0'], dtype=object)"
      ]
     },
     "execution_count": 107,
     "metadata": {},
     "output_type": "execute_result"
    }
   ],
   "source": [
    "# unique values\n",
    "dataRB.HOURLYWindDirection.unique()"
   ]
  },
  {
   "cell_type": "code",
   "execution_count": 59,
   "metadata": {
    "collapsed": false
   },
   "outputs": [
    {
     "data": {
      "text/plain": [
       "3466"
      ]
     },
     "execution_count": 59,
     "metadata": {},
     "output_type": "execute_result"
    }
   ],
   "source": [
    "# number of null values not zero \n",
    "dataRB.HOURLYWindDirection.isnull().sum()"
   ]
  },
  {
   "cell_type": "code",
   "execution_count": 60,
   "metadata": {
    "collapsed": true
   },
   "outputs": [
    {
     "name": "stderr",
     "output_type": "stream",
     "text": [
      "C:\\Users\\Manasi\\Anaconda3\\lib\\site-packages\\ipykernel\\__main__.py:1: FutureWarning:\n",
      "\n",
      "convert_objects is deprecated.  Use the data-type specific converters pd.to_datetime, pd.to_timedelta and pd.to_numeric.\n",
      "\n"
     ]
    },
    {
     "data": {
      "image/png": "[encoded data removed]",
      "text/plain": [
       "<matplotlib.figure.Figure at 0x1c75aee5ef0>"
      ]
     },
     "metadata": {},
     "output_type": "display_data"
    }
   ],
   "source": [
    "df=dataRB[['HOURLYWindDirection']].convert_objects(convert_numeric=True)\n",
    "# boxplot \n",
    "df.plot(kind='box')\n",
    "plt.show()"
   ]
  },
  {
   "cell_type": "markdown",
   "metadata": {},
   "source": [
    "# HOURLYWindGustSpeed \n",
    "max gust speed is 23 mph. "
   ]
  },
  {
   "cell_type": "code",
   "execution_count": 187,
   "metadata": {
    "collapsed": true
   },
   "outputs": [
    {
     "data": {
      "text/plain": [
       "22    1820\n",
       "21    1677\n",
       "20    1664\n",
       "23    1642\n",
       "24    1465\n",
       "25    1373\n",
       "18    1215\n",
       "26    1057\n",
       "28     920\n",
       "17     798\n",
       "29     702\n",
       "30     563\n",
       "31     456\n",
       "16     373\n",
       "32     342\n",
       "33     282\n",
       "34     236\n",
       "36     178\n",
       "37     129\n",
       "38     101\n",
       "39      98\n",
       "40      88\n",
       "41      55\n",
       "43      39\n",
       "44      27\n",
       "45      24\n",
       "46      13\n",
       "*       13\n",
       "47      11\n",
       "48      10\n",
       "49       9\n",
       "54       8\n",
       "52       4\n",
       "55       4\n",
       "56       3\n",
       "19       3\n",
       "53       2\n",
       "51       2\n",
       "63       2\n",
       "72       2\n",
       "75       2\n",
       "59       1\n",
       "60       1\n",
       "69       1\n",
       "66       1\n",
       "82       1\n",
       "67       1\n",
       "61       1\n",
       "70       1\n",
       "77       1\n",
       "Name: HOURLYWindGustSpeed, dtype: int64"
      ]
     },
     "execution_count": 187,
     "metadata": {},
     "output_type": "execute_result"
    }
   ],
   "source": [
    "#value counts\n",
    "dataRB['HOURLYWindGustSpeed'].value_counts()"
   ]
  },
  {
   "cell_type": "code",
   "execution_count": 110,
   "metadata": {
    "collapsed": true
   },
   "outputs": [
    {
     "data": {
      "text/plain": [
       "array([nan, '26.0', '28.0', '30.0', '33.0', '24.0', '34.0', '29.0', '23.0',\n",
       "       '25.0', '22.0', '32.0', '37.0', '40.0', '39.0', '31.0', '44.0',\n",
       "       '45.0', '41.0', '38.0', '21.0', '19.0', '51.0', '46.0', '36.0',\n",
       "       '48.0', '16.0', '53.0', '18.0', '49.0', '43.0', '17.0', '14.0',\n",
       "       '11.0', '15.0', '13.0', '47.0', '55.0', '54.0', '57.0', '60.0',\n",
       "       '56.0', '52.0', '62.0', '59.0', '64.0', '74.0', '69.0', '66.0',\n",
       "       '20.0', '61.0', '71.0', '63.0', '68.0', '70.0', '35.0', '27.0',\n",
       "       '50.0', '42.0', '76.0', '98.0'], dtype=object)"
      ]
     },
     "execution_count": 110,
     "metadata": {},
     "output_type": "execute_result"
    }
   ],
   "source": [
    "# unique values\n",
    "dataRB.HOURLYWindGustSpeed.unique()"
   ]
  },
  {
   "cell_type": "code",
   "execution_count": 61,
   "metadata": {
    "collapsed": false,
    "scrolled": true
   },
   "outputs": [
    {
     "data": {
      "image/png": "[encoded data removed]",
      "text/plain": [
       "<matplotlib.figure.Figure at 0x1c76107fef0>"
      ]
     },
     "metadata": {},
     "output_type": "display_data"
    }
   ],
   "source": [
    "#value counts\n",
    "dataRB['HOURLYWindGustSpeed'].value_counts().plot(kind='bar')\n",
    "plt.show()"
   ]
  },
  {
   "cell_type": "markdown",
   "metadata": {},
   "source": [
    "# HOURLYStationPressure \n",
    "varies between 29 to 30.5 Hg"
   ]
  },
  {
   "cell_type": "code",
   "execution_count": 62,
   "metadata": {
    "collapsed": true
   },
   "outputs": [
    {
     "data": {
      "text/plain": [
       "array([nan, '29.68', '29.64', '29.62', '29.57', '29.5', '29.42', '29.36',\n",
       "       '29.3', '29.23', '29.14', '29.06', '29.04', '29.02', '28.99',\n",
       "       '29.03', '29.13', '29.22', '29.32', '29.41', '29.52', '29.61',\n",
       "       '29.67', '29.74', '29.8', '29.88', '29.92', '29.94', '29.96',\n",
       "       '30.0', '30.03', '30.01', '30.14', '30.18', '30.21', '30.26',\n",
       "       '30.27', '30.31', '30.33', '30.35', '30.36', '30.38', '30.39',\n",
       "       '30.42', '30.41', '30.3', '30.34', '30.32', '30.29', '30.28',\n",
       "       '30.24', '30.2', '30.16', '30.11', '30.09', '30.07', '30.05',\n",
       "       '30.02', '29.98', '29.93', '29.95', '30.04', '30.06', '30.08',\n",
       "       '30.1', '30.12', '30.15', '30.19', '30.23', '29.97', '29.91',\n",
       "       '29.85', '29.81', '29.77', '29.72', '29.65', '29.69', '29.7',\n",
       "       '29.73', '29.75', '29.78', '29.79', '29.76', '29.83', '29.66',\n",
       "       '29.71', '29.82', '29.84', '29.87', '29.9', '30.25', '30.37',\n",
       "       '30.22', '29.89', '29.99', '30.13', '30.17', '29.47', '29.43',\n",
       "       '29.39', '29.35', '29.33', '29.31', '29.34', '29.29', '29.27',\n",
       "       '29.25', '29.26', '29.28', '29.2', '29.19', '29.16', '29.15',\n",
       "       '29.17', '29.38', '29.46', '29.54', '29.56', '29.59', '29.6',\n",
       "       '29.63', '29.58', '29.55', '29.51', '29.49', '29.86', '29.53',\n",
       "       '29.45', '29.48', '30.4', '30.44', '30.46', '30.49', '30.47',\n",
       "       '30.45', '30.48', '30.5', '30.43', '29.44', '30.52', '30.54',\n",
       "       '30.56', '30.57', '30.58', '30.6', '30.61', '30.63', '30.65',\n",
       "       '30.67', '30.68', '30.66', '30.51', '29.4', '29.37', '29.24',\n",
       "       '29.12', '30.53', '30.55', '30.59', '30.62', '29.18', '29.21',\n",
       "       '29.1', '29.01', '29.07', '29.11', '30.69', '30.74', '30.77',\n",
       "       '30.82', '30.87', '30.9', '30.93', '30.94', '30.88', '30.86',\n",
       "       '30.84', '30.8', '30.76', '30.7', '29.05', '29.09', '29.08',\n",
       "       '28.72', '28.78', '28.85', '28.87', '28.96', '28.91', '28.83',\n",
       "       '28.79', '28.74', '28.77', '28.82', '28.89', '28.93', '28.98',\n",
       "       '29.0', '30.64', '30.71', '30.73', '30.72', '30.75', '30.79',\n",
       "       '30.85', '30.91', '30.92', '30.78', '30.81', '30.83', '30.89',\n",
       "       '30.96', '31.0', '31.02', '31.03', '28.9', '28.97', '28.86',\n",
       "       '28.81', '28.95', '28.84', '28.92', '28.73', '28.94', '28.8',\n",
       "       '28.76', '28.75', '28.71', '28.88', '28.69', '28.63', '28.66',\n",
       "       '28.5', '28.45', '28.44', '28.59', '28.68', '28.7', '28.61',\n",
       "       '28.56', '28.55', '28.49', '28.47', '28.52', '30.95', '30.98',\n",
       "       '30.99', '31.05', '31.04', '30.97', '28.65', '28.62', '28.6',\n",
       "       '28.58', '28.64', '28.57', '28.51', '28.48', '28.53', '28.67'], dtype=object)"
      ]
     },
     "execution_count": 62,
     "metadata": {},
     "output_type": "execute_result"
    }
   ],
   "source": [
    "# unique values\n",
    "dataRB.HOURLYStationPressure.unique()"
   ]
  },
  {
   "cell_type": "code",
   "execution_count": 63,
   "metadata": {
    "collapsed": false
   },
   "outputs": [
    {
     "data": {
      "text/plain": [
       "56172"
      ]
     },
     "execution_count": 63,
     "metadata": {},
     "output_type": "execute_result"
    }
   ],
   "source": [
    "# number of null values not zero \n",
    "dataRB.HOURLYStationPressure.isnull().sum()"
   ]
  },
  {
   "cell_type": "code",
   "execution_count": 116,
   "metadata": {
    "collapsed": true
   },
   "outputs": [
    {
     "name": "stderr",
     "output_type": "stream",
     "text": [
      "C:\\Users\\Manasi\\Anaconda3\\lib\\site-packages\\ipykernel\\__main__.py:1: FutureWarning:\n",
      "\n",
      "convert_objects is deprecated.  Use the data-type specific converters pd.to_datetime, pd.to_timedelta and pd.to_numeric.\n",
      "\n"
     ]
    },
    {
     "data": {
      "image/png": "[encoded data removed]",
      "text/plain": [
       "<matplotlib.figure.Figure at 0x1c883673be0>"
      ]
     },
     "metadata": {},
     "output_type": "display_data"
    }
   ],
   "source": [
    "df=dataRB[['HOURLYStationPressure']].convert_objects(convert_numeric=True)\n",
    "# boxplot \n",
    "df.plot(kind='box')\n",
    "plt.show()"
   ]
  },
  {
   "cell_type": "markdown",
   "metadata": {},
   "source": [
    "# HOURLYPressureTendency: nan             "
   ]
  },
  {
   "cell_type": "code",
   "execution_count": 65,
   "metadata": {
    "collapsed": true
   },
   "outputs": [
    {
     "data": {
      "text/plain": [
       "8.0    33010\n",
       "3.0    32733\n",
       "1.0    31176\n",
       "6.0    22886\n",
       "2.0    12330\n",
       "7.0    11905\n",
       "5.0    11186\n",
       "0.0    10266\n",
       "4.0     1449\n",
       "Name: HOURLYPressureTendency, dtype: int64"
      ]
     },
     "execution_count": 65,
     "metadata": {},
     "output_type": "execute_result"
    }
   ],
   "source": [
    "#value counts\n",
    "dataRB['HOURLYPressureTendency'].value_counts()"
   ]
  },
  {
   "cell_type": "code",
   "execution_count": 196,
   "metadata": {
    "collapsed": false
   },
   "outputs": [
    {
     "data": {
      "text/plain": [
       "array([nan, '0', '2', '3', '1', '8', '5', '6', '7', '4'], dtype=object)"
      ]
     },
     "execution_count": 196,
     "metadata": {},
     "output_type": "execute_result"
    }
   ],
   "source": [
    "# unique values\n",
    "dataRB.HOURLYPressureTendency.unique()"
   ]
  },
  {
   "cell_type": "code",
   "execution_count": 66,
   "metadata": {
    "collapsed": false
   },
   "outputs": [
    {
     "data": {
      "text/plain": [
       "553295"
      ]
     },
     "execution_count": 66,
     "metadata": {},
     "output_type": "execute_result"
    }
   ],
   "source": [
    "# number of null values not zero \n",
    "dataRB.HOURLYPressureTendency.isnull().sum()"
   ]
  },
  {
   "cell_type": "markdown",
   "metadata": {},
   "source": [
    "# HOURLYPressureChange              "
   ]
  },
  {
   "cell_type": "code",
   "execution_count": 117,
   "metadata": {
    "collapsed": false,
    "scrolled": true
   },
   "outputs": [
    {
     "data": {
      "text/plain": [
       "array(['0.0', nan, '-0.04', '-0.02', '0.05', '0.01', '0.07', '0.02',\n",
       "       '0.03', '-0.07', '-0.06', '0.1', '-0.03', '-0.08', '-0.1', '-0.01',\n",
       "       '0.14', '0.22', '0.06', '0.04', '0.09', '0.11', '-0.12', '-0.05',\n",
       "       '-0.11', '0.19', '0.12', '0.25', '-0.0', '0.13', '0.08', '-0.13',\n",
       "       '-0.15', '-0.14', '0.21', '-0.18', '-0.19', '-0.09', '-0.17',\n",
       "       '0.16', '0.23', '0.17', '0.15', '0.18', '0.2', '-0.16', '-0.22',\n",
       "       '-0.29', '-0.23', '-0.28', '0.26', '0.32', '0.28', '0.48', '-0.3',\n",
       "       '-0.38', '-0.27', '-0.25', '-0.21', '0.24', '0.29', '-0.24', '0.33',\n",
       "       '0.27', '0.46', '-0.26', '-0.2', '0.31', '0.34', '0.3', '0.36',\n",
       "       '-0.35', '0.37', '0.44', '-0.59', '0.43', '0.41', '0.68', '0.35',\n",
       "       '-0.92', '0.4', '0.39'], dtype=object)"
      ]
     },
     "execution_count": 117,
     "metadata": {},
     "output_type": "execute_result"
    }
   ],
   "source": [
    "# unique values\n",
    "dataRB.HOURLYPressureChange.unique()"
   ]
  },
  {
   "cell_type": "code",
   "execution_count": 118,
   "metadata": {
    "collapsed": false
   },
   "outputs": [
    {
     "data": {
      "image/png": "[encoded data removed]",
      "text/plain": [
       "<matplotlib.figure.Figure at 0x1c87f7c6710>"
      ]
     },
     "metadata": {},
     "output_type": "display_data"
    },
    {
     "data": {
      "image/png": "[encoded data removed]",
      "text/plain": [
       "<matplotlib.figure.Figure at 0x1c7d599ada0>"
      ]
     },
     "metadata": {},
     "output_type": "display_data"
    }
   ],
   "source": [
    "dataRB['HOURLYPressureChange'].value_counts().plot(kind='kde')\n",
    "plt.show()\n",
    "dataRB['HOURLYPressureChange'].value_counts().plot(kind='hist')\n",
    "import matplotlib.pyplot as pltd\n",
    "pltd.show()"
   ]
  },
  {
   "cell_type": "code",
   "execution_count": 70,
   "metadata": {
    "collapsed": true
   },
   "outputs": [
    {
     "name": "stderr",
     "output_type": "stream",
     "text": [
      "C:\\Users\\Manasi\\Anaconda3\\lib\\site-packages\\ipykernel\\__main__.py:1: FutureWarning:\n",
      "\n",
      "convert_objects is deprecated.  Use the data-type specific converters pd.to_datetime, pd.to_timedelta and pd.to_numeric.\n",
      "\n"
     ]
    },
    {
     "data": {
      "image/png": "[encoded data removed]",
      "text/plain": [
       "<matplotlib.figure.Figure at 0x1c8772c8b00>"
      ]
     },
     "metadata": {},
     "output_type": "display_data"
    }
   ],
   "source": [
    "df=dataRB[['HOURLYWindGustSpeed']].convert_objects(convert_numeric=True)\n",
    "# boxplot \n",
    "df.plot(kind='box')\n",
    "plt.show()"
   ]
  },
  {
   "cell_type": "markdown",
   "metadata": {},
   "source": [
    "# HOURLYSeaLevelPressure             "
   ]
  },
  {
   "cell_type": "code",
   "execution_count": 203,
   "metadata": {
    "collapsed": true
   },
   "outputs": [
    {
     "data": {
      "text/plain": [
       "30.01     1770\n",
       "29.96     1760\n",
       "29.99     1708\n",
       "30.09     1632\n",
       "30.12     1616\n",
       "29.94     1614\n",
       "30.04     1612\n",
       "29.91     1581\n",
       "30.14     1568\n",
       "30.06     1566\n",
       "30.17     1474\n",
       "29.88     1454\n",
       "30.19     1383\n",
       "29.86     1345\n",
       "30        1315\n",
       "29.95     1278\n",
       "29.97     1256\n",
       "30.03     1253\n",
       "30.02     1248\n",
       "29.83     1236\n",
       "29.93     1235\n",
       "30.08     1233\n",
       "29.98     1217\n",
       "30.05     1213\n",
       "30.13     1209\n",
       "30.07     1205\n",
       "29.92     1196\n",
       "30.1      1186\n",
       "30.11     1182\n",
       "30.15     1163\n",
       "          ... \n",
       "29.06        1\n",
       "29.35s       1\n",
       "29.13s       1\n",
       "29.68s       1\n",
       "29.09        1\n",
       "28.95s       1\n",
       "29.30s       1\n",
       "29.33s       1\n",
       "29.02s       1\n",
       "29.76s       1\n",
       "29.01s       1\n",
       "29.47s       1\n",
       "29.08s       1\n",
       "28.93        1\n",
       "29.19s       1\n",
       "29.65s       1\n",
       "28.96s       1\n",
       "29.22s       1\n",
       "29.37s       1\n",
       "29.64s       1\n",
       "29.04s       1\n",
       "29.06s       1\n",
       "28.95        1\n",
       "28.92        1\n",
       "28.88s       1\n",
       "30.86        1\n",
       "29.02        1\n",
       "29.09s       1\n",
       "29.26s       1\n",
       "28.97        1\n",
       "Name: HOURLYSeaLevelPressure, dtype: int64"
      ]
     },
     "execution_count": 203,
     "metadata": {},
     "output_type": "execute_result"
    }
   ],
   "source": [
    "#value counts\n",
    "dataRB['HOURLYSeaLevelPressure'].value_counts()"
   ]
  },
  {
   "cell_type": "code",
   "execution_count": 204,
   "metadata": {
    "collapsed": true
   },
   "outputs": [
    {
     "data": {
      "text/plain": [
       "array([nan, '29.96', '29.97', '29.99', '30.01', '30.02', '30.03', '30.05',\n",
       "       '30.07', '30.09', '30.1', '30.11', '30.12', '30.13', '30.14',\n",
       "       '30.16', '30.17', '30.18', '30.19', '30.21', '30.2', '30.15',\n",
       "       '30.04', '30', '29.94', '29.92', '29.91', '29.9', '29.88', '29.87',\n",
       "       '29.85', '29.83', '29.86', '29.84', '29.82', '29.8', '29.81',\n",
       "       '29.77', '29.76', '29.74', '29.78', '29.89', '29.75', '29.73',\n",
       "       '29.79', '29.93', '29.95', '29.98', '29.71', '29.72', '29.7',\n",
       "       '29.69', '30.06', '29.67', '29.68', '29.66', '29.64', '29.65',\n",
       "       '29.62', '29.63', '30.22', '30.23', '30.24', '30.25', '30.26',\n",
       "       '30.08', '29.6', '29.59', '29.58', '30.27', '30.28', '30.29',\n",
       "       '30.3', '30.33', '30.35', '30.34', '30.32', '30.31', '30.36',\n",
       "       '30.37', '30.38', '30.39', '30.4', '30.42', '30.43', '30.44',\n",
       "       '30.46', '30.47', '30.49', '30.5', '30.48', '30.45', '30.51',\n",
       "       '30.52', '30.53', '30.55', '30.56', '30.57', '30.58', '30.54',\n",
       "       '30.59', '29.54', '29.55', '29.53', '29.5', '29.49', '29.46',\n",
       "       '29.45', '29.48', '29.44', '29.42', '29.43', '29.52', '29.57',\n",
       "       '29.61', '30.41', '30.6', '29.56', '29.45s', '29.51', '29.41',\n",
       "       '29.39', '29.37', '29.36', '29.4', '29.38', '29.35', '29.47',\n",
       "       '29.28', '29.17', '29.03', '28.96', '28.95s', '29.02s', '29.04s',\n",
       "       '29.08s', '29.09s', '29.1', '29.13', '29.19', '29.26', '29.33',\n",
       "       '30.61', '30.62', '30.63', '30.65', '30.66', '30.67', '30.68',\n",
       "       '29.62s', '30.64', '30.69', '30.7', '30.71', '29.64s', '29.65s',\n",
       "       '29.29', '29.25s', '29.3', '29.34', '30.72', '30.74', '30.73',\n",
       "       '29.27', '29.24', '29.23', '29.22', '29.2', '29.31', '29.31s',\n",
       "       '29.34s', '29.25', '29.16', '29.11', '29.08', '29.05', '29.07',\n",
       "       '29.32', '29.37s', '29.40s', '29.46s', '29.18', '29.15', '29.21',\n",
       "       '29.14', '29.12', '29.32s', '29.26s', '29.82s', '28.94', '29.09',\n",
       "       '29.35s', '29.04', '28.98', '28.92', '28.92s', '28.93', '28.97',\n",
       "       '29', '29.01', '29.51s', '30.75', '30.76', '30.79', '30.8', '30.81',\n",
       "       '30.82', '30.83', '30.84', '30.77', '30.78', '29.12s', '29.15s',\n",
       "       '28.99', '29.49s', '29.47s', '29.68s', '28.95', '28.9', '28.88s',\n",
       "       '29.06', '30.85', '29.57s', '29.22s', '30.88', '30.9', '30.91',\n",
       "       '30.89', '30.86', '29.30s', '29.33s', '29.43s', '29.76s', '29.39s',\n",
       "       '29.02', '28.96s', '29.01s', '29.06s', '29.13s', '29.19s'], dtype=object)"
      ]
     },
     "execution_count": 204,
     "metadata": {},
     "output_type": "execute_result"
    }
   ],
   "source": [
    "# unique values\n",
    "dataRB.HOURLYSeaLevelPressure.unique()"
   ]
  },
  {
   "cell_type": "code",
   "execution_count": 205,
   "metadata": {
    "collapsed": false
   },
   "outputs": [
    {
     "data": {
      "text/plain": [
       "35103"
      ]
     },
     "execution_count": 205,
     "metadata": {},
     "output_type": "execute_result"
    }
   ],
   "source": [
    "# number of null values not zero \n",
    "dataRB.HOURLYSeaLevelPressure.isnull().sum()"
   ]
  },
  {
   "cell_type": "code",
   "execution_count": 119,
   "metadata": {
    "collapsed": false
   },
   "outputs": [
    {
     "data": {
      "image/png": "[encoded data removed]",
      "text/plain": [
       "<matplotlib.figure.Figure at 0x1c880d1fcc0>"
      ]
     },
     "metadata": {},
     "output_type": "display_data"
    }
   ],
   "source": [
    "dataRB['HOURLYSeaLevelPressure'].value_counts().plot(kind='kde')\n",
    "plt.show()\n"
   ]
  },
  {
   "cell_type": "markdown",
   "metadata": {},
   "source": [
    "# HOURLYPrecip                     "
   ]
  },
  {
   "cell_type": "code",
   "execution_count": 71,
   "metadata": {
    "collapsed": true
   },
   "outputs": [
    {
     "data": {
      "text/plain": [
       "array([nan, '0.0', '0.01', '0.06', '0.07', '0.05', '0.14', '0.08', '0.13',\n",
       "       '0.16', '0.17', '0.02', '0.03', '0.04', '0.09', '0.15', '0.1',\n",
       "       '0.23', '0.18', '0.2', '0.12', '0.26', '0.33', '0.11', '0.32',\n",
       "       '0.25', '0.19', '0.22', '0.39', '0.24', '0.59', '0.49', '0.27',\n",
       "       '0.96', '0.35', '0.31', '0.21', '0.45', '0.43', '1.58', '0.28',\n",
       "       '0.3', '0.29', '0.4', '0.56', '0.34', '0.36', '0.37', '0.38',\n",
       "       '0.67', '0.63', '0.44', '0.74', '0.52', '0.6', '0.5', '1.63',\n",
       "       '0.94', '0.55', '0.46', '0.66', '0.51', '0.58', '0.42', '0.68',\n",
       "       '0.92', '0.98', '0.57', '1.05', '0.48', '0.61', '1.22', '0.47',\n",
       "       '0.85', '1.04', '1.6', '0.95', '1.03', '1.2', '1.09', '1.41', '1.1',\n",
       "       '0.77', '0.7', '0.81', '0.97', '0.41', '1.07', '0.53', '0.82',\n",
       "       '1.54', '0.54', '0.65', '0.75', '0.72', '0.69', '0.89', '0.62',\n",
       "       '0.88', '0.76', '0.8', '0.64', '0.93', '1.0', '1.08', '0.9', '0.73',\n",
       "       '2.03', '0.78', '0.84', '0.005', '1.34', '1.31', '0.91', '6.0',\n",
       "       '1.14', '1.33', '1.21', '1.26', '1.56', '1.61', '9.99', '10.0',\n",
       "       '10.07', '9.95', '9.97', '9.98', '10.01', '9.94', '9.96', '10.05',\n",
       "       '9.93', '0.79', '0.99', '1.5', '1.51', '1.19', '0.86', '1.27',\n",
       "       '1.29', '0.71'], dtype=object)"
      ]
     },
     "execution_count": 71,
     "metadata": {},
     "output_type": "execute_result"
    }
   ],
   "source": [
    "# unique values\n",
    "dataRB.HOURLYPrecip.unique()"
   ]
  },
  {
   "cell_type": "code",
   "execution_count": 72,
   "metadata": {
    "collapsed": false
   },
   "outputs": [
    {
     "data": {
      "text/plain": [
       "56401"
      ]
     },
     "execution_count": 72,
     "metadata": {},
     "output_type": "execute_result"
    }
   ],
   "source": [
    "# number of null values not zero \n",
    "dataRB.HOURLYSeaLevelPressure.isnull().sum()"
   ]
  },
  {
   "cell_type": "code",
   "execution_count": 73,
   "metadata": {
    "collapsed": true
   },
   "outputs": [
    {
     "name": "stderr",
     "output_type": "stream",
     "text": [
      "C:\\Users\\Manasi\\Anaconda3\\lib\\site-packages\\ipykernel\\__main__.py:1: FutureWarning:\n",
      "\n",
      "convert_objects is deprecated.  Use the data-type specific converters pd.to_datetime, pd.to_timedelta and pd.to_numeric.\n",
      "\n"
     ]
    },
    {
     "data": {
      "image/png": "[encoded data removed]",
      "text/plain": [
       "<matplotlib.figure.Figure at 0x1c767442f60>"
      ]
     },
     "metadata": {},
     "output_type": "display_data"
    }
   ],
   "source": [
    "df=dataRB[['HOURLYSeaLevelPressure']].convert_objects(convert_numeric=True)\n",
    "# boxplot \n",
    "df.plot(kind='box')\n",
    "plt.show()"
   ]
  },
  {
   "cell_type": "code",
   "execution_count": null,
   "metadata": {
    "collapsed": true
   },
   "outputs": [],
   "source": []
  },
  {
   "cell_type": "markdown",
   "metadata": {},
   "source": [
    "# HOURLYAltimeterSetting \n",
    "has bulk null values. Can be cleaned by interpolation models"
   ]
  },
  {
   "cell_type": "code",
   "execution_count": 74,
   "metadata": {
    "collapsed": false,
    "scrolled": true
   },
   "outputs": [
    {
     "data": {
      "image/png": "[encoded data removed]",
      "text/plain": [
       "<matplotlib.figure.Figure at 0x1c767c6e7f0>"
      ]
     },
     "metadata": {},
     "output_type": "display_data"
    }
   ],
   "source": [
    "#value counts\n",
    "dataRB['HOURLYAltimeterSetting'].value_counts().plot(kind='kde')\n",
    "plt.show()"
   ]
  },
  {
   "cell_type": "code",
   "execution_count": 212,
   "metadata": {
    "collapsed": true
   },
   "outputs": [
    {
     "data": {
      "text/plain": [
       "array(['29.93', '29.92', '29.94', '29.96', '29.97', '29.98', '29.99',\n",
       "       '30.01', '30.03', '30.05', '30.06', '30.07', nan, '30.08', '30.09',\n",
       "       '30.1', '30.11', '30.12', '30.13', '30.14', '30.15', '30.17',\n",
       "       '30.16', '30.02', '29.95', '29.9', '29.89', '29.88', '29.87',\n",
       "       '29.85', '29.84', '29.83', '29.81', '29.8', '29.79', '29.82',\n",
       "       '29.77', '29.76', '29.78', '29.74', '29.73', '29.71', '29.75',\n",
       "       '29.86', '29.72', '29.7', '29.91', '29.68', '29.69', '29.67',\n",
       "       '29.66', '30', '29.65', '29.64', '29.63', '29.62', '29.61', '29.6',\n",
       "       '29.59', '30.18', '30.19', '30.2', '30.21', '30.22', '30.04',\n",
       "       '29.58', '29.57', '29.56', '29.55', '30.23', '30.24', '30.25',\n",
       "       '30.26', '30.29', '30.3', '30.28', '30.27', '30.32', '30.31',\n",
       "       '30.33', '30.34', '30.35', '30.36', '30.37', '30.38', '30.4',\n",
       "       '30.41', '30.43', '30.44', '30.45', '30.42', '30.39', '30.47',\n",
       "       '30.48', '30.49', '30.51', '30.52', '30.53', '30.54', '30.5',\n",
       "       '30.55', '30.46', '29.51', '29.5', '29.52', '29.49', '29.47',\n",
       "       '29.45', '29.44', '29.43', '29.42', '29.41', '29.4', '29.39',\n",
       "       '29.38', '29.53', '29.54', '29.41s', '29.46', '29.37', '29.36',\n",
       "       '29.35', '29.33', '29.32', '29.31', '29.34', '29.48', '29.23',\n",
       "       '29.13', '29.12', '29.11', '29.06', '29.04', '28.99', '28.93',\n",
       "       '28.92', '28.91', '28.89s', '28.90s', '28.95s', '28.96s', '28.97',\n",
       "       '28.99s', '29.01s', '29.03s', '29.04s', '29.05', '29.08', '29.09',\n",
       "       '29.14', '29.15', '29.21', '29.28', '30.56', '30.57', '30.59',\n",
       "       '30.6', '30.61', '30.62', '30.63', '29.57s', '29.58s', '30.58',\n",
       "       '30.64', '30.65', '29.59s', '29.60s', '29.63s', '29.3', '29.27',\n",
       "       '29.24', '29.20s', '29.26', '29.29', '29.25', '30.66', '30.67',\n",
       "       '30.69', '30.68', '29.22', '29.2', '29.18', '29.16', '29.26s',\n",
       "       '29.27s', '29.28s', '29.19', '29.17', '29.07', '29.03', '29',\n",
       "       '29.02', '29.32s', '29.33s', '29.34s', '29.40s', '29.42s', '29.1',\n",
       "       '29.29s', '29.30s', '29.21s', '29.22s', '29.23s', '28.9', '28.77',\n",
       "       '28.88s', '28.95', '29.01', '28.89', '28.88', '28.87s', '28.87',\n",
       "       '28.96', '28.98', '30.7', '30.71', '30.73', '30.74', '30.76',\n",
       "       '30.77', '30.78', '30.75', '30.72', '29.06s', '29.07s', '29.08s',\n",
       "       '29.11s', '30.79', '29.44s', '29.46s', '29.65s', '28.86', '28.83s',\n",
       "       '28.84s', '28.85s', '28.85', '28.94', '30.8', '29.52s', '29.17s',\n",
       "       '30.82', '30.83', '30.85', '30.86', '30.84', '30.81', '29.39s',\n",
       "       '29.71s', '29.35s', '28.91s', '28.94s', '28.97s', '29.02s',\n",
       "       '29.10s', '29.13s', '29.14s'], dtype=object)"
      ]
     },
     "execution_count": 212,
     "metadata": {},
     "output_type": "execute_result"
    }
   ],
   "source": [
    "# unique values\n",
    "dataRB.HOURLYAltimeterSetting.unique()"
   ]
  },
  {
   "cell_type": "code",
   "execution_count": 76,
   "metadata": {
    "collapsed": false
   },
   "outputs": [
    {
     "name": "stderr",
     "output_type": "stream",
     "text": [
      "C:\\Users\\Manasi\\Anaconda3\\lib\\site-packages\\ipykernel\\__main__.py:1: FutureWarning:\n",
      "\n",
      "convert_objects is deprecated.  Use the data-type specific converters pd.to_datetime, pd.to_timedelta and pd.to_numeric.\n",
      "\n"
     ]
    },
    {
     "data": {
      "image/png": "[encoded data removed]",
      "text/plain": [
       "<matplotlib.figure.Figure at 0x1c8780fcda0>"
      ]
     },
     "metadata": {},
     "output_type": "display_data"
    }
   ],
   "source": [
    "df=dataRB[['HOURLYSeaLevelPressure']].convert_objects(convert_numeric=True)\n",
    "# boxplot \n",
    "df.plot(kind='box')\n",
    "plt.show()"
   ]
  },
  {
   "cell_type": "code",
   "execution_count": 90,
   "metadata": {
    "collapsed": false
   },
   "outputs": [
    {
     "name": "stderr",
     "output_type": "stream",
     "text": [
      "C:\\Users\\Manasi\\Anaconda3\\lib\\site-packages\\ipykernel\\__main__.py:1: FutureWarning: convert_objects is deprecated.  Use the data-type specific converters pd.to_datetime, pd.to_timedelta and pd.to_numeric.\n",
      "  if __name__ == '__main__':\n"
     ]
    }
   ],
   "source": [
    "datac=dataRB[['HOURLYDRYBULBTEMPF','HOURLYWETBULBTEMPF','HOURLYDewPointTempF','HOURLYRelativeHumidity']].convert_objects(convert_numeric=True)"
   ]
  },
  {
   "cell_type": "markdown",
   "metadata": {},
   "source": [
    "# This part contains EDA on the data starting for column 26: the daily monthly summary"
   ]
  },
  {
   "cell_type": "markdown",
   "metadata": {},
   "source": [
    "## The daily/monthly summary columns and monthly columns are eliminated to keep the hourly data consistent.\n",
    " ## pros\n",
    "* consistent hourly data for analysis\n",
    "* sumary data can always be calculated back from the hourly data\n",
    "## cons\n",
    "* user looses ability to query directly on calculated summary data"
   ]
  },
  {
   "cell_type": "code",
   "execution_count": 77,
   "metadata": {
    "collapsed": false
   },
   "outputs": [
    {
     "data": {
      "text/plain": [
       "DAILYSunrise    0\n",
       "DAILYSunset     0\n",
       "dtype: int64"
      ]
     },
     "execution_count": 77,
     "metadata": {},
     "output_type": "execute_result"
    }
   ],
   "source": [
    "dailySummaryData=dataRB.iloc[:,26:48]\n",
    "dailySummaryData.isnull().sum()\n"
   ]
  },
  {
   "cell_type": "code",
   "execution_count": 78,
   "metadata": {
    "collapsed": false
   },
   "outputs": [
    {
     "data": {
      "text/plain": [
       "Series([], dtype: float64)"
      ]
     },
     "execution_count": 78,
     "metadata": {},
     "output_type": "execute_result"
    }
   ],
   "source": [
    "monthlySummaryData=dataRB.iloc[:,49:]\n",
    "monthlySummaryData.isnull().sum()"
   ]
  }
 ],
 "metadata": {
  "kernelspec": {
   "display_name": "Python 3",
   "language": "python",
   "name": "python3"
  },
  "language_info": {
   "codemirror_mode": {
    "name": "ipython",
    "version": 3
   },
   "file_extension": ".py",
   "mimetype": "text/x-python",
   "name": "python",
   "nbconvert_exporter": "python",
   "pygments_lexer": "ipython3",
   "version": "3.6.0"
  }
 },
 "nbformat": 4,
 "nbformat_minor": 2
}
