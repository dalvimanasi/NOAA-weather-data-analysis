{
 "cells": [
  {
   "cell_type": "markdown",
   "metadata": {},
   "source": [
    "# Exploratory Data Analysis on Raw Data\n",
    "\n",
    "This notebook is created to perform an exploratory data analysis on the raw weather data which is sourced from the National Oceanic and Atmospheric Administration website."
   ]
  },
  {
   "cell_type": "code",
   "execution_count": 114,
   "metadata": {
    "collapsed": true
   },
   "outputs": [],
   "source": [
    "import pandas as pd\n",
    "import numpy as np\n",
    "import matplotlib.pyplot as plt\n",
    "import seaborn as sns\n",
    "import matplotlib.dates as mdates\n",
    "import datetime as dt\n",
    "from datetime import datetime\n",
    "import plotly.plotly as py\n",
    "import plotly.graph_objs as go\n",
    "import os\n"
   ]
  },
  {
   "cell_type": "markdown",
   "metadata": {},
   "source": [
    "# import the dataset in pandas dataframe"
   ]
  },
  {
   "cell_type": "code",
   "execution_count": 115,
   "metadata": {
    "collapsed": true,
    "scrolled": true
   },
   "outputs": [],
   "source": [
    "IPATH = os.environ['INGESTIONPATH']+\"/\"\n",
    "dataRB=pd.read_csv(IPATH+\"RawDataStaticEDA.csv\", dtype='object')"
   ]
  },
  {
   "cell_type": "markdown",
   "metadata": {},
   "source": [
    "## Describe the data"
   ]
  },
  {
   "cell_type": "markdown",
   "metadata": {},
   "source": [
    "We can see that there are multiple columns in this dataset with many missing values. There are a total of 90 columns with one record saved for every hour of the day."
   ]
  },
  {
   "cell_type": "code",
   "execution_count": 116,
   "metadata": {
    "collapsed": false,
    "scrolled": true
   },
   "outputs": [
    {
     "data": {
      "text/html": [
       "<div>\n",
       "<table border=\"1\" class=\"dataframe\">\n",
       "  <thead>\n",
       "    <tr style=\"text-align: right;\">\n",
       "      <th></th>\n",
       "      <th>STATION</th>\n",
       "      <th>STATION_NAME</th>\n",
       "      <th>ELEVATION</th>\n",
       "      <th>LATITUDE</th>\n",
       "      <th>LONGITUDE</th>\n",
       "      <th>DATE</th>\n",
       "      <th>REPORTTPYE</th>\n",
       "      <th>HOURLYSKYCONDITIONS</th>\n",
       "      <th>HOURLYVISIBILITY</th>\n",
       "      <th>HOURLYPRSENTWEATHERTYPE</th>\n",
       "      <th>...</th>\n",
       "      <th>MonthlyMaxSeaLevelPressureTime</th>\n",
       "      <th>MonthlyMinSeaLevelPressureValue</th>\n",
       "      <th>MonthlyMinSeaLevelPressureDate</th>\n",
       "      <th>MonthlyMinSeaLevelPressureTime</th>\n",
       "      <th>MonthlyTotalHeatingDegreeDays</th>\n",
       "      <th>MonthlyTotalCoolingDegreeDays</th>\n",
       "      <th>MonthlyDeptFromNormalHeatingDD</th>\n",
       "      <th>MonthlyDeptFromNormalCoolingDD</th>\n",
       "      <th>MonthlyTotalSeasonToDateHeatingDD</th>\n",
       "      <th>MonthlyTotalSeasonToDateCoolingDD</th>\n",
       "    </tr>\n",
       "  </thead>\n",
       "  <tbody>\n",
       "    <tr>\n",
       "      <th>count</th>\n",
       "      <td>724623</td>\n",
       "      <td>724623</td>\n",
       "      <td>724623</td>\n",
       "      <td>724623</td>\n",
       "      <td>724623</td>\n",
       "      <td>724623</td>\n",
       "      <td>724623</td>\n",
       "      <td>381699</td>\n",
       "      <td>694322</td>\n",
       "      <td>184550</td>\n",
       "      <td>...</td>\n",
       "      <td>724623</td>\n",
       "      <td>0.0</td>\n",
       "      <td>724623</td>\n",
       "      <td>724623</td>\n",
       "      <td>148</td>\n",
       "      <td>148</td>\n",
       "      <td>148</td>\n",
       "      <td>148</td>\n",
       "      <td>1</td>\n",
       "      <td>1</td>\n",
       "    </tr>\n",
       "    <tr>\n",
       "      <th>unique</th>\n",
       "      <td>1</td>\n",
       "      <td>1</td>\n",
       "      <td>1</td>\n",
       "      <td>1</td>\n",
       "      <td>1</td>\n",
       "      <td>724623</td>\n",
       "      <td>10</td>\n",
       "      <td>77180</td>\n",
       "      <td>157</td>\n",
       "      <td>904</td>\n",
       "      <td>...</td>\n",
       "      <td>1</td>\n",
       "      <td>0.0</td>\n",
       "      <td>1</td>\n",
       "      <td>1</td>\n",
       "      <td>131</td>\n",
       "      <td>70</td>\n",
       "      <td>112</td>\n",
       "      <td>61</td>\n",
       "      <td>1</td>\n",
       "      <td>1</td>\n",
       "    </tr>\n",
       "    <tr>\n",
       "      <th>top</th>\n",
       "      <td>WBAN:14739</td>\n",
       "      <td>BOSTON MA US</td>\n",
       "      <td>3.7</td>\n",
       "      <td>42.3606</td>\n",
       "      <td>-71.0097</td>\n",
       "      <td>1995-09-09 17:00:00</td>\n",
       "      <td>SAO</td>\n",
       "      <td>250</td>\n",
       "      <td>14.91</td>\n",
       "      <td>||FG:45</td>\n",
       "      <td>...</td>\n",
       "      <td>-9999</td>\n",
       "      <td>NaN</td>\n",
       "      <td>-9999</td>\n",
       "      <td>-9999</td>\n",
       "      <td>0</td>\n",
       "      <td>0</td>\n",
       "      <td>-7</td>\n",
       "      <td>0</td>\n",
       "      <td>5634.0</td>\n",
       "      <td>185.0</td>\n",
       "    </tr>\n",
       "    <tr>\n",
       "      <th>freq</th>\n",
       "      <td>724623</td>\n",
       "      <td>724623</td>\n",
       "      <td>724623</td>\n",
       "      <td>724623</td>\n",
       "      <td>724623</td>\n",
       "      <td>1</td>\n",
       "      <td>396501</td>\n",
       "      <td>11214</td>\n",
       "      <td>182925</td>\n",
       "      <td>31828</td>\n",
       "      <td>...</td>\n",
       "      <td>724623</td>\n",
       "      <td>NaN</td>\n",
       "      <td>724623</td>\n",
       "      <td>724623</td>\n",
       "      <td>15</td>\n",
       "      <td>66</td>\n",
       "      <td>9</td>\n",
       "      <td>64</td>\n",
       "      <td>1</td>\n",
       "      <td>1</td>\n",
       "    </tr>\n",
       "  </tbody>\n",
       "</table>\n",
       "<p>4 rows × 90 columns</p>\n",
       "</div>"
      ],
      "text/plain": [
       "           STATION  STATION_NAME ELEVATION LATITUDE LONGITUDE  \\\n",
       "count       724623        724623    724623   724623    724623   \n",
       "unique           1             1         1        1         1   \n",
       "top     WBAN:14739  BOSTON MA US       3.7  42.3606  -71.0097   \n",
       "freq        724623        724623    724623   724623    724623   \n",
       "\n",
       "                       DATE REPORTTPYE HOURLYSKYCONDITIONS HOURLYVISIBILITY  \\\n",
       "count                724623     724623              381699           694322   \n",
       "unique               724623         10               77180              157   \n",
       "top     1995-09-09 17:00:00        SAO                 250            14.91   \n",
       "freq                      1     396501               11214           182925   \n",
       "\n",
       "       HOURLYPRSENTWEATHERTYPE                ...                 \\\n",
       "count                   184550                ...                  \n",
       "unique                     904                ...                  \n",
       "top                    ||FG:45                ...                  \n",
       "freq                     31828                ...                  \n",
       "\n",
       "       MonthlyMaxSeaLevelPressureTime MonthlyMinSeaLevelPressureValue  \\\n",
       "count                          724623                             0.0   \n",
       "unique                              1                             0.0   \n",
       "top                             -9999                             NaN   \n",
       "freq                           724623                             NaN   \n",
       "\n",
       "       MonthlyMinSeaLevelPressureDate MonthlyMinSeaLevelPressureTime  \\\n",
       "count                          724623                         724623   \n",
       "unique                              1                              1   \n",
       "top                             -9999                          -9999   \n",
       "freq                           724623                         724623   \n",
       "\n",
       "       MonthlyTotalHeatingDegreeDays MonthlyTotalCoolingDegreeDays  \\\n",
       "count                            148                           148   \n",
       "unique                           131                            70   \n",
       "top                                0                             0   \n",
       "freq                              15                            66   \n",
       "\n",
       "       MonthlyDeptFromNormalHeatingDD MonthlyDeptFromNormalCoolingDD  \\\n",
       "count                             148                            148   \n",
       "unique                            112                             61   \n",
       "top                                -7                              0   \n",
       "freq                                9                             64   \n",
       "\n",
       "       MonthlyTotalSeasonToDateHeatingDD MonthlyTotalSeasonToDateCoolingDD  \n",
       "count                                  1                                 1  \n",
       "unique                                 1                                 1  \n",
       "top                               5634.0                             185.0  \n",
       "freq                                   1                                 1  \n",
       "\n",
       "[4 rows x 90 columns]"
      ]
     },
     "execution_count": 116,
     "metadata": {},
     "output_type": "execute_result"
    }
   ],
   "source": [
    "dataRB.describe()"
   ]
  },
  {
   "cell_type": "markdown",
   "metadata": {},
   "source": [
    "### Date column conversion.\n",
    "The Date column is converted from string to date type to perform the below analysis."
   ]
  },
  {
   "cell_type": "code",
   "execution_count": 5,
   "metadata": {
    "collapsed": true
   },
   "outputs": [],
   "source": [
    "dataRB['DATE'] =  pd.to_datetime(dataRB['DATE'])"
   ]
  },
  {
   "cell_type": "code",
   "execution_count": 73,
   "metadata": {
    "collapsed": true
   },
   "outputs": [],
   "source": [
    "\n",
    "full_range = pd.date_range(dataRB['DATE'].min(), dataRB['DATE'].max())\n",
    "missing_dates = full_range[~full_range.isin(dataRB['DATE'])]\n"
   ]
  },
  {
   "cell_type": "code",
   "execution_count": null,
   "metadata": {
    "collapsed": true
   },
   "outputs": [],
   "source": [
    "dataRB['DATE'].value_counts().plot(kind='bar')"
   ]
  },
  {
   "cell_type": "markdown",
   "metadata": {},
   "source": [
    "# Null Analysis\n",
    "\n",
    "Plotting and displaying the null counts of the report types and dates and also checking counts to understand the frequency of the report type"
   ]
  },
  {
   "cell_type": "code",
   "execution_count": 151,
   "metadata": {
    "collapsed": true
   },
   "outputs": [],
   "source": [
    "dataRB1=dataRB[['DATE','REPORTTPYE']]\n",
    "\n",
    "dataRB1['year']=pd.to_datetime(dataRB1['DATE'])"
   ]
  },
  {
   "cell_type": "code",
   "execution_count": 145,
   "metadata": {
    "collapsed": true
   },
   "outputs": [],
   "source": [
    "dataRB1=dataRB[['DATE','REPORTTPYE']]\n",
    "dataRB1['DATE']=pd.to_datetime(dataRB1['DATE'])\n"
   ]
  },
  {
   "cell_type": "code",
   "execution_count": 7,
   "metadata": {
    "collapsed": false
   },
   "outputs": [
    {
     "data": {
      "text/plain": [
       "SAO      396501\n",
       "FM-15    178949\n",
       "FM-16     37514\n",
       "FM-12     35876\n",
       "SY-SA     32136\n",
       "SAOSP     24339\n",
       "SY-MT     14754\n",
       "SOD        4550\n",
       "AUTO          3\n",
       "SOM           1\n",
       "Name: REPORTTPYE, dtype: int64"
      ]
     },
     "execution_count": 7,
     "metadata": {},
     "output_type": "execute_result"
    }
   ],
   "source": [
    "count=dataRB['REPORTTPYE'].value_counts()\n",
    "count"
   ]
  },
  {
   "cell_type": "code",
   "execution_count": 91,
   "metadata": {
    "collapsed": false
   },
   "outputs": [
    {
     "data": {
      "image/png": "[encoded data removed]",
      "text/plain": [
       "<matplotlib.figure.Figure at 0x2691f3e6e80>"
      ]
     },
     "metadata": {},
     "output_type": "display_data"
    }
   ],
   "source": [
    "count.plot(kind='bar')\n",
    "plt.show()"
   ]
  },
  {
   "cell_type": "markdown",
   "metadata": {},
   "source": [
    "# HOURLYSKYCONDITIONS        \n",
    "        "
   ]
  },
  {
   "cell_type": "code",
   "execution_count": 9,
   "metadata": {
    "collapsed": false,
    "scrolled": true
   },
   "outputs": [
    {
     "data": {
      "text/plain": [
       "250                                11214\n",
       "CLR:00                             10519\n",
       "FEW:02 250                          5185\n",
       "OVC:08 4                            3023\n",
       "OVC:08 5                            2862\n",
       "50                                  2708\n",
       "OVC:08 3                            2654\n",
       "OVC:08 6                            2505\n",
       "FEW:02 722                          2307\n",
       "40                                  2241\n",
       "OVC:08 8                            1968\n",
       "OVC:08 7                            1965\n",
       "100                                 1834\n",
       "FEW:02 50                           1772\n",
       "BKN:07 250                          1664\n",
       "FEW:02 60                           1623\n",
       "150  250                            1606\n",
       "SCT:04 250                          1568\n",
       "OVC:08 9                            1548\n",
       "OVC:08 722                          1521\n",
       "60                                  1507\n",
       "BKN:06 722                          1489\n",
       "30                                  1467\n",
       "120                                 1395\n",
       "OVC:08 10                           1379\n",
       "45                                  1360\n",
       "120  250                            1324\n",
       "57                                  1316\n",
       "35                                  1309\n",
       "80                                  1273\n",
       "                                   ...  \n",
       "BKN:05 8 BKN:06 722                    1\n",
       "SCT:04 40 BKN:06 90                    1\n",
       "SCT:04 65  200  280                    1\n",
       "FEW:02 49 BKN:07 69 BKN:07 246         1\n",
       "8  35  55                              1\n",
       "9 FEW:02 80 BKN:06 240                 1\n",
       "FEW:02 36 FEW:02 48 FEW:02 59          1\n",
       "FEW:02 47 BKN:07 69 BKN:07 98          1\n",
       "BKN:07 30 BKN:07 38 OVC:08 48          1\n",
       "FEW:02 10 BKN:07 14 BKN:07 80          1\n",
       "SCT:04 12 BKN:07 39                    1\n",
       "FEW:02 15  130                         1\n",
       "FEW:02 44 OVC:08 55                    1\n",
       "FEW:02 55 FEW:01 75 BKN:07 722         1\n",
       "FEW:02 10 BKN:07 30 OVC:08 49          1\n",
       "FEW:02 20 BKN:05 75                    1\n",
       "FEW:02 48 BKN:07 300                   1\n",
       "FEW:02 30 BKN:07 170 BKN:07 230        1\n",
       "FEW:01 722 BKN:06 722                  1\n",
       "BKN:07 42 BKN:07 260                   1\n",
       "SCT:03 120 FEW:02 160                  1\n",
       "50 BKN:06 260                          1\n",
       "SCT:04 3 BKN:07 9 OVC:08 24            1\n",
       "FEW:02 55 SCT:03 150 BKN:05 250        1\n",
       "38  70  150                            1\n",
       "FEW:01 18 FEW:02 80 BKN:06 120         1\n",
       "BKN:07 23 OVC:08 55                    1\n",
       "BKN:07 20 FEW:01 45                    1\n",
       "BKN:07 5 BKN:07 16 OVC:08 25           1\n",
       "BKN:06 30  60 OVC:08 75                1\n",
       "Name: HOURLYSKYCONDITIONS, dtype: int64"
      ]
     },
     "execution_count": 9,
     "metadata": {},
     "output_type": "execute_result"
    }
   ],
   "source": [
    "dataRB['HOURLYSKYCONDITIONS'].value_counts(sort=True)"
   ]
  },
  {
   "cell_type": "code",
   "execution_count": 144,
   "metadata": {
    "collapsed": false
   },
   "outputs": [
    {
     "data": {
      "text/plain": [
       "28760"
      ]
     },
     "execution_count": 144,
     "metadata": {},
     "output_type": "execute_result"
    }
   ],
   "source": [
    "dataRB.HOURLYSKYCONDITIONS.isnull().sum()"
   ]
  },
  {
   "cell_type": "markdown",
   "metadata": {},
   "source": [
    "# HOURLYVISIBILITY    \n",
    "## filling missing data with mean for the day to understand if we can interpolate missing values"
   ]
  },
  {
   "cell_type": "code",
   "execution_count": 51,
   "metadata": {
    "collapsed": false
   },
   "outputs": [
    {
     "data": {
      "image/png": "[encoded data removed]",
      "text/plain": [
       "<matplotlib.figure.Figure at 0x1d79fd8e6d8>"
      ]
     },
     "metadata": {},
     "output_type": "display_data"
    }
   ],
   "source": [
    "# value_counts                 \n",
    "dataRB['HOURLYVISIBILITY'].value_counts().plot(kind='hist')\n",
    "plt.show()"
   ]
  },
  {
   "cell_type": "markdown",
   "metadata": {
    "collapsed": true
   },
   "source": [
    "Plotting box plot to check distribution. We can see that the mean is getting reduced."
   ]
  },
  {
   "cell_type": "code",
   "execution_count": 52,
   "metadata": {
    "collapsed": false,
    "scrolled": false
   },
   "outputs": [
    {
     "name": "stderr",
     "output_type": "stream",
     "text": [
      "C:\\Users\\Manasi\\Anaconda3\\lib\\site-packages\\ipykernel\\__main__.py:1: FutureWarning: convert_objects is deprecated.  Use the data-type specific converters pd.to_datetime, pd.to_timedelta and pd.to_numeric.\n",
      "  if __name__ == '__main__':\n"
     ]
    },
    {
     "data": {
      "image/png": "[encoded data removed]",
      "text/plain": [
       "<matplotlib.figure.Figure at 0x1d7a4b6f1d0>"
      ]
     },
     "metadata": {},
     "output_type": "display_data"
    }
   ],
   "source": [
    "df=dataRB[['HOURLYVISIBILITY']].convert_objects(convert_numeric=True)# boxplot \n",
    "df.plot(kind='box')\n",
    "plt.show()"
   ]
  },
  {
   "cell_type": "markdown",
   "metadata": {},
   "source": [
    "Almost half of the values for Hourly Visibility are null"
   ]
  },
  {
   "cell_type": "code",
   "execution_count": 50,
   "metadata": {
    "collapsed": false
   },
   "outputs": [
    {
     "data": {
      "text/plain": [
       "342924"
      ]
     },
     "execution_count": 50,
     "metadata": {},
     "output_type": "execute_result"
    }
   ],
   "source": [
    "# sum of null values\n",
    "dataRB.HOURLYVISIBILITY.isnull().sum()"
   ]
  },
  {
   "cell_type": "code",
   "execution_count": 63,
   "metadata": {
    "collapsed": false
   },
   "outputs": [
    {
     "data": {
      "text/plain": [
       "30301"
      ]
     },
     "execution_count": 63,
     "metadata": {},
     "output_type": "execute_result"
    }
   ],
   "source": [
    "dataRB.HOURLYVISIBILITY.isnull().sum()"
   ]
  },
  {
   "cell_type": "markdown",
   "metadata": {},
   "source": [
    "# HOURLYPRSENTWEATHERTYPE              "
   ]
  },
  {
   "cell_type": "code",
   "execution_count": 148,
   "metadata": {
    "collapsed": false,
    "scrolled": true
   },
   "outputs": [
    {
     "data": {
      "text/plain": [
       "BR:1 ||                                                11963\n",
       "-SN:03 BR:1 |SN:71 |                                    3735\n",
       "-RA:02 BR:1 |RA:61 |                                    3469\n",
       "-RA:02 BR:1 |RA:61 |RA:61                               2968\n",
       "-RA:02 |RA:61 |                                         2522\n",
       "-RA:02 |RA:61 |RA:61                                    1552\n",
       "-SN:03 |SN:71 |                                         1294\n",
       "FG:2 |FG:30 |                                           1234\n",
       "RA:02 BR:1 |RA:62 |RA:63                                1026\n",
       "RA:02 BR:1 |RA:62 |                                     1003\n",
       "HZ:7 ||HZ:05                                             542\n",
       "+RA:02 BR:1 |RA:63 |                                     330\n",
       "+RA:02 BR:1 |RA:63 |RA:65                                302\n",
       "FG:2 |FG:30 |FG:45                                       290\n",
       "SN:03 FG:2 |FG:35 SN:72 |                                205\n",
       "FG:2 |FG:35 |                                            177\n",
       "FG:2 |FG:30 |FG:44                                       170\n",
       "MI:1 FG:2 |FG:31 |FG:12                                  169\n",
       "HZ:7 |FU:05 |HZ:05                                       140\n",
       "SN:03 FG:2 |FG:35 SN:72 |FG:49                           137\n",
       "-RA:02 BR:1 |FZRA:64 |                                   136\n",
       "RA:02 |RA:62 |                                           119\n",
       "-RA:02 BR:1 |FZRA:64 |FZRA:66                            108\n",
       "SN:03 BR:1 |SN:72 |                                      102\n",
       "UP:09 BR:1 ||                                             99\n",
       "UP:09 ||                                                  96\n",
       "BC:3 FG:2 |FG:31 |                                        95\n",
       "MI:1 FG:2 ||FG:12                                         86\n",
       "VC||TS:17                                                 82\n",
       "-DZ:01 BR:1 |DZ:51 |DZ:51                                 81\n",
       "                                                       ...  \n",
       "SN:03 BR:1 SQ:2 |SQ:18 SN:72 |SQ:18                        1\n",
       "VC+RA:02 FG:2 |FG:30 RA:63 |TS:17 FG:45 RA:65              1\n",
       "VCRA:02 HZ:7 |RA:62 |HZ:05 TS:17 RA:63                     1\n",
       "HZ:7 s VCSN:03 s |FU:05 |HZ:05 s                           1\n",
       "SN:03 s FG:2 s SQ:2 s |SQ:18 s FG:35 s SN:72 s |           1\n",
       "VC-SN:03 FG:2 |FG:30 SN:71 |                               1\n",
       "-RA:02 SN:03 BR:1 |RA:67 SN:71 |                           1\n",
       "RA:02 |RA:62 |SHRA:81 TS:95                                1\n",
       "-RA:02 FU:3 |FU:05 RA:61 |FU:04 RA:61                      1\n",
       "s -RA:02 s |RA:61 s TS:90 s |SHRA:80 TS:95                 1\n",
       "SN:03 RA:02 |RA:62 SN:72 TS:90 |SHRA:81 TS:95              1\n",
       "HZ:7 |TS:90 |HZ:05 TS:17                                   1\n",
       "-SN:03 s SN:03 s FG:2 s |s FG:35 s SN:71 s |               1\n",
       "RA:02 BR:1 SQ:2 |SQ:18 RA:62 |SQ:18 RA:63                  1\n",
       "VC-SN:03 BR:1 |SN:71 |TS:17                                1\n",
       "SN:03 BR:1 SQ:2 |SQ:18 SN:72 |                             1\n",
       "VCHZ:7 |HZ:04 |HZ:05                                       1\n",
       "-RA:02 PL:06 |FZRA:64 PL:74 |FZRA:66 PL:79                 1\n",
       "+RA:02 |RA:63 TS:90 |                                      1\n",
       "MI:1 FG:2 BR:1 |FG:31 |FG:12                               1\n",
       "VCBR:1 FU:3 |FU:05 |                                       1\n",
       "RA:02 FG:2 |FG:30 RA:62 TS:90 |                            1\n",
       "DZ:01 |DZ:52 |DZ:53                                        1\n",
       "-RA:02 BC:3 FG:2 |FG:31 RA:61 |FG:41 RA:61                 1\n",
       "+RA:02 FG:2 |FG:30 RA:63 TS:90 |FG:45 SHRA:82 TS:97        1\n",
       "+RA:02 BR:1 |RA:63 TS:90 |TS:97                            1\n",
       "||FG:49 RA:63                                              1\n",
       "+SN:03 s FG:2 s |FG:35 s SN:73 s |FG:49                    1\n",
       "RA:02 HZ:7 |RA:62 TS:90 |HZ:05 SHRA:81 TS:95               1\n",
       "VC-RA:02 HZ:7 |RA:61 |HZ:05 TS:17 RA:61                    1\n",
       "Name: HOURLYPRSENTWEATHERTYPE, dtype: int64"
      ]
     },
     "execution_count": 148,
     "metadata": {},
     "output_type": "execute_result"
    }
   ],
   "source": [
    "dataRB['HOURLYPRSENTWEATHERTYPE'].value_counts()"
   ]
  },
  {
   "cell_type": "code",
   "execution_count": 48,
   "metadata": {
    "collapsed": false
   },
   "outputs": [
    {
     "data": {
      "text/plain": [
       "540073"
      ]
     },
     "execution_count": 48,
     "metadata": {},
     "output_type": "execute_result"
    }
   ],
   "source": [
    "\n",
    "dataRB.HOURLYPRSENTWEATHERTYPE.isnull().sum()"
   ]
  },
  {
   "cell_type": "markdown",
   "metadata": {},
   "source": [
    "  # HOURLYDRYBULBTEMPF "
   ]
  },
  {
   "cell_type": "markdown",
   "metadata": {},
   "source": [
    "## Findings and cleaning: \n",
    "* column has character values, null values and * character values which needs to be cleaned \n",
    "* missing values can be calculated by Deg to F formula.\n",
    "* \n"
   ]
  },
  {
   "cell_type": "code",
   "execution_count": 40,
   "metadata": {
    "collapsed": false
   },
   "outputs": [
    {
     "data": {
      "text/plain": [
       "695837"
      ]
     },
     "execution_count": 40,
     "metadata": {},
     "output_type": "execute_result"
    }
   ],
   "source": [
    "# number of values \n",
    "dataRB['HOURLYDRYBULBTEMPF'].count()"
   ]
  },
  {
   "cell_type": "code",
   "execution_count": 7,
   "metadata": {
    "collapsed": false
   },
   "outputs": [
    {
     "data": {
      "text/plain": [
       "28786"
      ]
     },
     "execution_count": 7,
     "metadata": {},
     "output_type": "execute_result"
    }
   ],
   "source": [
    "# number of null values \n",
    "dataRB.HOURLYDRYBULBTEMPF.isnull().sum()"
   ]
  },
  {
   "cell_type": "code",
   "execution_count": 152,
   "metadata": {
    "collapsed": true
   },
   "outputs": [
    {
     "data": {
      "text/plain": [
       "array(['57', '56', '55', '54', '58', '59', '61', '65', '67', '68', '72',\n",
       "       '70', '66', '63', '51', '50', nan, '47', '48', '46', '60', '64',\n",
       "       '71', '73', '69', '53', '62', '74', '76', '77', '79', '80', '78',\n",
       "       '75', '81', '82', '83', '84', '86', '89', '85', '88', '90', '87',\n",
       "       '91', '92', '94', '95', '52', '49', '73s', '45', '96', '93', '43',\n",
       "       '44', '40', '41', '42', '39', '37', '38', '35', '36', '34', '55s',\n",
       "       '33', '80s', '32', '31', '54s', '29', '28', '30', '26', '25', '24',\n",
       "       '22', '23', '27', '21', '20', '19', '18', '17', '16', '15', '10',\n",
       "       '9', '13', '14', '12', '11', '8', '3', '4', '2', '7', '6', '5',\n",
       "       '-1', '1', '76s', '72s', '97', '98', '82s', '63s', '62s', '28s',\n",
       "       '-3', '-5', '-8', '-9', '-7', '0', '-4', '-6', '27s', '25s', '81s',\n",
       "       '61s', '50s', '48s', '69s', '68s', '99', '100', '60s', '65s', '-2',\n",
       "       '*', '101', '59s', '78s', '90s', '38s', '57s', '66s', '-10', '-11',\n",
       "       '-12', '32s', '64s', '-13', '79s', '83s', '71s', '88s'], dtype=object)"
      ]
     },
     "execution_count": 152,
     "metadata": {},
     "output_type": "execute_result"
    }
   ],
   "source": [
    "# unique values: contains * and character values.\n",
    "dataRB.HOURLYDRYBULBTEMPF.unique()"
   ]
  },
  {
   "cell_type": "code",
   "execution_count": 35,
   "metadata": {
    "collapsed": false,
    "scrolled": true
   },
   "outputs": [
    {
     "data": {
      "text/plain": [
       "63     14401\n",
       "64     14146\n",
       "37     13950\n",
       "66     13904\n",
       "50     13766\n",
       "39     13664\n",
       "34     13659\n",
       "45     13622\n",
       "36     13430\n",
       "70     13400\n",
       "43     13338\n",
       "57     13296\n",
       "48     13263\n",
       "54     13186\n",
       "61     13168\n",
       "55     13149\n",
       "68     13142\n",
       "40     13028\n",
       "46     13024\n",
       "41     12819\n",
       "52     12602\n",
       "65     12565\n",
       "42     12492\n",
       "38     12260\n",
       "60     12104\n",
       "67     12049\n",
       "47     12030\n",
       "62     11913\n",
       "59     11890\n",
       "69     11766\n",
       "       ...  \n",
       "55s        2\n",
       "75s        2\n",
       "76s        2\n",
       "73s        2\n",
       "47s        2\n",
       "53s        2\n",
       "66s        2\n",
       "78s        2\n",
       "-12        2\n",
       "51s        1\n",
       "72s        1\n",
       "90s        1\n",
       "79s        1\n",
       "4s         1\n",
       "64s        1\n",
       "91s        1\n",
       "50s        1\n",
       "77s        1\n",
       "74s        1\n",
       "63s        1\n",
       "38s        1\n",
       "42s        1\n",
       "43s        1\n",
       "-11        1\n",
       "44s        1\n",
       "34s        1\n",
       "59s        1\n",
       "-9s        1\n",
       "-10        1\n",
       "3s         1\n",
       "Name: HOURLYDRYBULBTEMPF, dtype: int64"
      ]
     },
     "execution_count": 35,
     "metadata": {},
     "output_type": "execute_result"
    }
   ],
   "source": [
    "#value_counts\n",
    "dataRB['HOURLYDRYBULBTEMPF'].value_counts()"
   ]
  },
  {
   "cell_type": "markdown",
   "metadata": {},
   "source": [
    "Checking the distribution of HourlyDryBulbTemperature in Farenheit"
   ]
  },
  {
   "cell_type": "code",
   "execution_count": 17,
   "metadata": {
    "collapsed": false
   },
   "outputs": [
    {
     "name": "stderr",
     "output_type": "stream",
     "text": [
      "C:\\Users\\Manasi\\Anaconda3\\lib\\site-packages\\ipykernel\\__main__.py:1: FutureWarning:\n",
      "\n",
      "convert_objects is deprecated.  Use the data-type specific converters pd.to_datetime, pd.to_timedelta and pd.to_numeric.\n",
      "\n"
     ]
    }
   ],
   "source": [
    " df=dataRB[['HOURLYDRYBULBTEMPF']].convert_objects(convert_numeric=True)"
   ]
  },
  {
   "cell_type": "code",
   "execution_count": 18,
   "metadata": {
    "collapsed": false
   },
   "outputs": [
    {
     "data": {
      "image/png": "[encoded data removed]",
      "text/plain": [
       "<matplotlib.figure.Figure at 0x2542859ee48>"
      ]
     },
     "metadata": {},
     "output_type": "display_data"
    }
   ],
   "source": [
    "# boxplot \n",
    "df.plot(kind='box')\n",
    "plt.show()"
   ]
  },
  {
   "cell_type": "markdown",
   "metadata": {},
   "source": [
    "# HOURLYDRYBULBTEMPC            "
   ]
  },
  {
   "cell_type": "code",
   "execution_count": 42,
   "metadata": {
    "collapsed": false
   },
   "outputs": [
    {
     "data": {
      "text/plain": [
       "695837"
      ]
     },
     "execution_count": 42,
     "metadata": {},
     "output_type": "execute_result"
    }
   ],
   "source": [
    "dataRB['HOURLYDRYBULBTEMPC'].count()"
   ]
  },
  {
   "cell_type": "code",
   "execution_count": 45,
   "metadata": {
    "collapsed": false,
    "scrolled": true
   },
   "outputs": [
    {
     "data": {
      "image/png": "[encoded data removed]",
      "text/plain": [
       "<matplotlib.figure.Figure at 0x1d7a7a73908>"
      ]
     },
     "metadata": {},
     "output_type": "display_data"
    }
   ],
   "source": [
    "dataRB['HOURLYDRYBULBTEMPC'].value_counts().plot(kind='hist')\n",
    "plt.show()"
   ]
  },
  {
   "cell_type": "code",
   "execution_count": 156,
   "metadata": {
    "collapsed": true
   },
   "outputs": [
    {
     "data": {
      "text/plain": [
       "array(['14', '13.9', '13.3', '12.8', '12.2', '14.4', '15', '16.1', '18.3',\n",
       "       '19.4', '20', '22.2', '21.1', '18.9', '17.2', '10.6', '10', nan,\n",
       "       '8.3', '8.9', '7.8', '15.6', '17.8', '21.7', '22.8', '20.6', '11.7',\n",
       "       '16.7', '23.3', '24.4', '25', '26.1', '26.7', '25.6', '17', '18',\n",
       "       '19', '21', '22', '23', '23.9', '27', '27.2', '27.8', '28.3', '26',\n",
       "       '24', '28.9', '30', '31.7', '29.4', '29', '31.1', '32', '32.2',\n",
       "       '31', '28', '30.6', '32.8', '33.3', '34.4', '35', '16', '11.1',\n",
       "       '9.4', '9', '13', '12', '22.8s', '7.2', '8', '11', '35.6', '33.9',\n",
       "       '6.1', '6.7', '4.4', '5', '5.6', '3.9', '2.8', '3.3', '1.7', '2.2',\n",
       "       '1.1', '6', '4', '2', '13.0s', '0.6', '1', '26.7s', '0', '-0.6',\n",
       "       '12.0s', '-1.7', '-2.2', '-1.1', '-1', '-3.3', '-3.9', '-4.4',\n",
       "       '-5.6', '-5', '-2.8', '-6.1', '-6.7', '7', '-2', '3', '-7.2',\n",
       "       '-7.8', '-4', '-7', '-8.3', '-8.9', '-6', '-3', '-9.4', '-12.2',\n",
       "       '-12.8', '-10.6', '-10', '-11.1', '-11.7', '-8', '-9', '-13.3',\n",
       "       '-16.1', '-15.6', '-16.7', '-13.9', '-14.4', '-15', '-18.3',\n",
       "       '-17.2', '24.4s', '22.2s', '36.1', '36.7', '28.0s', '17.0s',\n",
       "       '16.7s', '-2.0s', '-11', '-12', '-19.4', '-20.6', '-22.2', '-22.8',\n",
       "       '-21.7', '-17.8', '-20', '-21.1', '-3.0s', '-4.0s', '27.0s',\n",
       "       '16.0s', '10.0s', '9.0s', '20.6s', '20.0s', '37.2', '37.8', '15.6s',\n",
       "       '18.3s', '-18.9', '-14', '-13', '*', '36', '38.3', '15.0s', '25.6s',\n",
       "       '32.0s', '3.3s', '34', '14.0s', '18.9s', '-16', '-17', '-18',\n",
       "       '-23.3', '-23.9', '-24.4', '-24', '0.0s', '18.0s', '-25', '26.1s',\n",
       "       '28.3s', '21.7s', '12.2s', '17.8s', '31.0s', '12.8s'], dtype=object)"
      ]
     },
     "execution_count": 156,
     "metadata": {},
     "output_type": "execute_result"
    }
   ],
   "source": [
    "dataRB.HOURLYDRYBULBTEMPC.unique()"
   ]
  },
  {
   "cell_type": "code",
   "execution_count": 47,
   "metadata": {
    "collapsed": false
   },
   "outputs": [
    {
     "data": {
      "text/plain": [
       "28786"
      ]
     },
     "execution_count": 47,
     "metadata": {},
     "output_type": "execute_result"
    }
   ],
   "source": [
    "dataRB.HOURLYDRYBULBTEMPC.isnull().sum()"
   ]
  },
  {
   "cell_type": "markdown",
   "metadata": {},
   "source": [
    "# HOURLYWETBULBTEMPF   : nan , '*'                "
   ]
  },
  {
   "cell_type": "code",
   "execution_count": 41,
   "metadata": {
    "collapsed": false
   },
   "outputs": [
    {
     "data": {
      "text/plain": [
       "641484"
      ]
     },
     "execution_count": 41,
     "metadata": {},
     "output_type": "execute_result"
    }
   ],
   "source": [
    "    \n",
    "dataRB['HOURLYWETBULBTEMPF'].count()"
   ]
  },
  {
   "cell_type": "code",
   "execution_count": 42,
   "metadata": {
    "collapsed": true
   },
   "outputs": [
    {
     "data": {
      "text/plain": [
       "63     14447\n",
       "62     14319\n",
       "64     14065\n",
       "38     14030\n",
       "61     13548\n",
       "65     13482\n",
       "33     13309\n",
       "60     13235\n",
       "58     13109\n",
       "55     13054\n",
       "57     13014\n",
       "35     12857\n",
       "59     12793\n",
       "40     12787\n",
       "37     12742\n",
       "39     12711\n",
       "54     12414\n",
       "32     12301\n",
       "34     12248\n",
       "36     12239\n",
       "43     12238\n",
       "46     12221\n",
       "45     12052\n",
       "56     12049\n",
       "53     12026\n",
       "48     11802\n",
       "66     11702\n",
       "44     11699\n",
       "47     11645\n",
       "51     11572\n",
       "       ...  \n",
       "3        318\n",
       "2        295\n",
       "83       282\n",
       "1        201\n",
       "84       176\n",
       "0        164\n",
       "-1       152\n",
       "85        89\n",
       "-3        86\n",
       "-2        55\n",
       "-4        53\n",
       "86        46\n",
       "87        33\n",
       "-5        27\n",
       "*         13\n",
       "88        11\n",
       "90        10\n",
       "-6         8\n",
       "-10        8\n",
       "91         5\n",
       "-7         5\n",
       "92         4\n",
       "-8         4\n",
       "89         3\n",
       "-9         2\n",
       "93         2\n",
       "-13        2\n",
       "-12        1\n",
       "-11        1\n",
       "94         1\n",
       "Name: HOURLYWETBULBTEMPF, dtype: int64"
      ]
     },
     "execution_count": 42,
     "metadata": {},
     "output_type": "execute_result"
    }
   ],
   "source": [
    "dataRB['HOURLYWETBULBTEMPF'].value_counts()"
   ]
  },
  {
   "cell_type": "code",
   "execution_count": 43,
   "metadata": {
    "collapsed": false
   },
   "outputs": [
    {
     "data": {
      "text/plain": [
       "array([nan, '43', '44', '48', '52', '54', '56', '55', '50', '49', '38',\n",
       "       '35', '34', '32', '31', '30', '29', '26', '25', '27', '23', '21',\n",
       "       '20', '19', '17', '16', '15', '14', '13', '18', '22', '24', '28',\n",
       "       '37', '39', '41', '40', '33', '12', '11', '10', '9', '7', '6', '8',\n",
       "       '5', '4', '3', '2', '0', '-1', '-3', '-4', '-5', '36', '47', '46',\n",
       "       '45', '42', '53', '51', '59', '61', '60', '62', '58', '63', '65',\n",
       "       '67', '68', '57', '66', '69', '70', '72', '74', '75', '64', '71',\n",
       "       '73', '76', '78', '81', '83', '84', '80', '77', '82', '79', '1',\n",
       "       '-2', '87', '86', '85', '88', '90', '91', '92', '89', '-6', '-7',\n",
       "       '-8', '-10', '-11', '-13', '-12', '*', '93', '94', '-9'], dtype=object)"
      ]
     },
     "execution_count": 43,
     "metadata": {},
     "output_type": "execute_result"
    }
   ],
   "source": [
    "dataRB.HOURLYWETBULBTEMPF.unique()"
   ]
  },
  {
   "cell_type": "code",
   "execution_count": 44,
   "metadata": {
    "collapsed": false
   },
   "outputs": [
    {
     "data": {
      "text/plain": [
       "83139"
      ]
     },
     "execution_count": 44,
     "metadata": {},
     "output_type": "execute_result"
    }
   ],
   "source": [
    "dataRB.HOURLYWETBULBTEMPF.isnull().sum()"
   ]
  },
  {
   "cell_type": "code",
   "execution_count": 47,
   "metadata": {
    "collapsed": false
   },
   "outputs": [
    {
     "name": "stderr",
     "output_type": "stream",
     "text": [
      "C:\\Users\\Manasi\\Anaconda3\\lib\\site-packages\\ipykernel\\__main__.py:1: FutureWarning:\n",
      "\n",
      "convert_objects is deprecated.  Use the data-type specific converters pd.to_datetime, pd.to_timedelta and pd.to_numeric.\n",
      "\n"
     ]
    },
    {
     "data": {
      "image/png": "[encoded data removed]",
      "text/plain": [
       "<matplotlib.figure.Figure at 0x25440eb4160>"
      ]
     },
     "metadata": {},
     "output_type": "display_data"
    }
   ],
   "source": [
    "df=dataRB[['HOURLYWETBULBTEMPF']].convert_objects(convert_numeric=True)\n",
    "# boxplot \n",
    "df.plot(kind='box')\n",
    "plt.show()"
   ]
  },
  {
   "cell_type": "markdown",
   "metadata": {},
   "source": [
    "# HOURLYWETBULBTEMPFC \n",
    "Plotting Hourly Wet Bulb temperature distribution"
   ]
  },
  {
   "cell_type": "code",
   "execution_count": 36,
   "metadata": {
    "collapsed": false
   },
   "outputs": [
    {
     "data": {
      "text/plain": [
       "641485"
      ]
     },
     "execution_count": 36,
     "metadata": {},
     "output_type": "execute_result"
    }
   ],
   "source": [
    "dataRB['HOURLYWETBULBTEMPC'].count()"
   ]
  },
  {
   "cell_type": "code",
   "execution_count": 37,
   "metadata": {
    "collapsed": true
   },
   "outputs": [
    {
     "data": {
      "text/plain": [
       "18.3     4323\n",
       "15.4     3995\n",
       "11.5     3994\n",
       "6.1      3917\n",
       "1.7      3913\n",
       "16.5     3861\n",
       "13.9     3856\n",
       "1.2      3850\n",
       "15.2     3728\n",
       "7.2      3704\n",
       "3.6      3626\n",
       "14.9     3606\n",
       "3.1      3604\n",
       "3.3      3574\n",
       "8        3556\n",
       "2.2      3528\n",
       "16.7     3525\n",
       "5        3513\n",
       "14.4     3475\n",
       "15.9     3472\n",
       "17.2     3460\n",
       "8.8      3401\n",
       "8.3      3362\n",
       "17.4     3360\n",
       "18.8     3338\n",
       "15.7     3283\n",
       "12.8     3247\n",
       "3.9      3190\n",
       "17.8     3181\n",
       "18.1     3176\n",
       "         ... \n",
       "-17.8       2\n",
       "33.3        2\n",
       "-22.8       2\n",
       "33.8        2\n",
       "-18.9       2\n",
       "-24.9       2\n",
       "-21.2       2\n",
       "31.2        2\n",
       "30.9        2\n",
       "32          2\n",
       "31.4        2\n",
       "-23.9       1\n",
       "31.5        1\n",
       "31.7        1\n",
       "-17.9       1\n",
       "-18.8       1\n",
       "-20.5       1\n",
       "-19.4       1\n",
       "32.4        1\n",
       "-18.4       1\n",
       "31.6        1\n",
       "-18.7       1\n",
       "33          1\n",
       "31.3        1\n",
       "34.4        1\n",
       "-23.2       1\n",
       "-20         1\n",
       "32.2        1\n",
       "-24.3       1\n",
       "32.5        1\n",
       "Name: HOURLYWETBULBTEMPC, dtype: int64"
      ]
     },
     "execution_count": 37,
     "metadata": {},
     "output_type": "execute_result"
    }
   ],
   "source": [
    "dataRB['HOURLYWETBULBTEMPC'].value_counts()"
   ]
  },
  {
   "cell_type": "code",
   "execution_count": 38,
   "metadata": {
    "collapsed": true
   },
   "outputs": [
    {
     "data": {
      "text/plain": [
       "array([nan, '6.1', '6.9', '8.9', '11.1', '12.1', '13.3', '12.8', '13.2',\n",
       "       '13.5', '11.2', '9.8', '9.3', '3.5', '1.9', '1', '0.9', '0', '-0.7',\n",
       "       '-1.2', '-1.6', '-3.2', '-3.3', '-3.6', '-3.9', '-3.8', '-3.4',\n",
       "       '-2.9', '-3', '-4', '-5.2', '-6.1', '-6.4', '-7', '-8.4', '-8.8',\n",
       "       '-8.9', '-9.4', '-9.8', '-10.3', '-10.5', '-8.5', '-7.5', '-5.7',\n",
       "       '-4.2', '-3.7', '-2.8', '-2.4', '-2.6', '-2', '-1.3', '-0.4', '2.7',\n",
       "       '3.4', '3.8', '3.9', '5', '4.9', '4.5', '4.2', '1.8', '0.5', '0.4',\n",
       "       '-0.5', '-1.5', '-5.8', '-7.1', '-8.1', '-7.6', '-7.7', '-7.2',\n",
       "       '-6.7', '-6.3', '-6.2', '-8.7', '-9.1', '-9.7', '-10.1', '-10.2',\n",
       "       '-10.7', '-11.1', '-11', '-11.5', '-12', '-12.1', '-12.6', '-14',\n",
       "       '-14.6', '-13.6', '-11.6', '-10.4', '-12.5', '-13.1', '-13.5',\n",
       "       '-13', '-11.9', '-11.3', '-10.6', '-9.5', '-9.9', '-8.6', '-7.4',\n",
       "       '-6.8', '-6.6', '-6', '-5.6', '-5.4', '-4.9', '-2.7', '-2.2',\n",
       "       '-2.3', '-2.5', '-1', '-0.9', '-0.1', '0.2', '-0.2', '-1.8', '-3.5',\n",
       "       '-5.3', '-9.3', '-11.2', '-11.8', '-14.5', '-15.1', '-15.6',\n",
       "       '-11.7', '-14.1', '-16.1', '-16', '-16.5', '-12.7', '-9.2', '-8.2',\n",
       "       '-10', '-9.6', '-4.8', '0.3', '1.7', '1.6', '1.5', '1.2', '0.8',\n",
       "       '0.6', '1.3', '-0.6', '-0.8', '-7.9', '-7.8', '-4.1', '-2.1',\n",
       "       '-1.1', '-1.4', '-4.3', '-5.9', '-6.5', '-6.9', '-8.3', '-10.9',\n",
       "       '-12.3', '-11.4', '-4.6', '-1.7', '-8', '-7.3', '-4.5', '-5',\n",
       "       '-0.3', '0.1', '-5.1', '-14.4', '-15.5', '-16.7', '-17.7', '-18.2',\n",
       "       '-18.6', '-19.2', '-19.7', '-20.3', '-20.2', '-20.7', '-19.9',\n",
       "       '-17.6', '-14.2', '-12.2', '-13.2', '-15.2', '-4.4', '-4.7', '-9',\n",
       "       '1.1', '2.5', '-5.5', '-10.8', '-3.1', '0.7', '1.4', '2.2', '2',\n",
       "       '3.1', '2.1', '3.3', '2.3', '2.8', '3.7', '3.2', '5.3', '3.6',\n",
       "       '8.3', '8', '7.2', '8.8', '7.5', '4.8', '4.1', '2.6', '2.4', '4.4',\n",
       "       '7.7', '9.6', '4.3', '5.6', '6', '6.3', '5.1', '4.6', '6.2', '7.1',\n",
       "       '6.7', '5.2', '4.7', '5.5', '12', '12.5', '11.6', '10.4', '2.9',\n",
       "       '8.5', '8.2', '7.4', '5.4', '-1.9', '6.5', '7', '5.8', '9.5',\n",
       "       '10.7', '10.6', '9', '7.6', '8.4', '9.4', '14.9', '15.9', '16.3',\n",
       "       '15.5', '15.1', '14.7', '13.4', '10.9', '11.5', '9.9', '6.6', '6.4',\n",
       "       '4', '5.7', '11.7', '12.4', '16.6', '14.2', '12.2', '8.6', '7.8',\n",
       "       '9.2', '11.4', '11', '9.7', '17.2', '18.5', '19.3', '19.8', '10',\n",
       "       '5.9', '3', '13.9', '15.3', '17.1', '13.1', '8.1', '7.9', '14.1',\n",
       "       '18.3', '6.8', '7.3', '12.7', '11.3', '11.8', '16', '18.8', '20.8',\n",
       "       '21.2', '22.4', '23.1', '23.4', '22.3', '23.6', '20.3', '18.4',\n",
       "       '17.4', '16.4', '15', '15.2', '14.4', '13', '15.4', '12.9', '10.3',\n",
       "       '10.2', '10.1', '12.3', '16.1', '17.6', '14', '14.6', '13.8',\n",
       "       '14.5', '14.8', '14.3', '13.7', '9.1', '15.8', '10.5', '17.3',\n",
       "       '16.5', '16.9', '16.8', '20.5', '21.3', '21.7', '22.7', '19.1',\n",
       "       '17', '16.7', '16.2', '19.6', '18.1', '15.7', '15.6', '18.9',\n",
       "       '20.4', '21.9', '21.4', '18', '17.5', '12.6', '13.6', '11.9',\n",
       "       '10.8', '19.9', '20.1', '20.6', '18.7', '17.8', '8.7', '17.7',\n",
       "       '21.1', '22.9', '22.2', '19.5', '19.7', '19.4', '21', '18.2',\n",
       "       '17.9', '23.7', '23.8', '21.6', '20.9', '24.3', '25.5', '27.2',\n",
       "       '28.1', '28.6', '27.3', '26.4', '23', '23.2', '19', '25', '24.6',\n",
       "       '24.8', '24.2', '19.2', '23.3', '23.9', '20.7', '22.8', '21.8',\n",
       "       '18.6', '21.5', '24.5', '25.8', '24.9', '22.5', '26.5', '26.8',\n",
       "       '27', '27.5', '26.6', '27.7', '26', '24', '22.1', '27.1', '25.3',\n",
       "       '25.6', '23.5', '22.6', '24.4', '20', '24.7', '20.2', '25.4',\n",
       "       '24.1', '22', '25.2', '25.7', '26.2', '26.1', '26.7', '27.9',\n",
       "       '27.8', '-12.4', '-12.8', '-12.9', '-13.4', '-13.3', '-13.8',\n",
       "       '-17.1', '-17.5', '-15', '-13.9', '-16.6', '-18.1', '-19', '-19.6',\n",
       "       '-20', '-20.1', '-17.9', '-15.4', '-14.9', '-15.8', '-16.2', '27.6',\n",
       "       '28', '30.5', '30.2', '30.3', '25.9', '25.1', '28.3', '29', '29.7',\n",
       "       '29.2', '29.3', '28.7', '29.1', '26.9', '26.3', '28.2', '-14.7',\n",
       "       '-16.8', '-17', '-16.9', '-15.9', '-13.7', '-17.4', '-16.4',\n",
       "       '-17.3', '-17.2', '-16.3', '27.4', '29.6', '30.4', '30.9', '31',\n",
       "       '30', '28.8', '32', '31.2', '30.8', '28.5', '31.3', '32.8', '33.3',\n",
       "       '32.2', '29.5', '28.4', '-14.3', '-14.8', '-15.3', '-15.7', '-17.8',\n",
       "       '30.1', '30.6', '31.7', '32.3', '-19.1', '28.9', '-18', '-18.5',\n",
       "       '-21.3', '-21.8', '-22.3', '-23.4', '-23.9', '-24.9', '-24.3',\n",
       "       '-23.2', '-21.2', '-19.4', '-18.4', '-18.9', '-18.8', '-20.5',\n",
       "       '-18.7', '29.4', '29.8', '30.7', '-20.8', '32.1', '31.5', '33',\n",
       "       '31.6', '29.9', '*', '33.5', '31.4', '32.4', '33.8', '34.4', '32.5',\n",
       "       '-22.8'], dtype=object)"
      ]
     },
     "execution_count": 38,
     "metadata": {},
     "output_type": "execute_result"
    }
   ],
   "source": [
    "dataRB.HOURLYWETBULBTEMPC.unique()"
   ]
  },
  {
   "cell_type": "code",
   "execution_count": 39,
   "metadata": {
    "collapsed": false
   },
   "outputs": [
    {
     "data": {
      "text/plain": [
       "83138"
      ]
     },
     "execution_count": 39,
     "metadata": {},
     "output_type": "execute_result"
    }
   ],
   "source": [
    "dataRB.HOURLYWETBULBTEMPC.isnull().sum()"
   ]
  },
  {
   "cell_type": "code",
   "execution_count": 40,
   "metadata": {
    "collapsed": false
   },
   "outputs": [
    {
     "name": "stderr",
     "output_type": "stream",
     "text": [
      "C:\\Users\\Manasi\\Anaconda3\\lib\\site-packages\\ipykernel\\__main__.py:1: FutureWarning:\n",
      "\n",
      "convert_objects is deprecated.  Use the data-type specific converters pd.to_datetime, pd.to_timedelta and pd.to_numeric.\n",
      "\n"
     ]
    },
    {
     "data": {
      "image/png": "[encoded data removed]",
      "text/plain": [
       "<matplotlib.figure.Figure at 0x254283d38d0>"
      ]
     },
     "metadata": {},
     "output_type": "display_data"
    }
   ],
   "source": [
    "df=dataRB[['HOURLYWETBULBTEMPC']].convert_objects(convert_numeric=True)\n",
    "# boxplot \n",
    "df.plot(kind='box')\n",
    "plt.show()"
   ]
  },
  {
   "cell_type": "markdown",
   "metadata": {},
   "source": [
    "# HOURLYDewPointTempF :\n",
    "Analysis for HOURLYDewPointTempF"
   ]
  },
  {
   "cell_type": "code",
   "execution_count": 48,
   "metadata": {
    "collapsed": false
   },
   "outputs": [
    {
     "data": {
      "text/plain": [
       "695610"
      ]
     },
     "execution_count": 48,
     "metadata": {},
     "output_type": "execute_result"
    }
   ],
   "source": [
    "#count \n",
    "dataRB['HOURLYDewPointTempF'].count()"
   ]
  },
  {
   "cell_type": "code",
   "execution_count": 49,
   "metadata": {
    "collapsed": true
   },
   "outputs": [
    {
     "data": {
      "text/plain": [
       "57      14642\n",
       "55      14226\n",
       "54      14165\n",
       "32      14093\n",
       "61      13765\n",
       "52      13542\n",
       "59      13293\n",
       "34      13275\n",
       "50      13215\n",
       "63      13175\n",
       "48      13083\n",
       "46      12875\n",
       "45      12776\n",
       "58      12727\n",
       "37      12704\n",
       "36      12684\n",
       "56      12681\n",
       "30      12661\n",
       "60      12351\n",
       "64      12279\n",
       "43      12192\n",
       "53      12110\n",
       "39      11956\n",
       "33      11777\n",
       "51      11565\n",
       "35      11539\n",
       "62      11499\n",
       "27      11391\n",
       "31      11360\n",
       "47      11281\n",
       "        ...  \n",
       "5s          1\n",
       "-11s        1\n",
       "51s         1\n",
       "46s         1\n",
       "10s         1\n",
       "63s         1\n",
       "4s          1\n",
       "1s          1\n",
       "57s         1\n",
       "-30         1\n",
       "68s         1\n",
       "7s          1\n",
       "42s         1\n",
       "21s         1\n",
       "12s         1\n",
       "53s         1\n",
       "-36         1\n",
       "24s         1\n",
       "-7s         1\n",
       "60s         1\n",
       "19s         1\n",
       "41s         1\n",
       "-9s         1\n",
       "79          1\n",
       "39s         1\n",
       "-31         1\n",
       "59s         1\n",
       "70s         1\n",
       "64s         1\n",
       "62s         1\n",
       "Name: HOURLYDewPointTempF, dtype: int64"
      ]
     },
     "execution_count": 49,
     "metadata": {},
     "output_type": "execute_result"
    }
   ],
   "source": [
    "#value counts\n",
    "dataRB['HOURLYDewPointTempF'].value_counts()"
   ]
  },
  {
   "cell_type": "code",
   "execution_count": 50,
   "metadata": {
    "collapsed": false
   },
   "outputs": [
    {
     "data": {
      "text/plain": [
       "array(['36', '37', '34', '32', '30', '31', '33', '41', '40', '38', '26',\n",
       "       '25', '23', '24', '20', '22', '21', '29', '27', '43', '42', '7',\n",
       "       '5', '3', '1', '0', '-6', '4', '8', '10', '12', '13', '-9s', '-11',\n",
       "       '-12', '-15', '15', '6', '11', '18', '17', '14', '16', '35', '-1',\n",
       "       '-4', '-5', '-7', '-3', '-17', '-10', '-18', '-13', '-8', '39',\n",
       "       '44', '46', '2', '47', '49', '52', '53', '48', '50', '45', '55',\n",
       "       '56', '58', '54', '57', '51', '59', '60', '61', '62', '63', '64',\n",
       "       '66', '65', '69', '75', '72', '73', '74', '-9', '-19', '-16', '-22',\n",
       "       '-24', '-26', '-20', '67', '68', '70', '71', '76', '77', '35s',\n",
       "       '18s', '17s', '39s', '14s', nan, '-6s', '-29', '19', '28', '-2',\n",
       "       '9', '10s', '15s', '-3s', '-14', '-23', '-21', '31s', '50s', '25s',\n",
       "       '26s', '23s', '55s', '-27', '-25', '-28', '-30', '13s', '19s',\n",
       "       '38s', '37s', '-36', '36s', '30s', '29s', '32s', '52s', '34s',\n",
       "       '-31', '0s', '43s', '40s', '49s', '48s', '53s', '56s', '41s', '4s',\n",
       "       '47s', '45s', '5s', '42s', '9s', '33s', '21s', '-2s', '24s', '-10s',\n",
       "       '51s', '11s', '62s', '54s', '7s', '-7s', '78', '12s', '28s', '64s',\n",
       "       '60s', '59s', '68s', '72s', '46s', '22s', '27s', '70s', '79', '63s',\n",
       "       '16s', '57s', '*', '-11s', '1s', '3s'], dtype=object)"
      ]
     },
     "execution_count": 50,
     "metadata": {},
     "output_type": "execute_result"
    }
   ],
   "source": [
    "# unique values\n",
    "dataRB.HOURLYDewPointTempF.unique()"
   ]
  },
  {
   "cell_type": "code",
   "execution_count": 51,
   "metadata": {
    "collapsed": false
   },
   "outputs": [
    {
     "data": {
      "text/plain": [
       "29013"
      ]
     },
     "execution_count": 51,
     "metadata": {},
     "output_type": "execute_result"
    }
   ],
   "source": [
    "# number of null values not zero \n",
    "dataRB.HOURLYDewPointTempF.isnull().sum()"
   ]
  },
  {
   "cell_type": "code",
   "execution_count": 61,
   "metadata": {
    "collapsed": false
   },
   "outputs": [
    {
     "name": "stderr",
     "output_type": "stream",
     "text": [
      "C:\\Users\\Manasi\\Anaconda3\\lib\\site-packages\\ipykernel\\__main__.py:1: FutureWarning:\n",
      "\n",
      "convert_objects is deprecated.  Use the data-type specific converters pd.to_datetime, pd.to_timedelta and pd.to_numeric.\n",
      "\n"
     ]
    },
    {
     "data": {
      "image/png": "[encoded data removed]",
      "text/plain": [
       "<matplotlib.figure.Figure at 0x2543d98c908>"
      ]
     },
     "metadata": {},
     "output_type": "display_data"
    }
   ],
   "source": [
    "df=dataRB[['HOURLYDewPointTempF']].convert_objects(convert_numeric=True)\n",
    "# boxplot \n",
    "df.plot(kind='box')\n",
    "plt.show()"
   ]
  },
  {
   "cell_type": "markdown",
   "metadata": {},
   "source": [
    "# HOURLYDewPointTempC : nan, *, character values"
   ]
  },
  {
   "cell_type": "code",
   "execution_count": 57,
   "metadata": {
    "collapsed": false
   },
   "outputs": [
    {
     "data": {
      "text/plain": [
       "695610"
      ]
     },
     "execution_count": 57,
     "metadata": {},
     "output_type": "execute_result"
    }
   ],
   "source": [
    "#count \n",
    "dataRB['HOURLYDewPointTempC'].count()"
   ]
  },
  {
   "cell_type": "code",
   "execution_count": 53,
   "metadata": {
    "collapsed": true
   },
   "outputs": [
    {
     "data": {
      "text/plain": [
       "0         14074\n",
       "15        13282\n",
       "10        13201\n",
       "13.9      12733\n",
       "14.4      12720\n",
       "13.3      12670\n",
       "12.8      12415\n",
       "15.6      12307\n",
       "12.2      12246\n",
       "11.7      12091\n",
       "0.6       11750\n",
       "11.1      11737\n",
       "1.1       11642\n",
       "16.1      11552\n",
       "10.6      11547\n",
       "1.7       11502\n",
       "16.7      11485\n",
       "-0.6      11306\n",
       "8.9       11292\n",
       "8.3       11253\n",
       "2.2       11211\n",
       "2.8       11159\n",
       "7.8       11053\n",
       "3.3       11049\n",
       "4.4       11046\n",
       "7.2       11024\n",
       "17.2      10969\n",
       "9.4       10947\n",
       "-1.1      10943\n",
       "5         10820\n",
       "          ...  \n",
       "-8.0s         1\n",
       "-2.2s         1\n",
       "3.6           1\n",
       "15.6s         1\n",
       "7.3           1\n",
       "4.7           1\n",
       "-10.5         1\n",
       "-15.0s        1\n",
       "-2.3          1\n",
       "7.0s          1\n",
       "18.0s         1\n",
       "0.7           1\n",
       "-12.6         1\n",
       "-6.3          1\n",
       "16.7s         1\n",
       "-27.5         1\n",
       "-12.1         1\n",
       "-2.9          1\n",
       "22.5          1\n",
       "7.9           1\n",
       "-22.6s        1\n",
       "-11.1s        1\n",
       "-31           1\n",
       "20.7          1\n",
       "0.6s          1\n",
       "21.5          1\n",
       "26            1\n",
       "-34.4         1\n",
       "-25.9         1\n",
       "24.1          1\n",
       "Name: HOURLYDewPointTempC, dtype: int64"
      ]
     },
     "execution_count": 53,
     "metadata": {},
     "output_type": "execute_result"
    }
   ],
   "source": [
    "#value counts\n",
    "dataRB['HOURLYDewPointTempC'].value_counts()"
   ]
  },
  {
   "cell_type": "code",
   "execution_count": 58,
   "metadata": {
    "collapsed": true
   },
   "outputs": [
    {
     "data": {
      "text/plain": [
       "array(['2.4', '3', '1.3', '0.2', '-0.9', '-0.4', '0.8', '5.2', '4.6',\n",
       "       '3.5', '-3.1', '-3.7', '-4.8', '-4.2', '-6.5', '-5.3', '-5.9',\n",
       "       '-1.5', '-2.6', '6.3', '5.8', '-13.7', '-14.8', '-15.9', '-17',\n",
       "       '-17.6', '-20.9', '-15.3', '-13.1', '-12', '-10.9', '-10.3',\n",
       "       '-22.6s', '-23.7', '-24.2', '-25.9', '-9.2', '-14.2', '-11.5',\n",
       "       '-7.6', '-8.1', '-9.8', '-8.7', '1.9', '-18.1', '-19.8', '-20.3',\n",
       "       '-21.4', '-19.2', '-27', '-23.1', '-27.5', '-24.8', '-22', '4.1',\n",
       "       '6.9', '8', '-16.4', '8.5', '9.6', '11.3', '11.9', '9.1', '10.2',\n",
       "       '7.4', '13', '13.5', '14.6', '12.4', '14.1', '10.7', '15.2', '15.7',\n",
       "       '16.3', '16.9', '17.4', '18', '19.1', '18.5', '20.7', '24.1',\n",
       "       '22.4', '23', '23.5', '6.1', '6.7', '8.9', '11.1', '11.7', '12.2',\n",
       "       '12.8', '13.3', '10', '1.7', '0', '-2.8', '-3.3', '-3.9', '-5',\n",
       "       '-5.6', '-7.8', '-8.3', '-9.4', '-8.9', '-6.7', '-10.6', '-13.3',\n",
       "       '-13.9', '-12.2', '-14.4', '-15', '-16.7', '-15.6', '-18.3',\n",
       "       '-16.1', '-11.7', '-10', '-6.1', '-4.4', '-1.7', '-0.6', '0.6',\n",
       "       '1.1', '2.2', '2.8', '3.3', '-17.2', '-17.8', '-19.4', '-20',\n",
       "       '-21.1', '-24.4', '-26.1', '-25', '-23.3', '-27.2', '-22.8',\n",
       "       '-22.2', '-23.9', '-28.3', '-26.7', '-27.8', '-11.1', '-1.1',\n",
       "       '-21.7', '-20.6', '-30', '-31.1', '-32.2', '-28.9', '5', '3.9',\n",
       "       '8.3', '7.8', '7.2', '5.6', '4.4', '10.6', '9.4', '13.9', '14.4',\n",
       "       '15', '15.6', '16.1', '16.7', '17.8', '17.2', '18.9', '19.4', '20',\n",
       "       '20.6', '21.1', '21.7', '18.3', '22.2', '23.3', '24.4', '25',\n",
       "       '22.8', '-5.5', '1.7s', '-7.8s', '-8.3s', '23.9', '3.9s', '-10.0s',\n",
       "       nan, '-21.1s', '-33.9', '-7.2', '-2.2', '-18.9', '-12.8', '-12.2s',\n",
       "       '-9.4s', '-19.4s', '-25.6', '-30.6', '-29.4', '-0.6s', '10.0s',\n",
       "       '-3.9s', '-3.3s', '-5.0s', '12.8s', '-32.8', '-31.7', '-33.3',\n",
       "       '-34.4', '-10.6s', '-7.2s', '3.3s', '2.8s', '-37.8', '2.2s',\n",
       "       '-1.1s', '-1.7s', '0.0s', '11.1s', '1.1s', '-35', '-17.8s', '6.1s',\n",
       "       '4.4s', '9.4s', '8.9s', '11.7s', '-15.5', '8.8', '13.3s', '5.0s',\n",
       "       '-2.1', '-0.5', '-2.7', '-1', '-15.6s', '-7.7', '-16', '-8.8',\n",
       "       '-9.3', '-3.2', '-16.6', '8.3s', '7.2s', '-3.8', '-15.0s', '5.6s',\n",
       "       '-12.8s', '0.6s', '-11', '-13.2', '-12.7', '-11.6', '-6.1s',\n",
       "       '-18.9s', '-4.4s', '-1.6', '-23.3s', '10.6s', '-11.7s', '16.7s',\n",
       "       '12.2s', '-13.9s', '-3.4', '-21.7s', '25.6', '-8.4', '-11.2',\n",
       "       '-16.2', '-11.1s', '-4.5', '-1.2', '3.8', '2.7', '1.6', '0.5',\n",
       "       '-2.3', '10.5', '5.5', '11.6', '12.7', '13.8', '7.7', '-2.3s',\n",
       "       '6.6', '17.7', '15.5', '18.8', '20.5', '16.6', '19', '17', '1.0s',\n",
       "       '18.0s', '16', '14', '15.3', '11.5', '21', '17.1', '16.4', '-2.2s',\n",
       "       '15.6s', '12', '22', '20.3', '11', '18.2', '20.2', '19.3', '18.7',\n",
       "       '15.0s', '20.0s', '16.5', '12.5', '9', '7', '2', '-3', '6', '4',\n",
       "       '2.1', '1', '-2', '-4', '-6', '-13', '4.7', '-7', '9.0s', '-18',\n",
       "       '-9', '-8', '-21', '-19', '-14', '22.2s', '7.0s', '-1.0s', '-0.8',\n",
       "       '10.1', '11.0s', '12.3', '14.8', '8.4', '13.4', '9.5', '11.2',\n",
       "       '-23', '-25.5', '-24', '-26', '-13.0s', '7.8s', '1.5', '1.4', '4.2',\n",
       "       '-5.6s', '-3.0s', '22.5', '21.5', '24', '7.9', '6.8', '4.5', '7.5',\n",
       "       '0.1', '1.2', '2.5', '-3.6', '0.9', '0.4', '0.3', '-4.6', '-2.9',\n",
       "       '-6.3', '2.0s', '3.0s', '21.1s', '26', '18.4', '6.4', '7.3', '7.1',\n",
       "       '17.2s', '-4.0s', '-8.0s', '6.2', '8.2', '2.6', '3.1', '3.4', '5.9',\n",
       "       '6.5', '-28', '0.7', '-8.9s', '15.4', '-29', '-31', '14.0s', '3.6',\n",
       "       '*', '10.8', '-12.1', '-17.3', '-18.4', '-15.4', '-24.1s', '-23.5',\n",
       "       '-18.8', '-17.7', '-13.8', '-17.2s', '-10.5', '-12.6', '-12.3',\n",
       "       '4.8', '2.9', '18.1', '-2.5', '4.3', '-16.1s', '-0.1', '5.7', '8.7',\n",
       "       '9.9', '10.3'], dtype=object)"
      ]
     },
     "execution_count": 58,
     "metadata": {},
     "output_type": "execute_result"
    }
   ],
   "source": [
    "# unique values\n",
    "dataRB.HOURLYDewPointTempC.unique()"
   ]
  },
  {
   "cell_type": "code",
   "execution_count": 59,
   "metadata": {
    "collapsed": false
   },
   "outputs": [
    {
     "data": {
      "text/plain": [
       "29013"
      ]
     },
     "execution_count": 59,
     "metadata": {},
     "output_type": "execute_result"
    }
   ],
   "source": [
    "# number of null values not zero \n",
    "dataRB.HOURLYDewPointTempF.isnull().sum()"
   ]
  },
  {
   "cell_type": "code",
   "execution_count": 62,
   "metadata": {
    "collapsed": false
   },
   "outputs": [
    {
     "name": "stderr",
     "output_type": "stream",
     "text": [
      "C:\\Users\\Manasi\\Anaconda3\\lib\\site-packages\\ipykernel\\__main__.py:1: FutureWarning:\n",
      "\n",
      "convert_objects is deprecated.  Use the data-type specific converters pd.to_datetime, pd.to_timedelta and pd.to_numeric.\n",
      "\n"
     ]
    },
    {
     "data": {
      "image/png": "[encoded data removed]",
      "text/plain": [
       "<matplotlib.figure.Figure at 0x25440ebf550>"
      ]
     },
     "metadata": {},
     "output_type": "display_data"
    }
   ],
   "source": [
    "df=dataRB[['HOURLYDewPointTempC']].convert_objects(convert_numeric=True)\n",
    "# boxplot \n",
    "df.plot(kind='box')\n",
    "plt.show()"
   ]
  },
  {
   "cell_type": "markdown",
   "metadata": {},
   "source": [
    "### Conclusion for temperature data\n",
    "From the above distribution plots,we can see that the temperatue data is fairly normally distributed and we can come up with some type of smoothening function to fill in the missing values."
   ]
  },
  {
   "cell_type": "markdown",
   "metadata": {},
   "source": [
    "# HOURLYRelativeHumidity \n",
    "\n",
    "Plotting the distribution of data for humidity"
   ]
  },
  {
   "cell_type": "code",
   "execution_count": 63,
   "metadata": {
    "collapsed": false
   },
   "outputs": [
    {
     "data": {
      "text/plain": [
       "695598"
      ]
     },
     "execution_count": 63,
     "metadata": {},
     "output_type": "execute_result"
    }
   ],
   "source": [
    "#count \n",
    "dataRB['HOURLYRelativeHumidity'].count()"
   ]
  },
  {
   "cell_type": "code",
   "execution_count": 64,
   "metadata": {
    "collapsed": true
   },
   "outputs": [
    {
     "data": {
      "text/plain": [
       "93     34400\n",
       "100    27276\n",
       "90     17673\n",
       "96     16587\n",
       "87     16200\n",
       "89     13660\n",
       "86     13314\n",
       "84     12763\n",
       "73     11985\n",
       "79     11845\n",
       "76     11824\n",
       "61     11745\n",
       "97     11571\n",
       "81     11371\n",
       "59     11305\n",
       "66     11280\n",
       "70     11115\n",
       "60     10973\n",
       "68     10919\n",
       "55     10900\n",
       "83     10896\n",
       "52     10830\n",
       "57     10783\n",
       "56     10715\n",
       "65     10625\n",
       "54     10614\n",
       "71     10551\n",
       "64     10518\n",
       "63     10376\n",
       "58     10334\n",
       "       ...  \n",
       "27      1933\n",
       "26      1768\n",
       "25      1472\n",
       "24      1315\n",
       "23       971\n",
       "22       942\n",
       "21       690\n",
       "20       567\n",
       "19       516\n",
       "18       327\n",
       "17       301\n",
       "16       181\n",
       "15       151\n",
       "14        95\n",
       "13        73\n",
       "95        57\n",
       "12        43\n",
       "98        29\n",
       "99        22\n",
       "11        17\n",
       "*         14\n",
       "10         9\n",
       "9          5\n",
       "104        2\n",
       "8          2\n",
       "101        1\n",
       "102        1\n",
       "6          1\n",
       "7          1\n",
       "103        1\n",
       "Name: HOURLYRelativeHumidity, dtype: int64"
      ]
     },
     "execution_count": 64,
     "metadata": {},
     "output_type": "execute_result"
    }
   ],
   "source": [
    "#value counts\n",
    "dataRB['HOURLYRelativeHumidity'].value_counts()"
   ]
  },
  {
   "cell_type": "code",
   "execution_count": 65,
   "metadata": {
    "collapsed": true
   },
   "outputs": [
    {
     "data": {
      "text/plain": [
       "array(['82', '93', '86', '76', '65', '58', '56', '80', '66', '71', '85',\n",
       "       '79', '49', '41', '34', '31', '27', '22', '23', '26', '30', '39',\n",
       "       '38', '42', '51', '61', '89', '45', '46', '63', '70', '68', '67',\n",
       "       '62', '55', '83', '74', '59', '57', '36', '64', '48', '77', '84',\n",
       "       '33', '29', '35', '73', '54', '32', '78', '72', '69', '60', '50',\n",
       "       '40', '43', '37', '52', '53', '75', '44', '21', '28', '92', '47',\n",
       "       '25', '96', '97', '100', '20', '90', '87', '81', '91', '88', '24',\n",
       "       '18', '17', '94', '19', '14', '16', '15', '13', '12', '11', nan,\n",
       "       '9', '10', '6', '7', '8', '95', '99', '102', '98', '104', '101',\n",
       "       '103', '*'], dtype=object)"
      ]
     },
     "execution_count": 65,
     "metadata": {},
     "output_type": "execute_result"
    }
   ],
   "source": [
    "# unique values\n",
    "dataRB.HOURLYRelativeHumidity.unique()"
   ]
  },
  {
   "cell_type": "code",
   "execution_count": 66,
   "metadata": {
    "collapsed": false
   },
   "outputs": [
    {
     "data": {
      "text/plain": [
       "29025"
      ]
     },
     "execution_count": 66,
     "metadata": {},
     "output_type": "execute_result"
    }
   ],
   "source": [
    "# number of null values not zero \n",
    "dataRB.HOURLYRelativeHumidity.isnull().sum()"
   ]
  },
  {
   "cell_type": "code",
   "execution_count": 68,
   "metadata": {
    "collapsed": false
   },
   "outputs": [
    {
     "name": "stderr",
     "output_type": "stream",
     "text": [
      "C:\\Users\\Manasi\\Anaconda3\\lib\\site-packages\\ipykernel\\__main__.py:1: FutureWarning:\n",
      "\n",
      "convert_objects is deprecated.  Use the data-type specific converters pd.to_datetime, pd.to_timedelta and pd.to_numeric.\n",
      "\n"
     ]
    },
    {
     "data": {
      "image/png": "[encoded data removed]",
      "text/plain": [
       "<matplotlib.figure.Figure at 0x2543a2d09b0>"
      ]
     },
     "metadata": {},
     "output_type": "display_data"
    }
   ],
   "source": [
    "df=dataRB[['HOURLYRelativeHumidity']].convert_objects(convert_numeric=True)\n",
    "# boxplot \n",
    "df.plot(kind='box')\n",
    "plt.show()"
   ]
  },
  {
   "cell_type": "markdown",
   "metadata": {},
   "source": [
    "# HOURLYWindSpeed :\n",
    "\n",
    "We can see that there are many missing values and we will have to clean this data"
   ]
  },
  {
   "cell_type": "code",
   "execution_count": 178,
   "metadata": {
    "collapsed": false
   },
   "outputs": [
    {
     "data": {
      "text/plain": [
       "117266"
      ]
     },
     "execution_count": 178,
     "metadata": {},
     "output_type": "execute_result"
    }
   ],
   "source": [
    "#count \n",
    "dataRB['HOURLYWindSpeed'].count()"
   ]
  },
  {
   "cell_type": "code",
   "execution_count": 179,
   "metadata": {
    "collapsed": true
   },
   "outputs": [
    {
     "data": {
      "text/plain": [
       "0      26070\n",
       "5      11171\n",
       "6      11019\n",
       "3      10830\n",
       "7      10184\n",
       "8       8995\n",
       "9       7993\n",
       "10      6774\n",
       "11      5634\n",
       "13      4605\n",
       "14      3618\n",
       "15      2769\n",
       "16      2146\n",
       "17      1631\n",
       "18      1125\n",
       "20       813\n",
       "21       550\n",
       "22       415\n",
       "23       327\n",
       "24       196\n",
       "25       126\n",
       "26        87\n",
       "28        51\n",
       "29        32\n",
       "30        24\n",
       "31        18\n",
       "32        15\n",
       "33         9\n",
       "10s        7\n",
       "34         4\n",
       "9s         3\n",
       "37         3\n",
       "8s         3\n",
       "36         2\n",
       "39         2\n",
       "25s        2\n",
       "40         1\n",
       "31s        1\n",
       "5s         1\n",
       "45         1\n",
       "13s        1\n",
       "19         1\n",
       "6s         1\n",
       "44         1\n",
       "7s         1\n",
       "26s        1\n",
       "34s        1\n",
       "30s        1\n",
       "3s         1\n",
       "Name: HOURLYWindSpeed, dtype: int64"
      ]
     },
     "execution_count": 179,
     "metadata": {},
     "output_type": "execute_result"
    }
   ],
   "source": [
    "#value counts\n",
    "dataRB['HOURLYWindSpeed'].value_counts()"
   ]
  },
  {
   "cell_type": "code",
   "execution_count": 180,
   "metadata": {
    "collapsed": true
   },
   "outputs": [
    {
     "data": {
      "text/plain": [
       "array(['5', '6', '0', '8', '7', '10', '9', '11', '3', nan, '13', '16',\n",
       "       '14', '15', '23', '18', '24', '17', '20', '21', '25', '26', '22',\n",
       "       '28', '25s', '30', '29', '3s', '26s', '31', '19', '13s', '32', '33',\n",
       "       '10s', '8s', '9s', '6s', '37', '34', '31s', '34s', '7s', '39', '36',\n",
       "       '45', '44', '40', '30s', '5s'], dtype=object)"
      ]
     },
     "execution_count": 180,
     "metadata": {},
     "output_type": "execute_result"
    }
   ],
   "source": [
    "# unique values\n",
    "dataRB.HOURLYWindSpeed.unique()"
   ]
  },
  {
   "cell_type": "code",
   "execution_count": 55,
   "metadata": {
    "collapsed": false
   },
   "outputs": [
    {
     "data": {
      "text/plain": [
       "5745"
      ]
     },
     "execution_count": 55,
     "metadata": {},
     "output_type": "execute_result"
    }
   ],
   "source": [
    "# number of null values not zero \n",
    "dataRB.HOURLYWindSpeed.isnull().sum()"
   ]
  },
  {
   "cell_type": "code",
   "execution_count": 80,
   "metadata": {
    "collapsed": false
   },
   "outputs": [
    {
     "name": "stderr",
     "output_type": "stream",
     "text": [
      "C:\\Users\\Manasi\\Anaconda3\\lib\\site-packages\\ipykernel\\__main__.py:1: FutureWarning:\n",
      "\n",
      "convert_objects is deprecated.  Use the data-type specific converters pd.to_datetime, pd.to_timedelta and pd.to_numeric.\n",
      "\n"
     ]
    },
    {
     "data": {
      "image/png": "[encoded data removed]",
      "text/plain": [
       "<matplotlib.figure.Figure at 0x25435a06080>"
      ]
     },
     "metadata": {},
     "output_type": "display_data"
    }
   ],
   "source": [
    "df=dataRB[['HOURLYWindSpeed']].convert_objects(convert_numeric=True)\n",
    "# boxplot \n",
    "df.plot(kind='box')\n",
    "plt.show()"
   ]
  },
  {
   "cell_type": "markdown",
   "metadata": {},
   "source": [
    "# HOURLYWindDirection\n",
    "\n",
    "We can see that this column has VRB  values where the data is variable. We will have to remove these values to make th column numeric"
   ]
  },
  {
   "cell_type": "code",
   "execution_count": 13,
   "metadata": {
    "collapsed": false
   },
   "outputs": [
    {
     "data": {
      "text/plain": [
       "716623"
      ]
     },
     "execution_count": 13,
     "metadata": {},
     "output_type": "execute_result"
    }
   ],
   "source": [
    "#count \n",
    "dataRB['HOURLYWindDirection'].count()"
   ]
  },
  {
   "cell_type": "code",
   "execution_count": 82,
   "metadata": {
    "collapsed": false
   },
   "outputs": [
    {
     "data": {
      "image/png": "[encoded data removed]",
      "text/plain": [
       "<matplotlib.figure.Figure at 0x2546cc9b278>"
      ]
     },
     "metadata": {},
     "output_type": "display_data"
    }
   ],
   "source": [
    "#value counts\n",
    "dataRB['HOURLYWindDirection'].value_counts().plot(kind='bar')\n",
    "plt.show()"
   ]
  },
  {
   "cell_type": "code",
   "execution_count": 15,
   "metadata": {
    "collapsed": false
   },
   "outputs": [
    {
     "data": {
      "text/plain": [
       "array(['315', '270', '338', '293', '360', '045', '090', '113', '068',\n",
       "       '135', '248', '225', '203', nan, '023', '180', '000', '158', '230',\n",
       "       '310', '030', '340', '070', '220', 'HOURLYWindDirection', '250',\n",
       "       '240', '010', '050', '020', '350', '080', '110', '210', '260',\n",
       "       '280', '300', '120', '150', '170', '200', '190', '290', '330',\n",
       "       '140', '130', '160', '320', '040', '060', '100', 'VRB', '192', '103'], dtype=object)"
      ]
     },
     "execution_count": 15,
     "metadata": {},
     "output_type": "execute_result"
    }
   ],
   "source": [
    "# unique values\n",
    "dataRB.HOURLYWindDirection.unique()"
   ]
  },
  {
   "cell_type": "code",
   "execution_count": 185,
   "metadata": {
    "collapsed": false
   },
   "outputs": [
    {
     "data": {
      "text/plain": [
       "4626"
      ]
     },
     "execution_count": 185,
     "metadata": {},
     "output_type": "execute_result"
    }
   ],
   "source": [
    "# number of null values not zero \n",
    "dataRB.HOURLYWindDirection.isnull().sum()"
   ]
  },
  {
   "cell_type": "code",
   "execution_count": 86,
   "metadata": {
    "collapsed": false
   },
   "outputs": [
    {
     "name": "stderr",
     "output_type": "stream",
     "text": [
      "C:\\Users\\Manasi\\Anaconda3\\lib\\site-packages\\ipykernel\\__main__.py:1: FutureWarning:\n",
      "\n",
      "convert_objects is deprecated.  Use the data-type specific converters pd.to_datetime, pd.to_timedelta and pd.to_numeric.\n",
      "\n"
     ]
    },
    {
     "data": {
      "image/png": "[encoded data removed]",
      "text/plain": [
       "<matplotlib.figure.Figure at 0x2542f171e80>"
      ]
     },
     "metadata": {},
     "output_type": "display_data"
    }
   ],
   "source": [
    "df=dataRB[['HOURLYWindDirection']].convert_objects(convert_numeric=True)\n",
    "# boxplot \n",
    "df.plot(kind='box')\n",
    "plt.show()"
   ]
  },
  {
   "cell_type": "markdown",
   "metadata": {},
   "source": [
    "# HOURLYWindGustSpeed\n",
    "\n",
    "Hourly Wind Gust Speed has * as the value for many fields. This will have to be removed and replaced with nan"
   ]
  },
  {
   "cell_type": "code",
   "execution_count": 186,
   "metadata": {
    "collapsed": false
   },
   "outputs": [
    {
     "data": {
      "text/plain": [
       "17421"
      ]
     },
     "execution_count": 186,
     "metadata": {},
     "output_type": "execute_result"
    }
   ],
   "source": [
    "#count \n",
    "dataRB['HOURLYWindGustSpeed'].count()"
   ]
  },
  {
   "cell_type": "code",
   "execution_count": 187,
   "metadata": {
    "collapsed": true
   },
   "outputs": [
    {
     "data": {
      "text/plain": [
       "22    1820\n",
       "21    1677\n",
       "20    1664\n",
       "23    1642\n",
       "24    1465\n",
       "25    1373\n",
       "18    1215\n",
       "26    1057\n",
       "28     920\n",
       "17     798\n",
       "29     702\n",
       "30     563\n",
       "31     456\n",
       "16     373\n",
       "32     342\n",
       "33     282\n",
       "34     236\n",
       "36     178\n",
       "37     129\n",
       "38     101\n",
       "39      98\n",
       "40      88\n",
       "41      55\n",
       "43      39\n",
       "44      27\n",
       "45      24\n",
       "46      13\n",
       "*       13\n",
       "47      11\n",
       "48      10\n",
       "49       9\n",
       "54       8\n",
       "52       4\n",
       "55       4\n",
       "56       3\n",
       "19       3\n",
       "53       2\n",
       "51       2\n",
       "63       2\n",
       "72       2\n",
       "75       2\n",
       "59       1\n",
       "60       1\n",
       "69       1\n",
       "66       1\n",
       "82       1\n",
       "67       1\n",
       "61       1\n",
       "70       1\n",
       "77       1\n",
       "Name: HOURLYWindGustSpeed, dtype: int64"
      ]
     },
     "execution_count": 187,
     "metadata": {},
     "output_type": "execute_result"
    }
   ],
   "source": [
    "#value counts\n",
    "dataRB['HOURLYWindGustSpeed'].value_counts()"
   ]
  },
  {
   "cell_type": "code",
   "execution_count": 188,
   "metadata": {
    "collapsed": false
   },
   "outputs": [
    {
     "data": {
      "text/plain": [
       "array([nan, '18', '20', '26', '23', '16', '17', '21', '24', '22', '25',\n",
       "       '34', '29', '32', '30', '36', '28', '31', '39', '56', '43', '38',\n",
       "       '33', '37', '44', '*', '41', '51', '40', '63', '72', '45', '19',\n",
       "       '82', '69', '66', '48', '47', '49', '46', '75', '53', '54', '52',\n",
       "       '61', '67', '59', '55', '77', '60', '70'], dtype=object)"
      ]
     },
     "execution_count": 188,
     "metadata": {},
     "output_type": "execute_result"
    }
   ],
   "source": [
    "# unique values\n",
    "dataRB.HOURLYWindGustSpeed.unique()"
   ]
  },
  {
   "cell_type": "code",
   "execution_count": 189,
   "metadata": {
    "collapsed": false
   },
   "outputs": [
    {
     "data": {
      "text/plain": [
       "104472"
      ]
     },
     "execution_count": 189,
     "metadata": {},
     "output_type": "execute_result"
    }
   ],
   "source": [
    "# number of null values not zero \n",
    "dataRB.HOURLYWindGustSpeed.isnull().sum()"
   ]
  },
  {
   "cell_type": "code",
   "execution_count": 85,
   "metadata": {
    "collapsed": false
   },
   "outputs": [
    {
     "data": {
      "image/png": "[encoded data removed]",
      "text/plain": [
       "<matplotlib.figure.Figure at 0x2546e8c3ac8>"
      ]
     },
     "metadata": {},
     "output_type": "display_data"
    }
   ],
   "source": [
    "#value counts\n",
    "dataRB['HOURLYWindGustSpeed'].value_counts().plot(kind='bar')\n",
    "plt.show()"
   ]
  },
  {
   "cell_type": "markdown",
   "metadata": {},
   "source": [
    "# HOURLYStationPressure\n",
    "The station pressure has many missng values and also character values. We will have to clean these to make the field numeric"
   ]
  },
  {
   "cell_type": "code",
   "execution_count": 190,
   "metadata": {
    "collapsed": false
   },
   "outputs": [
    {
     "data": {
      "text/plain": [
       "117515"
      ]
     },
     "execution_count": 190,
     "metadata": {},
     "output_type": "execute_result"
    }
   ],
   "source": [
    "#count \n",
    "dataRB['HOURLYStationPressure'].count()"
   ]
  },
  {
   "cell_type": "code",
   "execution_count": 191,
   "metadata": {
    "collapsed": true
   },
   "outputs": [
    {
     "data": {
      "text/plain": [
       "29.78     2054\n",
       "29.84     2025\n",
       "29.77     2012\n",
       "29.79     1984\n",
       "29.76     1934\n",
       "29.74     1925\n",
       "29.82     1922\n",
       "29.83     1922\n",
       "29.75     1906\n",
       "29.85     1904\n",
       "29.8      1896\n",
       "29.9      1884\n",
       "29.87     1871\n",
       "29.95     1867\n",
       "29.81     1847\n",
       "29.94     1834\n",
       "29.93     1824\n",
       "29.71     1820\n",
       "29.72     1810\n",
       "29.73     1798\n",
       "29.91     1795\n",
       "29.86     1786\n",
       "29.88     1759\n",
       "29.92     1742\n",
       "29.89     1739\n",
       "29.7      1723\n",
       "29.68     1695\n",
       "29.96     1677\n",
       "29.69     1657\n",
       "29.67     1620\n",
       "          ... \n",
       "28.97s       2\n",
       "28.76s       2\n",
       "28.72        2\n",
       "29.20s       2\n",
       "28.75s       1\n",
       "28.73        1\n",
       "29.44s       1\n",
       "29.18s       1\n",
       "28.63        1\n",
       "29.07s       1\n",
       "28.69s       1\n",
       "28.71s       1\n",
       "28.96s       1\n",
       "29.21s       1\n",
       "29.28s       1\n",
       "28.85s       1\n",
       "28.83s       1\n",
       "28.99s       1\n",
       "28.70s       1\n",
       "28.88s       1\n",
       "30.67        1\n",
       "29.03s       1\n",
       "28.8         1\n",
       "28.74s       1\n",
       "29.57s       1\n",
       "29.19s       1\n",
       "28.81s       1\n",
       "29.00s       1\n",
       "28.80s       1\n",
       "28.93s       1\n",
       "Name: HOURLYStationPressure, dtype: int64"
      ]
     },
     "execution_count": 191,
     "metadata": {},
     "output_type": "execute_result"
    }
   ],
   "source": [
    "#value counts\n",
    "dataRB['HOURLYStationPressure'].value_counts()"
   ]
  },
  {
   "cell_type": "code",
   "execution_count": 192,
   "metadata": {
    "collapsed": true
   },
   "outputs": [
    {
     "data": {
      "text/plain": [
       "array(['29.79', '29.78', '29.8', '29.82', '29.83', '29.84', '29.85',\n",
       "       '29.87', '29.89', '29.91', '29.92', '29.93', nan, '29.94', '29.95',\n",
       "       '29.96', '29.97', '29.98', '29.99', '30', '30.01', '30.03', '30.02',\n",
       "       '29.88', '29.81', '29.76', '29.75', '29.74', '29.73', '29.71',\n",
       "       '29.7', '29.69', '29.67', '29.66', '29.65', '29.68', '29.63',\n",
       "       '29.62', '29.64', '29.6', '29.59', '29.57', '29.61', '29.72',\n",
       "       '29.58', '29.56', '29.77', '29.54', '29.55', '29.53', '29.52',\n",
       "       '29.86', '29.51', '29.5', '29.49', '29.48', '29.47', '29.46',\n",
       "       '29.45', '30.04', '30.05', '30.06', '30.07', '30.08', '29.9',\n",
       "       '29.44', '29.43', '29.42', '29.41', '30.09', '30.1', '30.11',\n",
       "       '30.12', '30.15', '30.16', '30.14', '30.13', '30.18', '30.17',\n",
       "       '30.19', '30.2', '30.21', '30.22', '30.23', '30.24', '30.26',\n",
       "       '30.27', '30.29', '30.3', '30.31', '30.28', '30.25', '30.32',\n",
       "       '30.34', '30.35', '30.37', '30.38', '30.39', '30.4', '30.36',\n",
       "       '29.37', '29.36', '29.38', '29.35', '29.33', '29.31', '29.3',\n",
       "       '29.29', '29.28', '29.27', '29.26', '29.25', '29.24', '29.39',\n",
       "       '29.4', '29.27s', '29.32', '29.23', '29.22', '29.21', '29.19',\n",
       "       '29.18', '29.17', '29.2', '29.34', '28.99', '28.98', '28.97',\n",
       "       '28.92', '28.9', '28.85', '28.79', '28.78', '28.77', '28.75s',\n",
       "       '28.76s', '28.81s', '28.82s', '28.83', '28.87', '28.89', '28.91',\n",
       "       '28.94', '28.95', '29', '29.01', '29.07', '29.14', '30.42', '30.43',\n",
       "       '30.45', '30.47', '30.48', '29.43s', '29.44s', '30.44', '30.5',\n",
       "       '30.51', '29.45s', '29.46s', '29.49s', '29.16', '29.13', '29.1',\n",
       "       '29.09', '29.06s', '29.12', '29.15', '29.11', '30.53', '30.55',\n",
       "       '29.08', '29.06', '29.04', '29.02', '29.12s', '29.13s', '29.14s',\n",
       "       '29.05', '29.03', '28.93', '28.86', '28.88', '29.18s', '29.19s',\n",
       "       '29.20s', '29.26s', '29.28s', '28.96', '29.15s', '29.16s', '29.07s',\n",
       "       '29.08s', '29.09s', '28.76', '28.63', '28.74s', '28.81', '28.75',\n",
       "       '28.74', '28.73s', '28.73', '28.82', '28.84', '30.56', '30.58',\n",
       "       '30.59', '30.61', '30.63', '28.92s', '28.93s', '28.94s', '28.97s',\n",
       "       '30.64', '29.30s', '29.32s', '29.51s', '28.72', '28.69s', '28.70s',\n",
       "       '28.71s', '28.71', '28.8', '30.66', '29.38s', '29.03s', '30.67',\n",
       "       '30.69', '30.71', '29.25s', '29.57s', '29.21s', '28.77s', '28.80s',\n",
       "       '28.83s', '28.85s', '28.87s', '28.88s', '28.96s', '28.99s', '29.00s'], dtype=object)"
      ]
     },
     "execution_count": 192,
     "metadata": {},
     "output_type": "execute_result"
    }
   ],
   "source": [
    "# unique values\n",
    "dataRB.HOURLYStationPressure.unique()"
   ]
  },
  {
   "cell_type": "code",
   "execution_count": 193,
   "metadata": {
    "collapsed": false
   },
   "outputs": [
    {
     "data": {
      "text/plain": [
       "4378"
      ]
     },
     "execution_count": 193,
     "metadata": {},
     "output_type": "execute_result"
    }
   ],
   "source": [
    "# number of null values not zero \n",
    "dataRB.HOURLYStationPressure.isnull().sum()"
   ]
  },
  {
   "cell_type": "code",
   "execution_count": 89,
   "metadata": {
    "collapsed": false
   },
   "outputs": [
    {
     "data": {
      "image/png": "[encoded data removed]",
      "text/plain": [
       "<matplotlib.figure.Figure at 0x254244a6940>"
      ]
     },
     "metadata": {},
     "output_type": "display_data"
    },
    {
     "data": {
      "image/png": "[encoded data removed]",
      "text/plain": [
       "<matplotlib.figure.Figure at 0x254245ae588>"
      ]
     },
     "metadata": {},
     "output_type": "display_data"
    }
   ],
   "source": [
    "dataRB['HOURLYWindGustSpeed'].value_counts().plot(kind='kde')\n",
    "plt.show()\n",
    "dataRB['HOURLYWindGustSpeed'].value_counts().plot(kind='hist')\n",
    "import matplotlib.pyplot as pltd\n",
    "pltd.show()"
   ]
  },
  {
   "cell_type": "code",
   "execution_count": 90,
   "metadata": {
    "collapsed": false
   },
   "outputs": [
    {
     "name": "stderr",
     "output_type": "stream",
     "text": [
      "C:\\Users\\Manasi\\Anaconda3\\lib\\site-packages\\ipykernel\\__main__.py:1: FutureWarning:\n",
      "\n",
      "convert_objects is deprecated.  Use the data-type specific converters pd.to_datetime, pd.to_timedelta and pd.to_numeric.\n",
      "\n"
     ]
    },
    {
     "data": {
      "image/png": "[encoded data removed]",
      "text/plain": [
       "<matplotlib.figure.Figure at 0x254245d1080>"
      ]
     },
     "metadata": {},
     "output_type": "display_data"
    }
   ],
   "source": [
    "df=dataRB[['HOURLYWindGustSpeed']].convert_objects(convert_numeric=True)\n",
    "# boxplot \n",
    "df.plot(kind='box')\n",
    "plt.show()"
   ]
  },
  {
   "cell_type": "markdown",
   "metadata": {},
   "source": [
    "# HOURLYPressureTendency\n",
    "The hourly pressure tendency also has many missing values"
   ]
  },
  {
   "cell_type": "code",
   "execution_count": 194,
   "metadata": {
    "collapsed": false
   },
   "outputs": [
    {
     "data": {
      "text/plain": [
       "28986"
      ]
     },
     "execution_count": 194,
     "metadata": {},
     "output_type": "execute_result"
    }
   ],
   "source": [
    "#count \n",
    "dataRB['HOURLYPressureTendency'].count()"
   ]
  },
  {
   "cell_type": "code",
   "execution_count": 195,
   "metadata": {
    "collapsed": false
   },
   "outputs": [
    {
     "data": {
      "text/plain": [
       "3    6872\n",
       "8    6832\n",
       "1    5509\n",
       "6    4685\n",
       "5    2153\n",
       "0    2146\n",
       "7     400\n",
       "2     380\n",
       "4       9\n",
       "Name: HOURLYPressureTendency, dtype: int64"
      ]
     },
     "execution_count": 195,
     "metadata": {},
     "output_type": "execute_result"
    }
   ],
   "source": [
    "#value counts\n",
    "dataRB['HOURLYPressureTendency'].value_counts()"
   ]
  },
  {
   "cell_type": "code",
   "execution_count": 196,
   "metadata": {
    "collapsed": false
   },
   "outputs": [
    {
     "data": {
      "text/plain": [
       "array([nan, '0', '2', '3', '1', '8', '5', '6', '7', '4'], dtype=object)"
      ]
     },
     "execution_count": 196,
     "metadata": {},
     "output_type": "execute_result"
    }
   ],
   "source": [
    "# unique values\n",
    "dataRB.HOURLYPressureTendency.unique()"
   ]
  },
  {
   "cell_type": "code",
   "execution_count": 197,
   "metadata": {
    "collapsed": false
   },
   "outputs": [
    {
     "data": {
      "text/plain": [
       "92907"
      ]
     },
     "execution_count": 197,
     "metadata": {},
     "output_type": "execute_result"
    }
   ],
   "source": [
    "# number of null values not zero \n",
    "dataRB.HOURLYPressureTendency.isnull().sum()"
   ]
  },
  {
   "cell_type": "code",
   "execution_count": 93,
   "metadata": {
    "collapsed": false
   },
   "outputs": [
    {
     "data": {
      "image/png": "[encoded data removed]",
      "text/plain": [
       "<matplotlib.figure.Figure at 0x254684e8f28>"
      ]
     },
     "metadata": {},
     "output_type": "display_data"
    },
    {
     "data": {
      "image/png": "[encoded data removed]",
      "text/plain": [
       "<matplotlib.figure.Figure at 0x25424525438>"
      ]
     },
     "metadata": {},
     "output_type": "display_data"
    }
   ],
   "source": [
    "dataRB['HOURLYPressureTendency'].value_counts().plot(kind='kde')\n",
    "plt.show()\n",
    "dataRB['HOURLYPressureTendency'].value_counts().plot(kind='bar')\n",
    "import matplotlib.pyplot as pltd\n",
    "pltd.show()"
   ]
  },
  {
   "cell_type": "markdown",
   "metadata": {},
   "source": [
    "# HOURLYPressureChange\n",
    "The pressure change has missing vaues which have to be replaaced with nan"
   ]
  },
  {
   "cell_type": "code",
   "execution_count": 198,
   "metadata": {
    "collapsed": false
   },
   "outputs": [
    {
     "data": {
      "text/plain": [
       "4462"
      ]
     },
     "execution_count": 198,
     "metadata": {},
     "output_type": "execute_result"
    }
   ],
   "source": [
    "#count \n",
    "dataRB['HOURLYPressureChange'].count()"
   ]
  },
  {
   "cell_type": "code",
   "execution_count": 199,
   "metadata": {
    "collapsed": true
   },
   "outputs": [
    {
     "data": {
      "text/plain": [
       "-0.01    538\n",
       "0.01     516\n",
       "0        411\n",
       "-0.02    339\n",
       "0.02     323\n",
       "0.04     313\n",
       "-0.04    273\n",
       "-0.03    262\n",
       "0.03     251\n",
       "-0.05    168\n",
       "-0.06    162\n",
       "0.05     129\n",
       "0.06     120\n",
       "-0.07     84\n",
       "0.07      68\n",
       "-0.09     62\n",
       "-0.08     58\n",
       "0.09      58\n",
       "0.08      50\n",
       "-0.1      45\n",
       "0.1       27\n",
       "-0.11     24\n",
       "0.11      23\n",
       "0.12      21\n",
       "-0.13     19\n",
       "0.14      18\n",
       "-0.12     16\n",
       "-0.14     16\n",
       "0.13       9\n",
       "0.15       7\n",
       "0.17       7\n",
       "0.19       4\n",
       "-0.15      3\n",
       "0.24       3\n",
       "0.21       3\n",
       "0.18       3\n",
       "0.22       3\n",
       "0.16       2\n",
       "-0.19      2\n",
       "-0.18      2\n",
       "-0.16      2\n",
       "-0.17      2\n",
       "-0.26      2\n",
       "0.3        1\n",
       "0.2        1\n",
       "-0.27      1\n",
       "-0.2       1\n",
       "0.29       1\n",
       "0.25       1\n",
       "0.27       1\n",
       "-0.3       1\n",
       "-0.28      1\n",
       "-0.21      1\n",
       "0.35       1\n",
       "-0.23      1\n",
       "-0.24      1\n",
       "0.28       1\n",
       "Name: HOURLYPressureChange, dtype: int64"
      ]
     },
     "execution_count": 199,
     "metadata": {},
     "output_type": "execute_result"
    }
   ],
   "source": [
    "#value counts\n",
    "dataRB['HOURLYPressureChange'].value_counts()"
   ]
  },
  {
   "cell_type": "code",
   "execution_count": 200,
   "metadata": {
    "collapsed": false,
    "scrolled": true
   },
   "outputs": [
    {
     "data": {
      "text/plain": [
       "array([nan, '0.01', '-0.06', '-0.11', '-0.1', '-0.01', '0.09', '0.06',\n",
       "       '0.11', '0.3', '-0.14', '0.04', '0.03', '-0.04', '-0.12', '-0.07',\n",
       "       '0', '0.07', '-0.02', '-0.03', '-0.05', '0.05', '0.02', '0.08',\n",
       "       '-0.08', '0.12', '-0.09', '0.19', '0.21', '0.15', '0.13', '0.18',\n",
       "       '0.14', '0.16', '-0.13', '0.17', '0.1', '0.24', '-0.27', '-0.19',\n",
       "       '-0.17', '0.22', '0.27', '-0.28', '-0.2', '0.35', '-0.15', '-0.18',\n",
       "       '0.29', '-0.16', '-0.26', '-0.23', '0.2', '-0.24', '0.25', '-0.21',\n",
       "       '0.28', '-0.3'], dtype=object)"
      ]
     },
     "execution_count": 200,
     "metadata": {},
     "output_type": "execute_result"
    }
   ],
   "source": [
    "# unique values\n",
    "dataRB.HOURLYPressureChange.unique()"
   ]
  },
  {
   "cell_type": "code",
   "execution_count": 201,
   "metadata": {
    "collapsed": false
   },
   "outputs": [
    {
     "data": {
      "text/plain": [
       "117431"
      ]
     },
     "execution_count": 201,
     "metadata": {},
     "output_type": "execute_result"
    }
   ],
   "source": [
    "# number of null values not zero \n",
    "dataRB.HOURLYPressureChange.isnull().sum()"
   ]
  },
  {
   "cell_type": "code",
   "execution_count": 95,
   "metadata": {
    "collapsed": false
   },
   "outputs": [
    {
     "data": {
      "image/png": "[encoded data removed]",
      "text/plain": [
       "<matplotlib.figure.Figure at 0x2542445e208>"
      ]
     },
     "metadata": {},
     "output_type": "display_data"
    },
    {
     "data": {
      "image/png": "[encoded data removed]",
      "text/plain": [
       "<matplotlib.figure.Figure at 0x254245347f0>"
      ]
     },
     "metadata": {},
     "output_type": "display_data"
    }
   ],
   "source": [
    "dataRB['HOURLYPressureChange'].value_counts().plot(kind='kde')\n",
    "plt.show()\n",
    "dataRB['HOURLYPressureChange'].value_counts().plot(kind='hist')\n",
    "import matplotlib.pyplot as pltd\n",
    "pltd.show()"
   ]
  },
  {
   "cell_type": "code",
   "execution_count": 96,
   "metadata": {
    "collapsed": false
   },
   "outputs": [
    {
     "name": "stderr",
     "output_type": "stream",
     "text": [
      "C:\\Users\\Manasi\\Anaconda3\\lib\\site-packages\\ipykernel\\__main__.py:1: FutureWarning:\n",
      "\n",
      "convert_objects is deprecated.  Use the data-type specific converters pd.to_datetime, pd.to_timedelta and pd.to_numeric.\n",
      "\n"
     ]
    },
    {
     "data": {
      "image/png": "[encoded data removed]",
      "text/plain": [
       "<matplotlib.figure.Figure at 0x25424477860>"
      ]
     },
     "metadata": {},
     "output_type": "display_data"
    }
   ],
   "source": [
    "df=dataRB[['HOURLYWindGustSpeed']].convert_objects(convert_numeric=True)\n",
    "# boxplot \n",
    "df.plot(kind='box')\n",
    "plt.show()"
   ]
  },
  {
   "cell_type": "markdown",
   "metadata": {},
   "source": [
    "# HOURLYSeaLevelPressure\n",
    "Sea Level Pressure has missing values which have to be converted into nan"
   ]
  },
  {
   "cell_type": "code",
   "execution_count": 202,
   "metadata": {
    "collapsed": false
   },
   "outputs": [
    {
     "data": {
      "text/plain": [
       "86790"
      ]
     },
     "execution_count": 202,
     "metadata": {},
     "output_type": "execute_result"
    }
   ],
   "source": [
    "#count \n",
    "dataRB['HOURLYSeaLevelPressure'].count()"
   ]
  },
  {
   "cell_type": "code",
   "execution_count": 203,
   "metadata": {
    "collapsed": true
   },
   "outputs": [
    {
     "data": {
      "text/plain": [
       "30.01     1770\n",
       "29.96     1760\n",
       "29.99     1708\n",
       "30.09     1632\n",
       "30.12     1616\n",
       "29.94     1614\n",
       "30.04     1612\n",
       "29.91     1581\n",
       "30.14     1568\n",
       "30.06     1566\n",
       "30.17     1474\n",
       "29.88     1454\n",
       "30.19     1383\n",
       "29.86     1345\n",
       "30        1315\n",
       "29.95     1278\n",
       "29.97     1256\n",
       "30.03     1253\n",
       "30.02     1248\n",
       "29.83     1236\n",
       "29.93     1235\n",
       "30.08     1233\n",
       "29.98     1217\n",
       "30.05     1213\n",
       "30.13     1209\n",
       "30.07     1205\n",
       "29.92     1196\n",
       "30.1      1186\n",
       "30.11     1182\n",
       "30.15     1163\n",
       "          ... \n",
       "29.06        1\n",
       "29.35s       1\n",
       "29.13s       1\n",
       "29.68s       1\n",
       "29.09        1\n",
       "28.95s       1\n",
       "29.30s       1\n",
       "29.33s       1\n",
       "29.02s       1\n",
       "29.76s       1\n",
       "29.01s       1\n",
       "29.47s       1\n",
       "29.08s       1\n",
       "28.93        1\n",
       "29.19s       1\n",
       "29.65s       1\n",
       "28.96s       1\n",
       "29.22s       1\n",
       "29.37s       1\n",
       "29.64s       1\n",
       "29.04s       1\n",
       "29.06s       1\n",
       "28.95        1\n",
       "28.92        1\n",
       "28.88s       1\n",
       "30.86        1\n",
       "29.02        1\n",
       "29.09s       1\n",
       "29.26s       1\n",
       "28.97        1\n",
       "Name: HOURLYSeaLevelPressure, dtype: int64"
      ]
     },
     "execution_count": 203,
     "metadata": {},
     "output_type": "execute_result"
    }
   ],
   "source": [
    "#value counts\n",
    "dataRB['HOURLYSeaLevelPressure'].value_counts()"
   ]
  },
  {
   "cell_type": "code",
   "execution_count": 204,
   "metadata": {
    "collapsed": true
   },
   "outputs": [
    {
     "data": {
      "text/plain": [
       "array([nan, '29.96', '29.97', '29.99', '30.01', '30.02', '30.03', '30.05',\n",
       "       '30.07', '30.09', '30.1', '30.11', '30.12', '30.13', '30.14',\n",
       "       '30.16', '30.17', '30.18', '30.19', '30.21', '30.2', '30.15',\n",
       "       '30.04', '30', '29.94', '29.92', '29.91', '29.9', '29.88', '29.87',\n",
       "       '29.85', '29.83', '29.86', '29.84', '29.82', '29.8', '29.81',\n",
       "       '29.77', '29.76', '29.74', '29.78', '29.89', '29.75', '29.73',\n",
       "       '29.79', '29.93', '29.95', '29.98', '29.71', '29.72', '29.7',\n",
       "       '29.69', '30.06', '29.67', '29.68', '29.66', '29.64', '29.65',\n",
       "       '29.62', '29.63', '30.22', '30.23', '30.24', '30.25', '30.26',\n",
       "       '30.08', '29.6', '29.59', '29.58', '30.27', '30.28', '30.29',\n",
       "       '30.3', '30.33', '30.35', '30.34', '30.32', '30.31', '30.36',\n",
       "       '30.37', '30.38', '30.39', '30.4', '30.42', '30.43', '30.44',\n",
       "       '30.46', '30.47', '30.49', '30.5', '30.48', '30.45', '30.51',\n",
       "       '30.52', '30.53', '30.55', '30.56', '30.57', '30.58', '30.54',\n",
       "       '30.59', '29.54', '29.55', '29.53', '29.5', '29.49', '29.46',\n",
       "       '29.45', '29.48', '29.44', '29.42', '29.43', '29.52', '29.57',\n",
       "       '29.61', '30.41', '30.6', '29.56', '29.45s', '29.51', '29.41',\n",
       "       '29.39', '29.37', '29.36', '29.4', '29.38', '29.35', '29.47',\n",
       "       '29.28', '29.17', '29.03', '28.96', '28.95s', '29.02s', '29.04s',\n",
       "       '29.08s', '29.09s', '29.1', '29.13', '29.19', '29.26', '29.33',\n",
       "       '30.61', '30.62', '30.63', '30.65', '30.66', '30.67', '30.68',\n",
       "       '29.62s', '30.64', '30.69', '30.7', '30.71', '29.64s', '29.65s',\n",
       "       '29.29', '29.25s', '29.3', '29.34', '30.72', '30.74', '30.73',\n",
       "       '29.27', '29.24', '29.23', '29.22', '29.2', '29.31', '29.31s',\n",
       "       '29.34s', '29.25', '29.16', '29.11', '29.08', '29.05', '29.07',\n",
       "       '29.32', '29.37s', '29.40s', '29.46s', '29.18', '29.15', '29.21',\n",
       "       '29.14', '29.12', '29.32s', '29.26s', '29.82s', '28.94', '29.09',\n",
       "       '29.35s', '29.04', '28.98', '28.92', '28.92s', '28.93', '28.97',\n",
       "       '29', '29.01', '29.51s', '30.75', '30.76', '30.79', '30.8', '30.81',\n",
       "       '30.82', '30.83', '30.84', '30.77', '30.78', '29.12s', '29.15s',\n",
       "       '28.99', '29.49s', '29.47s', '29.68s', '28.95', '28.9', '28.88s',\n",
       "       '29.06', '30.85', '29.57s', '29.22s', '30.88', '30.9', '30.91',\n",
       "       '30.89', '30.86', '29.30s', '29.33s', '29.43s', '29.76s', '29.39s',\n",
       "       '29.02', '28.96s', '29.01s', '29.06s', '29.13s', '29.19s'], dtype=object)"
      ]
     },
     "execution_count": 204,
     "metadata": {},
     "output_type": "execute_result"
    }
   ],
   "source": [
    "# unique values\n",
    "dataRB.HOURLYSeaLevelPressure.unique()"
   ]
  },
  {
   "cell_type": "code",
   "execution_count": 205,
   "metadata": {
    "collapsed": false
   },
   "outputs": [
    {
     "data": {
      "text/plain": [
       "35103"
      ]
     },
     "execution_count": 205,
     "metadata": {},
     "output_type": "execute_result"
    }
   ],
   "source": [
    "# number of null values not zero \n",
    "dataRB.HOURLYSeaLevelPressure.isnull().sum()"
   ]
  },
  {
   "cell_type": "code",
   "execution_count": 98,
   "metadata": {
    "collapsed": false
   },
   "outputs": [
    {
     "data": {
      "image/png": "[encoded data removed]",
      "text/plain": [
       "<matplotlib.figure.Figure at 0x25424676390>"
      ]
     },
     "metadata": {},
     "output_type": "display_data"
    },
    {
     "data": {
      "image/png": "[encoded data removed]",
      "text/plain": [
       "<matplotlib.figure.Figure at 0x25424690d68>"
      ]
     },
     "metadata": {},
     "output_type": "display_data"
    }
   ],
   "source": [
    "dataRB['HOURLYSeaLevelPressure'].value_counts().plot(kind='kde')\n",
    "plt.show()\n",
    "dataRB['HOURLYSeaLevelPressure'].value_counts().plot(kind='hist')\n",
    "import matplotlib.pyplot as pltd\n",
    "pltd.show()"
   ]
  },
  {
   "cell_type": "code",
   "execution_count": null,
   "metadata": {
    "collapsed": true
   },
   "outputs": [],
   "source": []
  },
  {
   "cell_type": "markdown",
   "metadata": {},
   "source": [
    "# HOURLYPrecip\n",
    "Hourly Preic data has T, nan, character values. T means trace amounts which acccording to standards is 0.005 . We will replace the T values with this amount and also make the field numeric"
   ]
  },
  {
   "cell_type": "code",
   "execution_count": 206,
   "metadata": {
    "collapsed": false
   },
   "outputs": [
    {
     "data": {
      "text/plain": [
       "98728"
      ]
     },
     "execution_count": 206,
     "metadata": {},
     "output_type": "execute_result"
    }
   ],
   "source": [
    "#count \n",
    "dataRB['HOURLYPrecip'].count()"
   ]
  },
  {
   "cell_type": "code",
   "execution_count": 207,
   "metadata": {
    "collapsed": true
   },
   "outputs": [
    {
     "data": {
      "text/plain": [
       "0        73006\n",
       "T        11062\n",
       "0.01      5041\n",
       "0.02      2178\n",
       "0.03      1383\n",
       "0.04       964\n",
       "0.05       734\n",
       "0.06       649\n",
       "0.07       511\n",
       "0.08       447\n",
       "0.09       353\n",
       "0.1        261\n",
       "0.11       258\n",
       "0.12       211\n",
       "0.13       190\n",
       "0.14       155\n",
       "0.15       125\n",
       "0.16       109\n",
       "0.17       103\n",
       "0.18        85\n",
       "0.21        65\n",
       "0.2         65\n",
       "0.23        60\n",
       "0.19        55\n",
       "0.22        51\n",
       "0.26        42\n",
       "0.25        41\n",
       "0.28        36\n",
       "0.24        34\n",
       "0.29        33\n",
       "         ...  \n",
       "0.13s        1\n",
       "0.62         1\n",
       "0.77         1\n",
       "0.18s        1\n",
       "0.83         1\n",
       "0.92         1\n",
       "1.08         1\n",
       "0.78s        1\n",
       "1.36         1\n",
       "0.36s        1\n",
       "0.23s        1\n",
       "0.15s        1\n",
       "0.85s        1\n",
       "0.78         1\n",
       "0.95         1\n",
       "0.8          1\n",
       "0.72         1\n",
       "1.05         1\n",
       "1.25         1\n",
       "0.20s        1\n",
       "0.14s        1\n",
       "0.85         1\n",
       "0.70s        1\n",
       "0.75         1\n",
       "0.81         1\n",
       "0.24s        1\n",
       "0.32s        1\n",
       "0.19s        1\n",
       "1.67         1\n",
       "0.65         1\n",
       "Name: HOURLYPrecip, dtype: int64"
      ]
     },
     "execution_count": 207,
     "metadata": {},
     "output_type": "execute_result"
    }
   ],
   "source": [
    "#value counts\n",
    "dataRB['HOURLYPrecip'].value_counts()"
   ]
  },
  {
   "cell_type": "code",
   "execution_count": 208,
   "metadata": {
    "collapsed": true
   },
   "outputs": [
    {
     "data": {
      "text/plain": [
       "array(['T', '0', '0.01', nan, '0.03', '0.04', '0.02', '0.08', '0.09',\n",
       "       '0.14', '0.27', '0.3', '0.38', '0.06', '0.11', '0.05', '0.07',\n",
       "       '0.1', '0.16', '0.26', '0.75', '0.92', '0.12', '0.15', '0.2',\n",
       "       '0.24', '0.21', '0.29', '0.39', '0.17', '0.19', '0.13', '0.18',\n",
       "       '0.28', '0.34', '0.25', '0.23', '0.33', '0.41', '0.48', '0.13s',\n",
       "       '0.01s', '0.31', '0.32', '0.22', '0.36', '0.78', '0.79', '0.02s',\n",
       "       '0.78s', '0.35', '0.55', '0.68', '0.73', '0.74', '0.11s', '0.4',\n",
       "       '0.51', '0.53', '0.6', '0.36s', '0.47', '0.77', '0.86', '0.56',\n",
       "       '0.37s', '0.43', '0.44', '0.37', '0.09s', '0.57', '0.54', '0.46',\n",
       "       '0.66', '0.9', '1.02', '1.05', '1.08', '1.25', '0.58', '0.61',\n",
       "       '0.69', '0.63', '0.5', '0.52', '0.04s', '0.07s', '0.08s', '0.8',\n",
       "       '0.18s', '0.05s', '0.59', '0.42', '0.49', '0.19s', '0.06s', '0.45',\n",
       "       '0.20s', '1.36', '1.67', '0.83', '0.03s', '0.12s', '0.10s', '0.62',\n",
       "       '0.23s', '0.81', '0.85', '0.65', '0.70s', '0.14s', '0.32s', '0.96',\n",
       "       '0.85s', '0.72', '0.7', '0.24s', '0.15s', '0.95'], dtype=object)"
      ]
     },
     "execution_count": 208,
     "metadata": {},
     "output_type": "execute_result"
    }
   ],
   "source": [
    "# unique values\n",
    "dataRB.HOURLYPrecip.unique()"
   ]
  },
  {
   "cell_type": "code",
   "execution_count": 209,
   "metadata": {
    "collapsed": false
   },
   "outputs": [
    {
     "data": {
      "text/plain": [
       "35103"
      ]
     },
     "execution_count": 209,
     "metadata": {},
     "output_type": "execute_result"
    }
   ],
   "source": [
    "# number of null values not zero \n",
    "dataRB.HOURLYSeaLevelPressure.isnull().sum()"
   ]
  },
  {
   "cell_type": "code",
   "execution_count": 99,
   "metadata": {
    "collapsed": false
   },
   "outputs": [
    {
     "name": "stderr",
     "output_type": "stream",
     "text": [
      "C:\\Users\\Manasi\\Anaconda3\\lib\\site-packages\\ipykernel\\__main__.py:1: FutureWarning:\n",
      "\n",
      "convert_objects is deprecated.  Use the data-type specific converters pd.to_datetime, pd.to_timedelta and pd.to_numeric.\n",
      "\n"
     ]
    },
    {
     "data": {
      "image/png": "[encoded data removed]",
      "text/plain": [
       "<matplotlib.figure.Figure at 0x2542cd63b00>"
      ]
     },
     "metadata": {},
     "output_type": "display_data"
    }
   ],
   "source": [
    "df=dataRB[['HOURLYSeaLevelPressure']].convert_objects(convert_numeric=True)\n",
    "# boxplot \n",
    "df.plot(kind='box')\n",
    "plt.show()"
   ]
  },
  {
   "cell_type": "code",
   "execution_count": null,
   "metadata": {
    "collapsed": true
   },
   "outputs": [],
   "source": []
  },
  {
   "cell_type": "markdown",
   "metadata": {},
   "source": [
    "# HOURLYAltimeterSetting\n",
    "The altimeter setting also has many nan values which will have to be remoed"
   ]
  },
  {
   "cell_type": "code",
   "execution_count": 210,
   "metadata": {
    "collapsed": false
   },
   "outputs": [
    {
     "data": {
      "text/plain": [
       "117977"
      ]
     },
     "execution_count": 210,
     "metadata": {},
     "output_type": "execute_result"
    }
   ],
   "source": [
    "#count \n",
    "dataRB['HOURLYAltimeterSetting'].count()"
   ]
  },
  {
   "cell_type": "code",
   "execution_count": 103,
   "metadata": {
    "collapsed": false,
    "scrolled": true
   },
   "outputs": [
    {
     "data": {
      "image/png": "[encoded data removed]",
      "text/plain": [
       "<matplotlib.figure.Figure at 0x2546735e4e0>"
      ]
     },
     "metadata": {},
     "output_type": "display_data"
    }
   ],
   "source": [
    "#value counts\n",
    "dataRB['HOURLYAltimeterSetting'].value_counts().plot(kind='kde')\n",
    "plt.show()"
   ]
  },
  {
   "cell_type": "code",
   "execution_count": 212,
   "metadata": {
    "collapsed": true
   },
   "outputs": [
    {
     "data": {
      "text/plain": [
       "array(['29.93', '29.92', '29.94', '29.96', '29.97', '29.98', '29.99',\n",
       "       '30.01', '30.03', '30.05', '30.06', '30.07', nan, '30.08', '30.09',\n",
       "       '30.1', '30.11', '30.12', '30.13', '30.14', '30.15', '30.17',\n",
       "       '30.16', '30.02', '29.95', '29.9', '29.89', '29.88', '29.87',\n",
       "       '29.85', '29.84', '29.83', '29.81', '29.8', '29.79', '29.82',\n",
       "       '29.77', '29.76', '29.78', '29.74', '29.73', '29.71', '29.75',\n",
       "       '29.86', '29.72', '29.7', '29.91', '29.68', '29.69', '29.67',\n",
       "       '29.66', '30', '29.65', '29.64', '29.63', '29.62', '29.61', '29.6',\n",
       "       '29.59', '30.18', '30.19', '30.2', '30.21', '30.22', '30.04',\n",
       "       '29.58', '29.57', '29.56', '29.55', '30.23', '30.24', '30.25',\n",
       "       '30.26', '30.29', '30.3', '30.28', '30.27', '30.32', '30.31',\n",
       "       '30.33', '30.34', '30.35', '30.36', '30.37', '30.38', '30.4',\n",
       "       '30.41', '30.43', '30.44', '30.45', '30.42', '30.39', '30.47',\n",
       "       '30.48', '30.49', '30.51', '30.52', '30.53', '30.54', '30.5',\n",
       "       '30.55', '30.46', '29.51', '29.5', '29.52', '29.49', '29.47',\n",
       "       '29.45', '29.44', '29.43', '29.42', '29.41', '29.4', '29.39',\n",
       "       '29.38', '29.53', '29.54', '29.41s', '29.46', '29.37', '29.36',\n",
       "       '29.35', '29.33', '29.32', '29.31', '29.34', '29.48', '29.23',\n",
       "       '29.13', '29.12', '29.11', '29.06', '29.04', '28.99', '28.93',\n",
       "       '28.92', '28.91', '28.89s', '28.90s', '28.95s', '28.96s', '28.97',\n",
       "       '28.99s', '29.01s', '29.03s', '29.04s', '29.05', '29.08', '29.09',\n",
       "       '29.14', '29.15', '29.21', '29.28', '30.56', '30.57', '30.59',\n",
       "       '30.6', '30.61', '30.62', '30.63', '29.57s', '29.58s', '30.58',\n",
       "       '30.64', '30.65', '29.59s', '29.60s', '29.63s', '29.3', '29.27',\n",
       "       '29.24', '29.20s', '29.26', '29.29', '29.25', '30.66', '30.67',\n",
       "       '30.69', '30.68', '29.22', '29.2', '29.18', '29.16', '29.26s',\n",
       "       '29.27s', '29.28s', '29.19', '29.17', '29.07', '29.03', '29',\n",
       "       '29.02', '29.32s', '29.33s', '29.34s', '29.40s', '29.42s', '29.1',\n",
       "       '29.29s', '29.30s', '29.21s', '29.22s', '29.23s', '28.9', '28.77',\n",
       "       '28.88s', '28.95', '29.01', '28.89', '28.88', '28.87s', '28.87',\n",
       "       '28.96', '28.98', '30.7', '30.71', '30.73', '30.74', '30.76',\n",
       "       '30.77', '30.78', '30.75', '30.72', '29.06s', '29.07s', '29.08s',\n",
       "       '29.11s', '30.79', '29.44s', '29.46s', '29.65s', '28.86', '28.83s',\n",
       "       '28.84s', '28.85s', '28.85', '28.94', '30.8', '29.52s', '29.17s',\n",
       "       '30.82', '30.83', '30.85', '30.86', '30.84', '30.81', '29.39s',\n",
       "       '29.71s', '29.35s', '28.91s', '28.94s', '28.97s', '29.02s',\n",
       "       '29.10s', '29.13s', '29.14s'], dtype=object)"
      ]
     },
     "execution_count": 212,
     "metadata": {},
     "output_type": "execute_result"
    }
   ],
   "source": [
    "# unique values\n",
    "dataRB.HOURLYAltimeterSetting.unique()"
   ]
  },
  {
   "cell_type": "code",
   "execution_count": 213,
   "metadata": {
    "collapsed": false
   },
   "outputs": [
    {
     "data": {
      "text/plain": [
       "3916"
      ]
     },
     "execution_count": 213,
     "metadata": {},
     "output_type": "execute_result"
    }
   ],
   "source": [
    "# number of null values not zero \n",
    "dataRB.HOURLYAltimeterSetting.isnull().sum()"
   ]
  },
  {
   "cell_type": "code",
   "execution_count": 104,
   "metadata": {
    "collapsed": false
   },
   "outputs": [
    {
     "name": "stderr",
     "output_type": "stream",
     "text": [
      "C:\\Users\\Manasi\\Anaconda3\\lib\\site-packages\\ipykernel\\__main__.py:1: FutureWarning:\n",
      "\n",
      "convert_objects is deprecated.  Use the data-type specific converters pd.to_datetime, pd.to_timedelta and pd.to_numeric.\n",
      "\n"
     ]
    },
    {
     "data": {
      "image/png": "[encoded data removed]",
      "text/plain": [
       "<matplotlib.figure.Figure at 0x25466a9d6d8>"
      ]
     },
     "metadata": {},
     "output_type": "display_data"
    }
   ],
   "source": [
    "df=dataRB[['HOURLYSeaLevelPressure']].convert_objects(convert_numeric=True)\n",
    "# boxplot \n",
    "df.plot(kind='box')\n",
    "plt.show()"
   ]
  },
  {
   "cell_type": "code",
   "execution_count": 90,
   "metadata": {
    "collapsed": false
   },
   "outputs": [
    {
     "name": "stderr",
     "output_type": "stream",
     "text": [
      "C:\\Users\\Manasi\\Anaconda3\\lib\\site-packages\\ipykernel\\__main__.py:1: FutureWarning: convert_objects is deprecated.  Use the data-type specific converters pd.to_datetime, pd.to_timedelta and pd.to_numeric.\n",
      "  if __name__ == '__main__':\n"
     ]
    }
   ],
   "source": [
    "datac=dataRB[['HOURLYDRYBULBTEMPF','HOURLYWETBULBTEMPF','HOURLYDewPointTempF','HOURLYRelativeHumidity']].convert_objects(convert_numeric=True)"
   ]
  },
  {
   "cell_type": "markdown",
   "metadata": {},
   "source": [
    "# This part contains EDA on the data starting for column 26: the daily monthly summary"
   ]
  },
  {
   "cell_type": "code",
   "execution_count": 109,
   "metadata": {
    "collapsed": false
   },
   "outputs": [
    {
     "data": {
      "text/plain": [
       "DAILYMaximumDryBulbTemp           705992\n",
       "DAILYMinimumDryBulbTemp           703826\n",
       "DAILYAverageDryBulbTemp           709779\n",
       "DAILYDeptFromNormalAverageTemp    709790\n",
       "DAILYAverageRelativeHumidity      721498\n",
       "DAILYAverageDewPointTemp          721393\n",
       "DAILYAverageWetBulbTemp           721393\n",
       "DAILYHeatingDegreeDays            709779\n",
       "DAILYCoolingDegreeDays            709779\n",
       "DAILYSunrise                           0\n",
       "DAILYSunset                            0\n",
       "DAILYWeather                      722961\n",
       "DAILYPrecip                       710725\n",
       "DAILYSnowfall                     720436\n",
       "DAILYSnowDepth                    717948\n",
       "DAILYAverageStationPressure       720075\n",
       "DAILYAverageSeaLevelPressure      721397\n",
       "DAILYAverageWindSpeed             720119\n",
       "DAILYPeakWindSpeed                720096\n",
       "PeakWindDirection                 720096\n",
       "DAILYSustainedWindSpeed           720078\n",
       "DAILYSustainedWindDirection       720078\n",
       "dtype: int64"
      ]
     },
     "execution_count": 109,
     "metadata": {},
     "output_type": "execute_result"
    }
   ],
   "source": [
    "dailySummaryData=dataRB.iloc[:,26:48]\n",
    "dailySummaryData.isnull().sum()\n"
   ]
  },
  {
   "cell_type": "markdown",
   "metadata": {
    "collapsed": true
   },
   "source": [
    "## Daily summary data has most nulls as it is calculated once daily. also all the SOD values are not present and either needs to be calculated or removed from the dataset to keep the hourly data consistent"
   ]
  },
  {
   "cell_type": "markdown",
   "metadata": {},
   "source": [
    "## the sunrise and sunset columns contains single value for all the rows. does not add much value"
   ]
  },
  {
   "cell_type": "code",
   "execution_count": 110,
   "metadata": {
    "collapsed": false
   },
   "outputs": [
    {
     "data": {
      "text/plain": [
       "MonthlyMinimumTemp                   724479\n",
       "MonthlyMeanTemp                      724479\n",
       "MonthlyAverageRH                     724623\n",
       "MonthlyDewpointTemp                  724623\n",
       "MonthlyWetBulbTemp                   724623\n",
       "MonthlyAvgHeatingDegreeDays          724622\n",
       "MonthlyAvgCoolingDegreeDays          724622\n",
       "MonthlyStationPressure               724496\n",
       "MonthlySeaLevelPressure              724496\n",
       "MonthlyAverageWindSpeed              724622\n",
       "MonthlyTotalSnowfall                 724137\n",
       "MonthlyDeptFromNormalMaximumTemp     724476\n",
       "MonthlyDeptFromNormalMinimumTemp     724479\n",
       "MonthlyDeptFromNormalAverageTemp     724479\n",
       "MonthlyDeptFromNormalPrecip          724493\n",
       "MonthlyTotalLiquidPrecip             724493\n",
       "MonthlyGreatestPrecip                724623\n",
       "MonthlyGreatestPrecipDate            724623\n",
       "MonthlyGreatestSnowfall              724510\n",
       "MonthlyGreatestSnowfallDate          724566\n",
       "MonthlyGreatestSnowDepth             724623\n",
       "MonthlyGreatestSnowDepthDate         724623\n",
       "MonthlyDaysWithGT90Temp              724480\n",
       "MonthlyDaysWithLT32Temp              724480\n",
       "MonthlyDaysWithGT32Temp              724480\n",
       "MonthlyDaysWithLT0Temp               724480\n",
       "MonthlyDaysWithGT001Precip           724623\n",
       "MonthlyDaysWithGT010Precip           724623\n",
       "MonthlyDaysWithGT1Snow               724622\n",
       "MonthlyMaxSeaLevelPressureValue      724623\n",
       "MonthlyMaxSeaLevelPressureDate            0\n",
       "MonthlyMaxSeaLevelPressureTime            0\n",
       "MonthlyMinSeaLevelPressureValue      724623\n",
       "MonthlyMinSeaLevelPressureDate            0\n",
       "MonthlyMinSeaLevelPressureTime            0\n",
       "MonthlyTotalHeatingDegreeDays        724475\n",
       "MonthlyTotalCoolingDegreeDays        724475\n",
       "MonthlyDeptFromNormalHeatingDD       724475\n",
       "MonthlyDeptFromNormalCoolingDD       724475\n",
       "MonthlyTotalSeasonToDateHeatingDD    724622\n",
       "MonthlyTotalSeasonToDateCoolingDD    724622\n",
       "dtype: int64"
      ]
     },
     "execution_count": 110,
     "metadata": {},
     "output_type": "execute_result"
    }
   ],
   "source": [
    "monthlySummaryData=dataRB.iloc[:,49:]\n",
    "monthlySummaryData.isnull().sum()"
   ]
  },
  {
   "cell_type": "markdown",
   "metadata": {
    "collapsed": true
   },
   "source": [
    "## MonthlyMaxSeaLevelPressureDate and MonthlyMaxSeaLevelPressureTime contains single value denoted by -9999 whic equates to missing observation .          0\n",
    "        "
   ]
  }
 ],
 "metadata": {
  "kernelspec": {
   "display_name": "Python 3",
   "language": "python",
   "name": "python3"
  },
  "language_info": {
   "codemirror_mode": {
    "name": "ipython",
    "version": 3
   },
   "file_extension": ".py",
   "mimetype": "text/x-python",
   "name": "python",
   "nbconvert_exporter": "python",
   "pygments_lexer": "ipython3",
   "version": "3.6.0"
  }
 },
 "nbformat": 4,
 "nbformat_minor": 2
}
